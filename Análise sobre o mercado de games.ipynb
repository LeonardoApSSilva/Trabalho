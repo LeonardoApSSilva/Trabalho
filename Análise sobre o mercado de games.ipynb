{
 "cells": [
  {
   "cell_type": "markdown",
   "metadata": {},
   "source": [
    "# Trabalho com base nos dados sobre jogos disponibilizados no **Kaggle**: *Video Games Sales* "
   ]
  },
  {
   "cell_type": "markdown",
   "metadata": {},
   "source": [
    "#### Para o início dos trabalhos é necessário utilizar a biblioteca **Pandas**, uma das mais utilizadas bibliotecas de **Python**, porque permite trabalhar com os dados desde a importação da base de dados para o início de sua manipulação, leitura e posterior visualização estruturada dos dados. Nesse sentido, a aplicação do **Pandas** é fundamental para qualquer análise de dados que utilize o sistema de programação **Python**, possuindo duas estruturas. A primeira é a *Series*, que deve possuir ao menos dois elementos: o índice e o rótulo; característica de série unidimensional e com proximidade de estrutura de uma lista. A segunda possibilidade são os *DataFrame*, base tradicional de planilhas como disposta no excel, com diversas colunas, sendo a primeira o índice e as demais os rótulos ou características de cada coluna."
   ]
  },
  {
   "cell_type": "code",
   "execution_count": 2,
   "metadata": {},
   "outputs": [],
   "source": [
    "import pandas as pd\n",
    "import numpy as np\n",
    "import matplotlib.pyplot as plt\n",
    "\n",
    "%matplotlib inline"
   ]
  },
  {
   "cell_type": "markdown",
   "metadata": {},
   "source": [
    "#### Após a importação das bibliotecas que podem ser utilizadas, o próximo passo é importar o arquivo (dataset) com os dados que serão analisados. Para a leitura dos dados ser realizada, o código com base no pandas utilizado é: pd.read_csv ou pd.read_xlsx ou pd.read_html, sendo que o correto depende de como a base de dados está salva no computador ou do local que foi baixada. Na sequência, ao aplicar o nome do objeto criado, com base no *dataset* de *games* (jogos), a pessoa consegue observar as cinco primeiras e últimas linhas, com suas respectivas colunas, apresentando os números de linhas e colunas no final."
   ]
  },
  {
   "cell_type": "code",
   "execution_count": 3,
   "metadata": {},
   "outputs": [
    {
     "data": {
      "text/html": [
       "<div>\n",
       "<style scoped>\n",
       "    .dataframe tbody tr th:only-of-type {\n",
       "        vertical-align: middle;\n",
       "    }\n",
       "\n",
       "    .dataframe tbody tr th {\n",
       "        vertical-align: top;\n",
       "    }\n",
       "\n",
       "    .dataframe thead th {\n",
       "        text-align: right;\n",
       "    }\n",
       "</style>\n",
       "<table border=\"1\" class=\"dataframe\">\n",
       "  <thead>\n",
       "    <tr style=\"text-align: right;\">\n",
       "      <th></th>\n",
       "      <th>Rank</th>\n",
       "      <th>Name</th>\n",
       "      <th>Platform</th>\n",
       "      <th>Year</th>\n",
       "      <th>Genre</th>\n",
       "      <th>Publisher</th>\n",
       "      <th>NA_Sales</th>\n",
       "      <th>EU_Sales</th>\n",
       "      <th>JP_Sales</th>\n",
       "      <th>Other_Sales</th>\n",
       "      <th>Global_Sales</th>\n",
       "    </tr>\n",
       "  </thead>\n",
       "  <tbody>\n",
       "    <tr>\n",
       "      <th>0</th>\n",
       "      <td>1</td>\n",
       "      <td>Wii Sports</td>\n",
       "      <td>Wii</td>\n",
       "      <td>2006.0</td>\n",
       "      <td>Sports</td>\n",
       "      <td>Nintendo</td>\n",
       "      <td>41.49</td>\n",
       "      <td>29.02</td>\n",
       "      <td>3.77</td>\n",
       "      <td>8.46</td>\n",
       "      <td>82.74</td>\n",
       "    </tr>\n",
       "    <tr>\n",
       "      <th>1</th>\n",
       "      <td>2</td>\n",
       "      <td>Super Mario Bros.</td>\n",
       "      <td>NES</td>\n",
       "      <td>1985.0</td>\n",
       "      <td>Platform</td>\n",
       "      <td>Nintendo</td>\n",
       "      <td>29.08</td>\n",
       "      <td>3.58</td>\n",
       "      <td>6.81</td>\n",
       "      <td>0.77</td>\n",
       "      <td>40.24</td>\n",
       "    </tr>\n",
       "    <tr>\n",
       "      <th>2</th>\n",
       "      <td>3</td>\n",
       "      <td>Mario Kart Wii</td>\n",
       "      <td>Wii</td>\n",
       "      <td>2008.0</td>\n",
       "      <td>Racing</td>\n",
       "      <td>Nintendo</td>\n",
       "      <td>15.85</td>\n",
       "      <td>12.88</td>\n",
       "      <td>3.79</td>\n",
       "      <td>3.31</td>\n",
       "      <td>35.82</td>\n",
       "    </tr>\n",
       "    <tr>\n",
       "      <th>3</th>\n",
       "      <td>4</td>\n",
       "      <td>Wii Sports Resort</td>\n",
       "      <td>Wii</td>\n",
       "      <td>2009.0</td>\n",
       "      <td>Sports</td>\n",
       "      <td>Nintendo</td>\n",
       "      <td>15.75</td>\n",
       "      <td>11.01</td>\n",
       "      <td>3.28</td>\n",
       "      <td>2.96</td>\n",
       "      <td>33.00</td>\n",
       "    </tr>\n",
       "    <tr>\n",
       "      <th>4</th>\n",
       "      <td>5</td>\n",
       "      <td>Pokemon Red/Pokemon Blue</td>\n",
       "      <td>GB</td>\n",
       "      <td>1996.0</td>\n",
       "      <td>Role-Playing</td>\n",
       "      <td>Nintendo</td>\n",
       "      <td>11.27</td>\n",
       "      <td>8.89</td>\n",
       "      <td>10.22</td>\n",
       "      <td>1.00</td>\n",
       "      <td>31.37</td>\n",
       "    </tr>\n",
       "    <tr>\n",
       "      <th>...</th>\n",
       "      <td>...</td>\n",
       "      <td>...</td>\n",
       "      <td>...</td>\n",
       "      <td>...</td>\n",
       "      <td>...</td>\n",
       "      <td>...</td>\n",
       "      <td>...</td>\n",
       "      <td>...</td>\n",
       "      <td>...</td>\n",
       "      <td>...</td>\n",
       "      <td>...</td>\n",
       "    </tr>\n",
       "    <tr>\n",
       "      <th>16593</th>\n",
       "      <td>16596</td>\n",
       "      <td>Woody Woodpecker in Crazy Castle 5</td>\n",
       "      <td>GBA</td>\n",
       "      <td>2002.0</td>\n",
       "      <td>Platform</td>\n",
       "      <td>Kemco</td>\n",
       "      <td>0.01</td>\n",
       "      <td>0.00</td>\n",
       "      <td>0.00</td>\n",
       "      <td>0.00</td>\n",
       "      <td>0.01</td>\n",
       "    </tr>\n",
       "    <tr>\n",
       "      <th>16594</th>\n",
       "      <td>16597</td>\n",
       "      <td>Men in Black II: Alien Escape</td>\n",
       "      <td>GC</td>\n",
       "      <td>2003.0</td>\n",
       "      <td>Shooter</td>\n",
       "      <td>Infogrames</td>\n",
       "      <td>0.01</td>\n",
       "      <td>0.00</td>\n",
       "      <td>0.00</td>\n",
       "      <td>0.00</td>\n",
       "      <td>0.01</td>\n",
       "    </tr>\n",
       "    <tr>\n",
       "      <th>16595</th>\n",
       "      <td>16598</td>\n",
       "      <td>SCORE International Baja 1000: The Official Game</td>\n",
       "      <td>PS2</td>\n",
       "      <td>2008.0</td>\n",
       "      <td>Racing</td>\n",
       "      <td>Activision</td>\n",
       "      <td>0.00</td>\n",
       "      <td>0.00</td>\n",
       "      <td>0.00</td>\n",
       "      <td>0.00</td>\n",
       "      <td>0.01</td>\n",
       "    </tr>\n",
       "    <tr>\n",
       "      <th>16596</th>\n",
       "      <td>16599</td>\n",
       "      <td>Know How 2</td>\n",
       "      <td>DS</td>\n",
       "      <td>2010.0</td>\n",
       "      <td>Puzzle</td>\n",
       "      <td>7G//AMES</td>\n",
       "      <td>0.00</td>\n",
       "      <td>0.01</td>\n",
       "      <td>0.00</td>\n",
       "      <td>0.00</td>\n",
       "      <td>0.01</td>\n",
       "    </tr>\n",
       "    <tr>\n",
       "      <th>16597</th>\n",
       "      <td>16600</td>\n",
       "      <td>Spirits &amp; Spells</td>\n",
       "      <td>GBA</td>\n",
       "      <td>2003.0</td>\n",
       "      <td>Platform</td>\n",
       "      <td>Wanadoo</td>\n",
       "      <td>0.01</td>\n",
       "      <td>0.00</td>\n",
       "      <td>0.00</td>\n",
       "      <td>0.00</td>\n",
       "      <td>0.01</td>\n",
       "    </tr>\n",
       "  </tbody>\n",
       "</table>\n",
       "<p>16598 rows × 11 columns</p>\n",
       "</div>"
      ],
      "text/plain": [
       "        Rank                                              Name Platform  \\\n",
       "0          1                                        Wii Sports      Wii   \n",
       "1          2                                 Super Mario Bros.      NES   \n",
       "2          3                                    Mario Kart Wii      Wii   \n",
       "3          4                                 Wii Sports Resort      Wii   \n",
       "4          5                          Pokemon Red/Pokemon Blue       GB   \n",
       "...      ...                                               ...      ...   \n",
       "16593  16596                Woody Woodpecker in Crazy Castle 5      GBA   \n",
       "16594  16597                     Men in Black II: Alien Escape       GC   \n",
       "16595  16598  SCORE International Baja 1000: The Official Game      PS2   \n",
       "16596  16599                                        Know How 2       DS   \n",
       "16597  16600                                  Spirits & Spells      GBA   \n",
       "\n",
       "         Year         Genre   Publisher  NA_Sales  EU_Sales  JP_Sales  \\\n",
       "0      2006.0        Sports    Nintendo     41.49     29.02      3.77   \n",
       "1      1985.0      Platform    Nintendo     29.08      3.58      6.81   \n",
       "2      2008.0        Racing    Nintendo     15.85     12.88      3.79   \n",
       "3      2009.0        Sports    Nintendo     15.75     11.01      3.28   \n",
       "4      1996.0  Role-Playing    Nintendo     11.27      8.89     10.22   \n",
       "...       ...           ...         ...       ...       ...       ...   \n",
       "16593  2002.0      Platform       Kemco      0.01      0.00      0.00   \n",
       "16594  2003.0       Shooter  Infogrames      0.01      0.00      0.00   \n",
       "16595  2008.0        Racing  Activision      0.00      0.00      0.00   \n",
       "16596  2010.0        Puzzle    7G//AMES      0.00      0.01      0.00   \n",
       "16597  2003.0      Platform     Wanadoo      0.01      0.00      0.00   \n",
       "\n",
       "       Other_Sales  Global_Sales  \n",
       "0             8.46         82.74  \n",
       "1             0.77         40.24  \n",
       "2             3.31         35.82  \n",
       "3             2.96         33.00  \n",
       "4             1.00         31.37  \n",
       "...            ...           ...  \n",
       "16593         0.00          0.01  \n",
       "16594         0.00          0.01  \n",
       "16595         0.00          0.01  \n",
       "16596         0.00          0.01  \n",
       "16597         0.00          0.01  \n",
       "\n",
       "[16598 rows x 11 columns]"
      ]
     },
     "execution_count": 3,
     "metadata": {},
     "output_type": "execute_result"
    }
   ],
   "source": [
    "game = pd.read_csv(\"vgsales.csv\")\n",
    "game"
   ]
  },
  {
   "cell_type": "markdown",
   "metadata": {},
   "source": [
    "#### Para realizar uma estrutura muito semelhante ao código acima (game), mas com os dados iniciais e finais separados, apresentando o nome de cada coluna em ambos elementos, os códigos abaixo demonstra essa dinâmica. Esses códigos são importantes caso seja necessário saber apenas certas quantidades dos primeiros ou últimos elementos, como demonstradas nos dois chunks subsequentes."
   ]
  },
  {
   "cell_type": "code",
   "execution_count": 4,
   "metadata": {},
   "outputs": [
    {
     "data": {
      "text/html": [
       "<div>\n",
       "<style scoped>\n",
       "    .dataframe tbody tr th:only-of-type {\n",
       "        vertical-align: middle;\n",
       "    }\n",
       "\n",
       "    .dataframe tbody tr th {\n",
       "        vertical-align: top;\n",
       "    }\n",
       "\n",
       "    .dataframe thead th {\n",
       "        text-align: right;\n",
       "    }\n",
       "</style>\n",
       "<table border=\"1\" class=\"dataframe\">\n",
       "  <thead>\n",
       "    <tr style=\"text-align: right;\">\n",
       "      <th></th>\n",
       "      <th>Rank</th>\n",
       "      <th>Name</th>\n",
       "      <th>Platform</th>\n",
       "      <th>Year</th>\n",
       "      <th>Genre</th>\n",
       "      <th>Publisher</th>\n",
       "      <th>NA_Sales</th>\n",
       "      <th>EU_Sales</th>\n",
       "      <th>JP_Sales</th>\n",
       "      <th>Other_Sales</th>\n",
       "      <th>Global_Sales</th>\n",
       "    </tr>\n",
       "  </thead>\n",
       "  <tbody>\n",
       "    <tr>\n",
       "      <th>0</th>\n",
       "      <td>1</td>\n",
       "      <td>Wii Sports</td>\n",
       "      <td>Wii</td>\n",
       "      <td>2006.0</td>\n",
       "      <td>Sports</td>\n",
       "      <td>Nintendo</td>\n",
       "      <td>41.49</td>\n",
       "      <td>29.02</td>\n",
       "      <td>3.77</td>\n",
       "      <td>8.46</td>\n",
       "      <td>82.74</td>\n",
       "    </tr>\n",
       "    <tr>\n",
       "      <th>1</th>\n",
       "      <td>2</td>\n",
       "      <td>Super Mario Bros.</td>\n",
       "      <td>NES</td>\n",
       "      <td>1985.0</td>\n",
       "      <td>Platform</td>\n",
       "      <td>Nintendo</td>\n",
       "      <td>29.08</td>\n",
       "      <td>3.58</td>\n",
       "      <td>6.81</td>\n",
       "      <td>0.77</td>\n",
       "      <td>40.24</td>\n",
       "    </tr>\n",
       "    <tr>\n",
       "      <th>2</th>\n",
       "      <td>3</td>\n",
       "      <td>Mario Kart Wii</td>\n",
       "      <td>Wii</td>\n",
       "      <td>2008.0</td>\n",
       "      <td>Racing</td>\n",
       "      <td>Nintendo</td>\n",
       "      <td>15.85</td>\n",
       "      <td>12.88</td>\n",
       "      <td>3.79</td>\n",
       "      <td>3.31</td>\n",
       "      <td>35.82</td>\n",
       "    </tr>\n",
       "    <tr>\n",
       "      <th>3</th>\n",
       "      <td>4</td>\n",
       "      <td>Wii Sports Resort</td>\n",
       "      <td>Wii</td>\n",
       "      <td>2009.0</td>\n",
       "      <td>Sports</td>\n",
       "      <td>Nintendo</td>\n",
       "      <td>15.75</td>\n",
       "      <td>11.01</td>\n",
       "      <td>3.28</td>\n",
       "      <td>2.96</td>\n",
       "      <td>33.00</td>\n",
       "    </tr>\n",
       "    <tr>\n",
       "      <th>4</th>\n",
       "      <td>5</td>\n",
       "      <td>Pokemon Red/Pokemon Blue</td>\n",
       "      <td>GB</td>\n",
       "      <td>1996.0</td>\n",
       "      <td>Role-Playing</td>\n",
       "      <td>Nintendo</td>\n",
       "      <td>11.27</td>\n",
       "      <td>8.89</td>\n",
       "      <td>10.22</td>\n",
       "      <td>1.00</td>\n",
       "      <td>31.37</td>\n",
       "    </tr>\n",
       "  </tbody>\n",
       "</table>\n",
       "</div>"
      ],
      "text/plain": [
       "   Rank                      Name Platform    Year         Genre Publisher  \\\n",
       "0     1                Wii Sports      Wii  2006.0        Sports  Nintendo   \n",
       "1     2         Super Mario Bros.      NES  1985.0      Platform  Nintendo   \n",
       "2     3            Mario Kart Wii      Wii  2008.0        Racing  Nintendo   \n",
       "3     4         Wii Sports Resort      Wii  2009.0        Sports  Nintendo   \n",
       "4     5  Pokemon Red/Pokemon Blue       GB  1996.0  Role-Playing  Nintendo   \n",
       "\n",
       "   NA_Sales  EU_Sales  JP_Sales  Other_Sales  Global_Sales  \n",
       "0     41.49     29.02      3.77         8.46         82.74  \n",
       "1     29.08      3.58      6.81         0.77         40.24  \n",
       "2     15.85     12.88      3.79         3.31         35.82  \n",
       "3     15.75     11.01      3.28         2.96         33.00  \n",
       "4     11.27      8.89     10.22         1.00         31.37  "
      ]
     },
     "metadata": {},
     "output_type": "display_data"
    },
    {
     "data": {
      "text/html": [
       "<div>\n",
       "<style scoped>\n",
       "    .dataframe tbody tr th:only-of-type {\n",
       "        vertical-align: middle;\n",
       "    }\n",
       "\n",
       "    .dataframe tbody tr th {\n",
       "        vertical-align: top;\n",
       "    }\n",
       "\n",
       "    .dataframe thead th {\n",
       "        text-align: right;\n",
       "    }\n",
       "</style>\n",
       "<table border=\"1\" class=\"dataframe\">\n",
       "  <thead>\n",
       "    <tr style=\"text-align: right;\">\n",
       "      <th></th>\n",
       "      <th>Rank</th>\n",
       "      <th>Name</th>\n",
       "      <th>Platform</th>\n",
       "      <th>Year</th>\n",
       "      <th>Genre</th>\n",
       "      <th>Publisher</th>\n",
       "      <th>NA_Sales</th>\n",
       "      <th>EU_Sales</th>\n",
       "      <th>JP_Sales</th>\n",
       "      <th>Other_Sales</th>\n",
       "      <th>Global_Sales</th>\n",
       "    </tr>\n",
       "  </thead>\n",
       "  <tbody>\n",
       "    <tr>\n",
       "      <th>16593</th>\n",
       "      <td>16596</td>\n",
       "      <td>Woody Woodpecker in Crazy Castle 5</td>\n",
       "      <td>GBA</td>\n",
       "      <td>2002.0</td>\n",
       "      <td>Platform</td>\n",
       "      <td>Kemco</td>\n",
       "      <td>0.01</td>\n",
       "      <td>0.00</td>\n",
       "      <td>0.0</td>\n",
       "      <td>0.0</td>\n",
       "      <td>0.01</td>\n",
       "    </tr>\n",
       "    <tr>\n",
       "      <th>16594</th>\n",
       "      <td>16597</td>\n",
       "      <td>Men in Black II: Alien Escape</td>\n",
       "      <td>GC</td>\n",
       "      <td>2003.0</td>\n",
       "      <td>Shooter</td>\n",
       "      <td>Infogrames</td>\n",
       "      <td>0.01</td>\n",
       "      <td>0.00</td>\n",
       "      <td>0.0</td>\n",
       "      <td>0.0</td>\n",
       "      <td>0.01</td>\n",
       "    </tr>\n",
       "    <tr>\n",
       "      <th>16595</th>\n",
       "      <td>16598</td>\n",
       "      <td>SCORE International Baja 1000: The Official Game</td>\n",
       "      <td>PS2</td>\n",
       "      <td>2008.0</td>\n",
       "      <td>Racing</td>\n",
       "      <td>Activision</td>\n",
       "      <td>0.00</td>\n",
       "      <td>0.00</td>\n",
       "      <td>0.0</td>\n",
       "      <td>0.0</td>\n",
       "      <td>0.01</td>\n",
       "    </tr>\n",
       "    <tr>\n",
       "      <th>16596</th>\n",
       "      <td>16599</td>\n",
       "      <td>Know How 2</td>\n",
       "      <td>DS</td>\n",
       "      <td>2010.0</td>\n",
       "      <td>Puzzle</td>\n",
       "      <td>7G//AMES</td>\n",
       "      <td>0.00</td>\n",
       "      <td>0.01</td>\n",
       "      <td>0.0</td>\n",
       "      <td>0.0</td>\n",
       "      <td>0.01</td>\n",
       "    </tr>\n",
       "    <tr>\n",
       "      <th>16597</th>\n",
       "      <td>16600</td>\n",
       "      <td>Spirits &amp; Spells</td>\n",
       "      <td>GBA</td>\n",
       "      <td>2003.0</td>\n",
       "      <td>Platform</td>\n",
       "      <td>Wanadoo</td>\n",
       "      <td>0.01</td>\n",
       "      <td>0.00</td>\n",
       "      <td>0.0</td>\n",
       "      <td>0.0</td>\n",
       "      <td>0.01</td>\n",
       "    </tr>\n",
       "  </tbody>\n",
       "</table>\n",
       "</div>"
      ],
      "text/plain": [
       "        Rank                                              Name Platform  \\\n",
       "16593  16596                Woody Woodpecker in Crazy Castle 5      GBA   \n",
       "16594  16597                     Men in Black II: Alien Escape       GC   \n",
       "16595  16598  SCORE International Baja 1000: The Official Game      PS2   \n",
       "16596  16599                                        Know How 2       DS   \n",
       "16597  16600                                  Spirits & Spells      GBA   \n",
       "\n",
       "         Year     Genre   Publisher  NA_Sales  EU_Sales  JP_Sales  \\\n",
       "16593  2002.0  Platform       Kemco      0.01      0.00       0.0   \n",
       "16594  2003.0   Shooter  Infogrames      0.01      0.00       0.0   \n",
       "16595  2008.0    Racing  Activision      0.00      0.00       0.0   \n",
       "16596  2010.0    Puzzle    7G//AMES      0.00      0.01       0.0   \n",
       "16597  2003.0  Platform     Wanadoo      0.01      0.00       0.0   \n",
       "\n",
       "       Other_Sales  Global_Sales  \n",
       "16593          0.0          0.01  \n",
       "16594          0.0          0.01  \n",
       "16595          0.0          0.01  \n",
       "16596          0.0          0.01  \n",
       "16597          0.0          0.01  "
      ]
     },
     "metadata": {},
     "output_type": "display_data"
    }
   ],
   "source": [
    "display(game.head())\n",
    "display(game.tail())"
   ]
  },
  {
   "cell_type": "markdown",
   "metadata": {},
   "source": [
    "#### Ao aplicar apenas o nome do objeto, as informações gerais são apresentadas a partir do padrão **Python**, primeiras e últimas 5 linhas. Caso queria ver somente as primeiras ou as últimas 5 linhas, o comando deve ser outro. Ainda, esse comando permite que sejam apresentadas a quantidade de linhas desejadas, independente de serem as primeiras ou as últimas, como é possível observar nos dois códigos abaixo. "
   ]
  },
  {
   "cell_type": "code",
   "execution_count": 5,
   "metadata": {},
   "outputs": [
    {
     "data": {
      "text/html": [
       "<div>\n",
       "<style scoped>\n",
       "    .dataframe tbody tr th:only-of-type {\n",
       "        vertical-align: middle;\n",
       "    }\n",
       "\n",
       "    .dataframe tbody tr th {\n",
       "        vertical-align: top;\n",
       "    }\n",
       "\n",
       "    .dataframe thead th {\n",
       "        text-align: right;\n",
       "    }\n",
       "</style>\n",
       "<table border=\"1\" class=\"dataframe\">\n",
       "  <thead>\n",
       "    <tr style=\"text-align: right;\">\n",
       "      <th></th>\n",
       "      <th>Rank</th>\n",
       "      <th>Name</th>\n",
       "      <th>Platform</th>\n",
       "      <th>Year</th>\n",
       "      <th>Genre</th>\n",
       "      <th>Publisher</th>\n",
       "      <th>NA_Sales</th>\n",
       "      <th>EU_Sales</th>\n",
       "      <th>JP_Sales</th>\n",
       "      <th>Other_Sales</th>\n",
       "      <th>Global_Sales</th>\n",
       "    </tr>\n",
       "  </thead>\n",
       "  <tbody>\n",
       "    <tr>\n",
       "      <th>0</th>\n",
       "      <td>1</td>\n",
       "      <td>Wii Sports</td>\n",
       "      <td>Wii</td>\n",
       "      <td>2006.0</td>\n",
       "      <td>Sports</td>\n",
       "      <td>Nintendo</td>\n",
       "      <td>41.49</td>\n",
       "      <td>29.02</td>\n",
       "      <td>3.77</td>\n",
       "      <td>8.46</td>\n",
       "      <td>82.74</td>\n",
       "    </tr>\n",
       "    <tr>\n",
       "      <th>1</th>\n",
       "      <td>2</td>\n",
       "      <td>Super Mario Bros.</td>\n",
       "      <td>NES</td>\n",
       "      <td>1985.0</td>\n",
       "      <td>Platform</td>\n",
       "      <td>Nintendo</td>\n",
       "      <td>29.08</td>\n",
       "      <td>3.58</td>\n",
       "      <td>6.81</td>\n",
       "      <td>0.77</td>\n",
       "      <td>40.24</td>\n",
       "    </tr>\n",
       "    <tr>\n",
       "      <th>2</th>\n",
       "      <td>3</td>\n",
       "      <td>Mario Kart Wii</td>\n",
       "      <td>Wii</td>\n",
       "      <td>2008.0</td>\n",
       "      <td>Racing</td>\n",
       "      <td>Nintendo</td>\n",
       "      <td>15.85</td>\n",
       "      <td>12.88</td>\n",
       "      <td>3.79</td>\n",
       "      <td>3.31</td>\n",
       "      <td>35.82</td>\n",
       "    </tr>\n",
       "    <tr>\n",
       "      <th>3</th>\n",
       "      <td>4</td>\n",
       "      <td>Wii Sports Resort</td>\n",
       "      <td>Wii</td>\n",
       "      <td>2009.0</td>\n",
       "      <td>Sports</td>\n",
       "      <td>Nintendo</td>\n",
       "      <td>15.75</td>\n",
       "      <td>11.01</td>\n",
       "      <td>3.28</td>\n",
       "      <td>2.96</td>\n",
       "      <td>33.00</td>\n",
       "    </tr>\n",
       "    <tr>\n",
       "      <th>4</th>\n",
       "      <td>5</td>\n",
       "      <td>Pokemon Red/Pokemon Blue</td>\n",
       "      <td>GB</td>\n",
       "      <td>1996.0</td>\n",
       "      <td>Role-Playing</td>\n",
       "      <td>Nintendo</td>\n",
       "      <td>11.27</td>\n",
       "      <td>8.89</td>\n",
       "      <td>10.22</td>\n",
       "      <td>1.00</td>\n",
       "      <td>31.37</td>\n",
       "    </tr>\n",
       "    <tr>\n",
       "      <th>5</th>\n",
       "      <td>6</td>\n",
       "      <td>Tetris</td>\n",
       "      <td>GB</td>\n",
       "      <td>1989.0</td>\n",
       "      <td>Puzzle</td>\n",
       "      <td>Nintendo</td>\n",
       "      <td>23.20</td>\n",
       "      <td>2.26</td>\n",
       "      <td>4.22</td>\n",
       "      <td>0.58</td>\n",
       "      <td>30.26</td>\n",
       "    </tr>\n",
       "    <tr>\n",
       "      <th>6</th>\n",
       "      <td>7</td>\n",
       "      <td>New Super Mario Bros.</td>\n",
       "      <td>DS</td>\n",
       "      <td>2006.0</td>\n",
       "      <td>Platform</td>\n",
       "      <td>Nintendo</td>\n",
       "      <td>11.38</td>\n",
       "      <td>9.23</td>\n",
       "      <td>6.50</td>\n",
       "      <td>2.90</td>\n",
       "      <td>30.01</td>\n",
       "    </tr>\n",
       "    <tr>\n",
       "      <th>7</th>\n",
       "      <td>8</td>\n",
       "      <td>Wii Play</td>\n",
       "      <td>Wii</td>\n",
       "      <td>2006.0</td>\n",
       "      <td>Misc</td>\n",
       "      <td>Nintendo</td>\n",
       "      <td>14.03</td>\n",
       "      <td>9.20</td>\n",
       "      <td>2.93</td>\n",
       "      <td>2.85</td>\n",
       "      <td>29.02</td>\n",
       "    </tr>\n",
       "    <tr>\n",
       "      <th>8</th>\n",
       "      <td>9</td>\n",
       "      <td>New Super Mario Bros. Wii</td>\n",
       "      <td>Wii</td>\n",
       "      <td>2009.0</td>\n",
       "      <td>Platform</td>\n",
       "      <td>Nintendo</td>\n",
       "      <td>14.59</td>\n",
       "      <td>7.06</td>\n",
       "      <td>4.70</td>\n",
       "      <td>2.26</td>\n",
       "      <td>28.62</td>\n",
       "    </tr>\n",
       "    <tr>\n",
       "      <th>9</th>\n",
       "      <td>10</td>\n",
       "      <td>Duck Hunt</td>\n",
       "      <td>NES</td>\n",
       "      <td>1984.0</td>\n",
       "      <td>Shooter</td>\n",
       "      <td>Nintendo</td>\n",
       "      <td>26.93</td>\n",
       "      <td>0.63</td>\n",
       "      <td>0.28</td>\n",
       "      <td>0.47</td>\n",
       "      <td>28.31</td>\n",
       "    </tr>\n",
       "    <tr>\n",
       "      <th>10</th>\n",
       "      <td>11</td>\n",
       "      <td>Nintendogs</td>\n",
       "      <td>DS</td>\n",
       "      <td>2005.0</td>\n",
       "      <td>Simulation</td>\n",
       "      <td>Nintendo</td>\n",
       "      <td>9.07</td>\n",
       "      <td>11.00</td>\n",
       "      <td>1.93</td>\n",
       "      <td>2.75</td>\n",
       "      <td>24.76</td>\n",
       "    </tr>\n",
       "    <tr>\n",
       "      <th>11</th>\n",
       "      <td>12</td>\n",
       "      <td>Mario Kart DS</td>\n",
       "      <td>DS</td>\n",
       "      <td>2005.0</td>\n",
       "      <td>Racing</td>\n",
       "      <td>Nintendo</td>\n",
       "      <td>9.81</td>\n",
       "      <td>7.57</td>\n",
       "      <td>4.13</td>\n",
       "      <td>1.92</td>\n",
       "      <td>23.42</td>\n",
       "    </tr>\n",
       "  </tbody>\n",
       "</table>\n",
       "</div>"
      ],
      "text/plain": [
       "    Rank                       Name Platform    Year         Genre Publisher  \\\n",
       "0      1                 Wii Sports      Wii  2006.0        Sports  Nintendo   \n",
       "1      2          Super Mario Bros.      NES  1985.0      Platform  Nintendo   \n",
       "2      3             Mario Kart Wii      Wii  2008.0        Racing  Nintendo   \n",
       "3      4          Wii Sports Resort      Wii  2009.0        Sports  Nintendo   \n",
       "4      5   Pokemon Red/Pokemon Blue       GB  1996.0  Role-Playing  Nintendo   \n",
       "5      6                     Tetris       GB  1989.0        Puzzle  Nintendo   \n",
       "6      7      New Super Mario Bros.       DS  2006.0      Platform  Nintendo   \n",
       "7      8                   Wii Play      Wii  2006.0          Misc  Nintendo   \n",
       "8      9  New Super Mario Bros. Wii      Wii  2009.0      Platform  Nintendo   \n",
       "9     10                  Duck Hunt      NES  1984.0       Shooter  Nintendo   \n",
       "10    11                 Nintendogs       DS  2005.0    Simulation  Nintendo   \n",
       "11    12              Mario Kart DS       DS  2005.0        Racing  Nintendo   \n",
       "\n",
       "    NA_Sales  EU_Sales  JP_Sales  Other_Sales  Global_Sales  \n",
       "0      41.49     29.02      3.77         8.46         82.74  \n",
       "1      29.08      3.58      6.81         0.77         40.24  \n",
       "2      15.85     12.88      3.79         3.31         35.82  \n",
       "3      15.75     11.01      3.28         2.96         33.00  \n",
       "4      11.27      8.89     10.22         1.00         31.37  \n",
       "5      23.20      2.26      4.22         0.58         30.26  \n",
       "6      11.38      9.23      6.50         2.90         30.01  \n",
       "7      14.03      9.20      2.93         2.85         29.02  \n",
       "8      14.59      7.06      4.70         2.26         28.62  \n",
       "9      26.93      0.63      0.28         0.47         28.31  \n",
       "10      9.07     11.00      1.93         2.75         24.76  \n",
       "11      9.81      7.57      4.13         1.92         23.42  "
      ]
     },
     "execution_count": 5,
     "metadata": {},
     "output_type": "execute_result"
    }
   ],
   "source": [
    "# Apresenta as 12 primeiras linhas.\n",
    "game.head(12)"
   ]
  },
  {
   "cell_type": "code",
   "execution_count": 6,
   "metadata": {},
   "outputs": [
    {
     "data": {
      "text/html": [
       "<div>\n",
       "<style scoped>\n",
       "    .dataframe tbody tr th:only-of-type {\n",
       "        vertical-align: middle;\n",
       "    }\n",
       "\n",
       "    .dataframe tbody tr th {\n",
       "        vertical-align: top;\n",
       "    }\n",
       "\n",
       "    .dataframe thead th {\n",
       "        text-align: right;\n",
       "    }\n",
       "</style>\n",
       "<table border=\"1\" class=\"dataframe\">\n",
       "  <thead>\n",
       "    <tr style=\"text-align: right;\">\n",
       "      <th></th>\n",
       "      <th>Rank</th>\n",
       "      <th>Name</th>\n",
       "      <th>Platform</th>\n",
       "      <th>Year</th>\n",
       "      <th>Genre</th>\n",
       "      <th>Publisher</th>\n",
       "      <th>NA_Sales</th>\n",
       "      <th>EU_Sales</th>\n",
       "      <th>JP_Sales</th>\n",
       "      <th>Other_Sales</th>\n",
       "      <th>Global_Sales</th>\n",
       "    </tr>\n",
       "  </thead>\n",
       "  <tbody>\n",
       "    <tr>\n",
       "      <th>16585</th>\n",
       "      <td>16588</td>\n",
       "      <td>Breach</td>\n",
       "      <td>PC</td>\n",
       "      <td>2011.0</td>\n",
       "      <td>Shooter</td>\n",
       "      <td>Destineer</td>\n",
       "      <td>0.01</td>\n",
       "      <td>0.00</td>\n",
       "      <td>0.00</td>\n",
       "      <td>0.0</td>\n",
       "      <td>0.01</td>\n",
       "    </tr>\n",
       "    <tr>\n",
       "      <th>16586</th>\n",
       "      <td>16589</td>\n",
       "      <td>Secret Files 2: Puritas Cordis</td>\n",
       "      <td>DS</td>\n",
       "      <td>2009.0</td>\n",
       "      <td>Adventure</td>\n",
       "      <td>Deep Silver</td>\n",
       "      <td>0.00</td>\n",
       "      <td>0.01</td>\n",
       "      <td>0.00</td>\n",
       "      <td>0.0</td>\n",
       "      <td>0.01</td>\n",
       "    </tr>\n",
       "    <tr>\n",
       "      <th>16587</th>\n",
       "      <td>16590</td>\n",
       "      <td>Mezase!! Tsuri Master DS</td>\n",
       "      <td>DS</td>\n",
       "      <td>2009.0</td>\n",
       "      <td>Sports</td>\n",
       "      <td>Hudson Soft</td>\n",
       "      <td>0.00</td>\n",
       "      <td>0.00</td>\n",
       "      <td>0.01</td>\n",
       "      <td>0.0</td>\n",
       "      <td>0.01</td>\n",
       "    </tr>\n",
       "    <tr>\n",
       "      <th>16588</th>\n",
       "      <td>16591</td>\n",
       "      <td>Mega Brain Boost</td>\n",
       "      <td>DS</td>\n",
       "      <td>2008.0</td>\n",
       "      <td>Puzzle</td>\n",
       "      <td>Majesco Entertainment</td>\n",
       "      <td>0.01</td>\n",
       "      <td>0.00</td>\n",
       "      <td>0.00</td>\n",
       "      <td>0.0</td>\n",
       "      <td>0.01</td>\n",
       "    </tr>\n",
       "    <tr>\n",
       "      <th>16589</th>\n",
       "      <td>16592</td>\n",
       "      <td>Chou Ezaru wa Akai Hana: Koi wa Tsuki ni Shiru...</td>\n",
       "      <td>PSV</td>\n",
       "      <td>2016.0</td>\n",
       "      <td>Action</td>\n",
       "      <td>dramatic create</td>\n",
       "      <td>0.00</td>\n",
       "      <td>0.00</td>\n",
       "      <td>0.01</td>\n",
       "      <td>0.0</td>\n",
       "      <td>0.01</td>\n",
       "    </tr>\n",
       "    <tr>\n",
       "      <th>16590</th>\n",
       "      <td>16593</td>\n",
       "      <td>Eiyuu Densetsu: Sora no Kiseki Material Collec...</td>\n",
       "      <td>PSP</td>\n",
       "      <td>2007.0</td>\n",
       "      <td>Role-Playing</td>\n",
       "      <td>Falcom Corporation</td>\n",
       "      <td>0.00</td>\n",
       "      <td>0.00</td>\n",
       "      <td>0.01</td>\n",
       "      <td>0.0</td>\n",
       "      <td>0.01</td>\n",
       "    </tr>\n",
       "    <tr>\n",
       "      <th>16591</th>\n",
       "      <td>16594</td>\n",
       "      <td>Myst IV: Revelation</td>\n",
       "      <td>PC</td>\n",
       "      <td>2004.0</td>\n",
       "      <td>Adventure</td>\n",
       "      <td>Ubisoft</td>\n",
       "      <td>0.01</td>\n",
       "      <td>0.00</td>\n",
       "      <td>0.00</td>\n",
       "      <td>0.0</td>\n",
       "      <td>0.01</td>\n",
       "    </tr>\n",
       "    <tr>\n",
       "      <th>16592</th>\n",
       "      <td>16595</td>\n",
       "      <td>Plushees</td>\n",
       "      <td>DS</td>\n",
       "      <td>2008.0</td>\n",
       "      <td>Simulation</td>\n",
       "      <td>Destineer</td>\n",
       "      <td>0.01</td>\n",
       "      <td>0.00</td>\n",
       "      <td>0.00</td>\n",
       "      <td>0.0</td>\n",
       "      <td>0.01</td>\n",
       "    </tr>\n",
       "    <tr>\n",
       "      <th>16593</th>\n",
       "      <td>16596</td>\n",
       "      <td>Woody Woodpecker in Crazy Castle 5</td>\n",
       "      <td>GBA</td>\n",
       "      <td>2002.0</td>\n",
       "      <td>Platform</td>\n",
       "      <td>Kemco</td>\n",
       "      <td>0.01</td>\n",
       "      <td>0.00</td>\n",
       "      <td>0.00</td>\n",
       "      <td>0.0</td>\n",
       "      <td>0.01</td>\n",
       "    </tr>\n",
       "    <tr>\n",
       "      <th>16594</th>\n",
       "      <td>16597</td>\n",
       "      <td>Men in Black II: Alien Escape</td>\n",
       "      <td>GC</td>\n",
       "      <td>2003.0</td>\n",
       "      <td>Shooter</td>\n",
       "      <td>Infogrames</td>\n",
       "      <td>0.01</td>\n",
       "      <td>0.00</td>\n",
       "      <td>0.00</td>\n",
       "      <td>0.0</td>\n",
       "      <td>0.01</td>\n",
       "    </tr>\n",
       "    <tr>\n",
       "      <th>16595</th>\n",
       "      <td>16598</td>\n",
       "      <td>SCORE International Baja 1000: The Official Game</td>\n",
       "      <td>PS2</td>\n",
       "      <td>2008.0</td>\n",
       "      <td>Racing</td>\n",
       "      <td>Activision</td>\n",
       "      <td>0.00</td>\n",
       "      <td>0.00</td>\n",
       "      <td>0.00</td>\n",
       "      <td>0.0</td>\n",
       "      <td>0.01</td>\n",
       "    </tr>\n",
       "    <tr>\n",
       "      <th>16596</th>\n",
       "      <td>16599</td>\n",
       "      <td>Know How 2</td>\n",
       "      <td>DS</td>\n",
       "      <td>2010.0</td>\n",
       "      <td>Puzzle</td>\n",
       "      <td>7G//AMES</td>\n",
       "      <td>0.00</td>\n",
       "      <td>0.01</td>\n",
       "      <td>0.00</td>\n",
       "      <td>0.0</td>\n",
       "      <td>0.01</td>\n",
       "    </tr>\n",
       "    <tr>\n",
       "      <th>16597</th>\n",
       "      <td>16600</td>\n",
       "      <td>Spirits &amp; Spells</td>\n",
       "      <td>GBA</td>\n",
       "      <td>2003.0</td>\n",
       "      <td>Platform</td>\n",
       "      <td>Wanadoo</td>\n",
       "      <td>0.01</td>\n",
       "      <td>0.00</td>\n",
       "      <td>0.00</td>\n",
       "      <td>0.0</td>\n",
       "      <td>0.01</td>\n",
       "    </tr>\n",
       "  </tbody>\n",
       "</table>\n",
       "</div>"
      ],
      "text/plain": [
       "        Rank                                               Name Platform  \\\n",
       "16585  16588                                             Breach       PC   \n",
       "16586  16589                     Secret Files 2: Puritas Cordis       DS   \n",
       "16587  16590                           Mezase!! Tsuri Master DS       DS   \n",
       "16588  16591                                   Mega Brain Boost       DS   \n",
       "16589  16592  Chou Ezaru wa Akai Hana: Koi wa Tsuki ni Shiru...      PSV   \n",
       "16590  16593  Eiyuu Densetsu: Sora no Kiseki Material Collec...      PSP   \n",
       "16591  16594                                Myst IV: Revelation       PC   \n",
       "16592  16595                                           Plushees       DS   \n",
       "16593  16596                 Woody Woodpecker in Crazy Castle 5      GBA   \n",
       "16594  16597                      Men in Black II: Alien Escape       GC   \n",
       "16595  16598   SCORE International Baja 1000: The Official Game      PS2   \n",
       "16596  16599                                         Know How 2       DS   \n",
       "16597  16600                                   Spirits & Spells      GBA   \n",
       "\n",
       "         Year         Genre              Publisher  NA_Sales  EU_Sales  \\\n",
       "16585  2011.0       Shooter              Destineer      0.01      0.00   \n",
       "16586  2009.0     Adventure            Deep Silver      0.00      0.01   \n",
       "16587  2009.0        Sports            Hudson Soft      0.00      0.00   \n",
       "16588  2008.0        Puzzle  Majesco Entertainment      0.01      0.00   \n",
       "16589  2016.0        Action        dramatic create      0.00      0.00   \n",
       "16590  2007.0  Role-Playing     Falcom Corporation      0.00      0.00   \n",
       "16591  2004.0     Adventure                Ubisoft      0.01      0.00   \n",
       "16592  2008.0    Simulation              Destineer      0.01      0.00   \n",
       "16593  2002.0      Platform                  Kemco      0.01      0.00   \n",
       "16594  2003.0       Shooter             Infogrames      0.01      0.00   \n",
       "16595  2008.0        Racing             Activision      0.00      0.00   \n",
       "16596  2010.0        Puzzle               7G//AMES      0.00      0.01   \n",
       "16597  2003.0      Platform                Wanadoo      0.01      0.00   \n",
       "\n",
       "       JP_Sales  Other_Sales  Global_Sales  \n",
       "16585      0.00          0.0          0.01  \n",
       "16586      0.00          0.0          0.01  \n",
       "16587      0.01          0.0          0.01  \n",
       "16588      0.00          0.0          0.01  \n",
       "16589      0.01          0.0          0.01  \n",
       "16590      0.01          0.0          0.01  \n",
       "16591      0.00          0.0          0.01  \n",
       "16592      0.00          0.0          0.01  \n",
       "16593      0.00          0.0          0.01  \n",
       "16594      0.00          0.0          0.01  \n",
       "16595      0.00          0.0          0.01  \n",
       "16596      0.00          0.0          0.01  \n",
       "16597      0.00          0.0          0.01  "
      ]
     },
     "execution_count": 6,
     "metadata": {},
     "output_type": "execute_result"
    }
   ],
   "source": [
    "# Apresenta as 13 últimas linhas.\n",
    "game.tail(13)\n"
   ]
  },
  {
   "cell_type": "markdown",
   "metadata": {},
   "source": [
    "#### Na continuação, o pandas permite que seja apresentada as informações gerais do *dataset* analisado. Enquanto a análise anterior trás a visualização da estrutura de dados (linhas e colunas), com o comando **.info()** são \"chamadas\" informações sobre os tipos de colunas, possibilidade de linha ou célula com dados faltantes (**null values**), nome de cada coluna, dentre outras. "
   ]
  },
  {
   "cell_type": "code",
   "execution_count": 7,
   "metadata": {},
   "outputs": [
    {
     "name": "stdout",
     "output_type": "stream",
     "text": [
      "<class 'pandas.core.frame.DataFrame'>\n",
      "RangeIndex: 16598 entries, 0 to 16597\n",
      "Data columns (total 11 columns):\n",
      " #   Column        Non-Null Count  Dtype  \n",
      "---  ------        --------------  -----  \n",
      " 0   Rank          16598 non-null  int64  \n",
      " 1   Name          16598 non-null  object \n",
      " 2   Platform      16598 non-null  object \n",
      " 3   Year          16327 non-null  float64\n",
      " 4   Genre         16598 non-null  object \n",
      " 5   Publisher     16540 non-null  object \n",
      " 6   NA_Sales      16598 non-null  float64\n",
      " 7   EU_Sales      16598 non-null  float64\n",
      " 8   JP_Sales      16598 non-null  float64\n",
      " 9   Other_Sales   16598 non-null  float64\n",
      " 10  Global_Sales  16598 non-null  float64\n",
      "dtypes: float64(6), int64(1), object(4)\n",
      "memory usage: 1.4+ MB\n"
     ]
    }
   ],
   "source": [
    "game.info()"
   ]
  },
  {
   "cell_type": "markdown",
   "metadata": {},
   "source": [
    "#### Os resultados provenientes das informações gerais, apresenta que, apesar de não existir nenhum colunca completamente com **null values**, algumas colunas possuem dados faltantes, são elas: **Year** e **Publisher**. Sendo assim, pode-se aplicar o comando *isna()* para identificar as células faltantes, principalmente quando é um *dataset* curto. Este código está apresentado abaixo. Caso queira saber a quantidade de **null values**, basta aplicar o código *is.na().sum()*, como apresentado no chunk subsequente."
   ]
  },
  {
   "cell_type": "code",
   "execution_count": 8,
   "metadata": {},
   "outputs": [
    {
     "data": {
      "text/html": [
       "<div>\n",
       "<style scoped>\n",
       "    .dataframe tbody tr th:only-of-type {\n",
       "        vertical-align: middle;\n",
       "    }\n",
       "\n",
       "    .dataframe tbody tr th {\n",
       "        vertical-align: top;\n",
       "    }\n",
       "\n",
       "    .dataframe thead th {\n",
       "        text-align: right;\n",
       "    }\n",
       "</style>\n",
       "<table border=\"1\" class=\"dataframe\">\n",
       "  <thead>\n",
       "    <tr style=\"text-align: right;\">\n",
       "      <th></th>\n",
       "      <th>Rank</th>\n",
       "      <th>Name</th>\n",
       "      <th>Platform</th>\n",
       "      <th>Year</th>\n",
       "      <th>Genre</th>\n",
       "      <th>Publisher</th>\n",
       "      <th>NA_Sales</th>\n",
       "      <th>EU_Sales</th>\n",
       "      <th>JP_Sales</th>\n",
       "      <th>Other_Sales</th>\n",
       "      <th>Global_Sales</th>\n",
       "    </tr>\n",
       "  </thead>\n",
       "  <tbody>\n",
       "    <tr>\n",
       "      <th>0</th>\n",
       "      <td>False</td>\n",
       "      <td>False</td>\n",
       "      <td>False</td>\n",
       "      <td>False</td>\n",
       "      <td>False</td>\n",
       "      <td>False</td>\n",
       "      <td>False</td>\n",
       "      <td>False</td>\n",
       "      <td>False</td>\n",
       "      <td>False</td>\n",
       "      <td>False</td>\n",
       "    </tr>\n",
       "    <tr>\n",
       "      <th>1</th>\n",
       "      <td>False</td>\n",
       "      <td>False</td>\n",
       "      <td>False</td>\n",
       "      <td>False</td>\n",
       "      <td>False</td>\n",
       "      <td>False</td>\n",
       "      <td>False</td>\n",
       "      <td>False</td>\n",
       "      <td>False</td>\n",
       "      <td>False</td>\n",
       "      <td>False</td>\n",
       "    </tr>\n",
       "    <tr>\n",
       "      <th>2</th>\n",
       "      <td>False</td>\n",
       "      <td>False</td>\n",
       "      <td>False</td>\n",
       "      <td>False</td>\n",
       "      <td>False</td>\n",
       "      <td>False</td>\n",
       "      <td>False</td>\n",
       "      <td>False</td>\n",
       "      <td>False</td>\n",
       "      <td>False</td>\n",
       "      <td>False</td>\n",
       "    </tr>\n",
       "    <tr>\n",
       "      <th>3</th>\n",
       "      <td>False</td>\n",
       "      <td>False</td>\n",
       "      <td>False</td>\n",
       "      <td>False</td>\n",
       "      <td>False</td>\n",
       "      <td>False</td>\n",
       "      <td>False</td>\n",
       "      <td>False</td>\n",
       "      <td>False</td>\n",
       "      <td>False</td>\n",
       "      <td>False</td>\n",
       "    </tr>\n",
       "    <tr>\n",
       "      <th>4</th>\n",
       "      <td>False</td>\n",
       "      <td>False</td>\n",
       "      <td>False</td>\n",
       "      <td>False</td>\n",
       "      <td>False</td>\n",
       "      <td>False</td>\n",
       "      <td>False</td>\n",
       "      <td>False</td>\n",
       "      <td>False</td>\n",
       "      <td>False</td>\n",
       "      <td>False</td>\n",
       "    </tr>\n",
       "    <tr>\n",
       "      <th>...</th>\n",
       "      <td>...</td>\n",
       "      <td>...</td>\n",
       "      <td>...</td>\n",
       "      <td>...</td>\n",
       "      <td>...</td>\n",
       "      <td>...</td>\n",
       "      <td>...</td>\n",
       "      <td>...</td>\n",
       "      <td>...</td>\n",
       "      <td>...</td>\n",
       "      <td>...</td>\n",
       "    </tr>\n",
       "    <tr>\n",
       "      <th>16593</th>\n",
       "      <td>False</td>\n",
       "      <td>False</td>\n",
       "      <td>False</td>\n",
       "      <td>False</td>\n",
       "      <td>False</td>\n",
       "      <td>False</td>\n",
       "      <td>False</td>\n",
       "      <td>False</td>\n",
       "      <td>False</td>\n",
       "      <td>False</td>\n",
       "      <td>False</td>\n",
       "    </tr>\n",
       "    <tr>\n",
       "      <th>16594</th>\n",
       "      <td>False</td>\n",
       "      <td>False</td>\n",
       "      <td>False</td>\n",
       "      <td>False</td>\n",
       "      <td>False</td>\n",
       "      <td>False</td>\n",
       "      <td>False</td>\n",
       "      <td>False</td>\n",
       "      <td>False</td>\n",
       "      <td>False</td>\n",
       "      <td>False</td>\n",
       "    </tr>\n",
       "    <tr>\n",
       "      <th>16595</th>\n",
       "      <td>False</td>\n",
       "      <td>False</td>\n",
       "      <td>False</td>\n",
       "      <td>False</td>\n",
       "      <td>False</td>\n",
       "      <td>False</td>\n",
       "      <td>False</td>\n",
       "      <td>False</td>\n",
       "      <td>False</td>\n",
       "      <td>False</td>\n",
       "      <td>False</td>\n",
       "    </tr>\n",
       "    <tr>\n",
       "      <th>16596</th>\n",
       "      <td>False</td>\n",
       "      <td>False</td>\n",
       "      <td>False</td>\n",
       "      <td>False</td>\n",
       "      <td>False</td>\n",
       "      <td>False</td>\n",
       "      <td>False</td>\n",
       "      <td>False</td>\n",
       "      <td>False</td>\n",
       "      <td>False</td>\n",
       "      <td>False</td>\n",
       "    </tr>\n",
       "    <tr>\n",
       "      <th>16597</th>\n",
       "      <td>False</td>\n",
       "      <td>False</td>\n",
       "      <td>False</td>\n",
       "      <td>False</td>\n",
       "      <td>False</td>\n",
       "      <td>False</td>\n",
       "      <td>False</td>\n",
       "      <td>False</td>\n",
       "      <td>False</td>\n",
       "      <td>False</td>\n",
       "      <td>False</td>\n",
       "    </tr>\n",
       "  </tbody>\n",
       "</table>\n",
       "<p>16598 rows × 11 columns</p>\n",
       "</div>"
      ],
      "text/plain": [
       "        Rank   Name  Platform   Year  Genre  Publisher  NA_Sales  EU_Sales  \\\n",
       "0      False  False     False  False  False      False     False     False   \n",
       "1      False  False     False  False  False      False     False     False   \n",
       "2      False  False     False  False  False      False     False     False   \n",
       "3      False  False     False  False  False      False     False     False   \n",
       "4      False  False     False  False  False      False     False     False   \n",
       "...      ...    ...       ...    ...    ...        ...       ...       ...   \n",
       "16593  False  False     False  False  False      False     False     False   \n",
       "16594  False  False     False  False  False      False     False     False   \n",
       "16595  False  False     False  False  False      False     False     False   \n",
       "16596  False  False     False  False  False      False     False     False   \n",
       "16597  False  False     False  False  False      False     False     False   \n",
       "\n",
       "       JP_Sales  Other_Sales  Global_Sales  \n",
       "0         False        False         False  \n",
       "1         False        False         False  \n",
       "2         False        False         False  \n",
       "3         False        False         False  \n",
       "4         False        False         False  \n",
       "...         ...          ...           ...  \n",
       "16593     False        False         False  \n",
       "16594     False        False         False  \n",
       "16595     False        False         False  \n",
       "16596     False        False         False  \n",
       "16597     False        False         False  \n",
       "\n",
       "[16598 rows x 11 columns]"
      ]
     },
     "execution_count": 8,
     "metadata": {},
     "output_type": "execute_result"
    }
   ],
   "source": [
    "game.isna()"
   ]
  },
  {
   "cell_type": "code",
   "execution_count": 9,
   "metadata": {},
   "outputs": [
    {
     "data": {
      "text/plain": [
       "Rank              0\n",
       "Name              0\n",
       "Platform          0\n",
       "Year            271\n",
       "Genre             0\n",
       "Publisher        58\n",
       "NA_Sales          0\n",
       "EU_Sales          0\n",
       "JP_Sales          0\n",
       "Other_Sales       0\n",
       "Global_Sales      0\n",
       "dtype: int64"
      ]
     },
     "execution_count": 9,
     "metadata": {},
     "output_type": "execute_result"
    }
   ],
   "source": [
    "# Apresentar os dados faltantes.\n",
    "game.isna().sum()"
   ]
  },
  {
   "cell_type": "markdown",
   "metadata": {},
   "source": [
    "#### Como existem *missing values* nas colunas *Year* (anos 271) e *Publisher* (desenvolvedora - 58), demonstrado no código acima, é necessário retirar esses valores \"NA\" da amostra de dados para que as próximas análises não estejam incorrentas ou viesadas. Como aqui trata-se de uma análise exploratória sobre os dados de jogos, o método escolhido para tratar os dados faltantes foi o de simplesmentes retirar da amostras, como realizado no código abaixo."
   ]
  },
  {
   "cell_type": "code",
   "execution_count": 10,
   "metadata": {},
   "outputs": [
    {
     "name": "stdout",
     "output_type": "stream",
     "text": [
      "<class 'pandas.core.frame.DataFrame'>\n",
      "Int64Index: 16291 entries, 0 to 16597\n",
      "Data columns (total 11 columns):\n",
      " #   Column        Non-Null Count  Dtype  \n",
      "---  ------        --------------  -----  \n",
      " 0   Rank          16291 non-null  int64  \n",
      " 1   Name          16291 non-null  object \n",
      " 2   Platform      16291 non-null  object \n",
      " 3   Year          16291 non-null  float64\n",
      " 4   Genre         16291 non-null  object \n",
      " 5   Publisher     16291 non-null  object \n",
      " 6   NA_Sales      16291 non-null  float64\n",
      " 7   EU_Sales      16291 non-null  float64\n",
      " 8   JP_Sales      16291 non-null  float64\n",
      " 9   Other_Sales   16291 non-null  float64\n",
      " 10  Global_Sales  16291 non-null  float64\n",
      "dtypes: float64(6), int64(1), object(4)\n",
      "memory usage: 1.5+ MB\n"
     ]
    }
   ],
   "source": [
    "game.dropna(how=\"any\", inplace= True)\n",
    "game.info()"
   ]
  },
  {
   "cell_type": "markdown",
   "metadata": {},
   "source": [
    "#### As análises com base em séries temporais ou anos podem ser aplicadas em diferentes períodos, sendo as divisões mais comuns a **anual**, **trimestral** e **mensal**. Quando trabalhado no código acima para compreender que tipo de estrutura estava em cada vetor (coluna), a que se refere ao ano (*Year*) apontou ser um objeto do tipo *float64*. Caso a análise fosse em trimestre ou mensal, é uma estrutura de dado que faz total sentido, apontando para o ano e mês ou trimestre. Entretanto, o foco da análise está sobre cada ano, sem considerar o mês ou trimestre do jogo, durante cada um desses anos. Assim, o código abaixo tem como objetivo transformar a variável *Year* para o tipo inteiro (int)."
   ]
  },
  {
   "cell_type": "code",
   "execution_count": 11,
   "metadata": {},
   "outputs": [
    {
     "data": {
      "text/html": [
       "<div>\n",
       "<style scoped>\n",
       "    .dataframe tbody tr th:only-of-type {\n",
       "        vertical-align: middle;\n",
       "    }\n",
       "\n",
       "    .dataframe tbody tr th {\n",
       "        vertical-align: top;\n",
       "    }\n",
       "\n",
       "    .dataframe thead th {\n",
       "        text-align: right;\n",
       "    }\n",
       "</style>\n",
       "<table border=\"1\" class=\"dataframe\">\n",
       "  <thead>\n",
       "    <tr style=\"text-align: right;\">\n",
       "      <th></th>\n",
       "      <th>Rank</th>\n",
       "      <th>Name</th>\n",
       "      <th>Platform</th>\n",
       "      <th>Year</th>\n",
       "      <th>Genre</th>\n",
       "      <th>Publisher</th>\n",
       "      <th>NA_Sales</th>\n",
       "      <th>EU_Sales</th>\n",
       "      <th>JP_Sales</th>\n",
       "      <th>Other_Sales</th>\n",
       "      <th>Global_Sales</th>\n",
       "    </tr>\n",
       "  </thead>\n",
       "  <tbody>\n",
       "    <tr>\n",
       "      <th>0</th>\n",
       "      <td>1</td>\n",
       "      <td>Wii Sports</td>\n",
       "      <td>Wii</td>\n",
       "      <td>2006</td>\n",
       "      <td>Sports</td>\n",
       "      <td>Nintendo</td>\n",
       "      <td>41.49</td>\n",
       "      <td>29.02</td>\n",
       "      <td>3.77</td>\n",
       "      <td>8.46</td>\n",
       "      <td>82.74</td>\n",
       "    </tr>\n",
       "    <tr>\n",
       "      <th>1</th>\n",
       "      <td>2</td>\n",
       "      <td>Super Mario Bros.</td>\n",
       "      <td>NES</td>\n",
       "      <td>1985</td>\n",
       "      <td>Platform</td>\n",
       "      <td>Nintendo</td>\n",
       "      <td>29.08</td>\n",
       "      <td>3.58</td>\n",
       "      <td>6.81</td>\n",
       "      <td>0.77</td>\n",
       "      <td>40.24</td>\n",
       "    </tr>\n",
       "    <tr>\n",
       "      <th>2</th>\n",
       "      <td>3</td>\n",
       "      <td>Mario Kart Wii</td>\n",
       "      <td>Wii</td>\n",
       "      <td>2008</td>\n",
       "      <td>Racing</td>\n",
       "      <td>Nintendo</td>\n",
       "      <td>15.85</td>\n",
       "      <td>12.88</td>\n",
       "      <td>3.79</td>\n",
       "      <td>3.31</td>\n",
       "      <td>35.82</td>\n",
       "    </tr>\n",
       "    <tr>\n",
       "      <th>3</th>\n",
       "      <td>4</td>\n",
       "      <td>Wii Sports Resort</td>\n",
       "      <td>Wii</td>\n",
       "      <td>2009</td>\n",
       "      <td>Sports</td>\n",
       "      <td>Nintendo</td>\n",
       "      <td>15.75</td>\n",
       "      <td>11.01</td>\n",
       "      <td>3.28</td>\n",
       "      <td>2.96</td>\n",
       "      <td>33.00</td>\n",
       "    </tr>\n",
       "    <tr>\n",
       "      <th>4</th>\n",
       "      <td>5</td>\n",
       "      <td>Pokemon Red/Pokemon Blue</td>\n",
       "      <td>GB</td>\n",
       "      <td>1996</td>\n",
       "      <td>Role-Playing</td>\n",
       "      <td>Nintendo</td>\n",
       "      <td>11.27</td>\n",
       "      <td>8.89</td>\n",
       "      <td>10.22</td>\n",
       "      <td>1.00</td>\n",
       "      <td>31.37</td>\n",
       "    </tr>\n",
       "  </tbody>\n",
       "</table>\n",
       "</div>"
      ],
      "text/plain": [
       "   Rank                      Name Platform  Year         Genre Publisher  \\\n",
       "0     1                Wii Sports      Wii  2006        Sports  Nintendo   \n",
       "1     2         Super Mario Bros.      NES  1985      Platform  Nintendo   \n",
       "2     3            Mario Kart Wii      Wii  2008        Racing  Nintendo   \n",
       "3     4         Wii Sports Resort      Wii  2009        Sports  Nintendo   \n",
       "4     5  Pokemon Red/Pokemon Blue       GB  1996  Role-Playing  Nintendo   \n",
       "\n",
       "   NA_Sales  EU_Sales  JP_Sales  Other_Sales  Global_Sales  \n",
       "0     41.49     29.02      3.77         8.46         82.74  \n",
       "1     29.08      3.58      6.81         0.77         40.24  \n",
       "2     15.85     12.88      3.79         3.31         35.82  \n",
       "3     15.75     11.01      3.28         2.96         33.00  \n",
       "4     11.27      8.89     10.22         1.00         31.37  "
      ]
     },
     "execution_count": 11,
     "metadata": {},
     "output_type": "execute_result"
    }
   ],
   "source": [
    "game.Year = game.Year.astype(int)\n",
    "\n",
    "game.head()    "
   ]
  },
  {
   "cell_type": "markdown",
   "metadata": {},
   "source": [
    "#### A explicação a seguir refere-se aos próximos três códigos trabalhados:\n",
    "#### 1 - Caso queira saber quantos valores tem a tabela, somatório de todos elementos da matriz (linhas e colunas), através do código *size*. O valor resultante desta operação para o grupo do *dataset* games é 182578, lembrando que as linhas começam a partir do **ZERO**, não bastando somente multiplicar o número de linhas por colunas. \n",
    "#### 2 - Por meio do comando *shape*, é possível chegar a matriz que leva a multiplicação do comando *size*, ou seja, considera o valor de 16598 linhas (vai da linha zero até a 16597) e 11 colunas, sendo o resultado de 182578. \n",
    "#### 3 - Por fim, através do comando *dtypes* é possível saber o tipo de cada coluna que o *dataframe* possui, permitindo o conhecimento da estrutura geral dos dados e já direcionando para possíveis modificações na estrutura de um ou mais vetores para aprimorar a efetividade dos modelos trabalhados.\n"
   ]
  },
  {
   "cell_type": "code",
   "execution_count": 12,
   "metadata": {},
   "outputs": [
    {
     "data": {
      "text/plain": [
       "179201"
      ]
     },
     "execution_count": 12,
     "metadata": {},
     "output_type": "execute_result"
    }
   ],
   "source": [
    "game.size"
   ]
  },
  {
   "cell_type": "code",
   "execution_count": 13,
   "metadata": {},
   "outputs": [
    {
     "data": {
      "text/plain": [
       "(16291, 11)"
      ]
     },
     "execution_count": 13,
     "metadata": {},
     "output_type": "execute_result"
    }
   ],
   "source": [
    "# número de linhas e colunas, se colocar (0), apresenta s linhas e (1) as colunas.\n",
    "game.shape"
   ]
  },
  {
   "cell_type": "code",
   "execution_count": 14,
   "metadata": {},
   "outputs": [
    {
     "data": {
      "text/plain": [
       "Rank              int64\n",
       "Name             object\n",
       "Platform         object\n",
       "Year              int32\n",
       "Genre            object\n",
       "Publisher        object\n",
       "NA_Sales        float64\n",
       "EU_Sales        float64\n",
       "JP_Sales        float64\n",
       "Other_Sales     float64\n",
       "Global_Sales    float64\n",
       "dtype: object"
      ]
     },
     "execution_count": 14,
     "metadata": {},
     "output_type": "execute_result"
    }
   ],
   "source": [
    "game.dtypes"
   ]
  },
  {
   "cell_type": "markdown",
   "metadata": {},
   "source": [
    "#### No código acima são apresentadas todas as colunas e suas respectivas estruturas. Contudo, caso seja necessário acessar rapidamente o nome de uma coluna para implementar em algum outro código, talvez um código mais interessante seja apenar trazer as colunas em um formato de lista (listar colunas), por meio do código *columns* a seguir."
   ]
  },
  {
   "cell_type": "code",
   "execution_count": 15,
   "metadata": {},
   "outputs": [
    {
     "data": {
      "text/plain": [
       "Index(['Rank', 'Name', 'Platform', 'Year', 'Genre', 'Publisher', 'NA_Sales',\n",
       "       'EU_Sales', 'JP_Sales', 'Other_Sales', 'Global_Sales'],\n",
       "      dtype='object')"
      ]
     },
     "execution_count": 15,
     "metadata": {},
     "output_type": "execute_result"
    }
   ],
   "source": [
    "# Lista colunas\n",
    "game.columns"
   ]
  },
  {
   "cell_type": "code",
   "execution_count": 16,
   "metadata": {},
   "outputs": [
    {
     "data": {
      "text/plain": [
       "Int64Index([    0,     1,     2,     3,     4,     5,     6,     7,     8,\n",
       "                9,\n",
       "            ...\n",
       "            16588, 16589, 16590, 16591, 16592, 16593, 16594, 16595, 16596,\n",
       "            16597],\n",
       "           dtype='int64', length=16291)"
      ]
     },
     "execution_count": 16,
     "metadata": {},
     "output_type": "execute_result"
    }
   ],
   "source": [
    "# Apresenta o tamanho do índice.\n",
    "game.index"
   ]
  },
  {
   "cell_type": "markdown",
   "metadata": {},
   "source": [
    "#### Até o momento foram trabalhados códigos que permitem aprsentar a estrutura geral dos dados do *dataframe* que envolve os jogos para consoles e pc, com os respectivos nomes de colunas, tipos, estruturas e quantidades de dados, dentre outras informações. Logo abaixo, o foco passa a ser sobre uma análise mais específica dos dados, procurando observar certas características em um ou mais vetor da matriz de jogos. Uma primeira aplicação desta análise, pode ser realizada através do código *filter* que envolve a seleção de alguns vetores específicos da amostra de dados. Um detalhe importante é que a ordem em que são disponibilizados os nomes dos vededores importam. De outro modo, no *dataset* original a sequência é dada por *rank* e *name*, contudo, caso inverta os nomes da hora de filtrar, prevalece a sequência do filtro. Com o filtro abaixo, são apresentados apenas os jogos mais vendidos dentro todos os consoles e os menos vendidos. Cabe ressaltar que para o caso dos menos vendidos são aqueles pertencentes ao grupo de jogos que chegaram ao menos a cem mil unidades vendidas (100.000), não se enquadrando em jogos com fracasso nas vendas diretamente, uma análise mais profunda dependeria de saber o investimento realizado na produção do jogo."
   ]
  },
  {
   "cell_type": "code",
   "execution_count": 17,
   "metadata": {},
   "outputs": [
    {
     "data": {
      "text/html": [
       "<div>\n",
       "<style scoped>\n",
       "    .dataframe tbody tr th:only-of-type {\n",
       "        vertical-align: middle;\n",
       "    }\n",
       "\n",
       "    .dataframe tbody tr th {\n",
       "        vertical-align: top;\n",
       "    }\n",
       "\n",
       "    .dataframe thead th {\n",
       "        text-align: right;\n",
       "    }\n",
       "</style>\n",
       "<table border=\"1\" class=\"dataframe\">\n",
       "  <thead>\n",
       "    <tr style=\"text-align: right;\">\n",
       "      <th></th>\n",
       "      <th>Name</th>\n",
       "      <th>Rank</th>\n",
       "    </tr>\n",
       "  </thead>\n",
       "  <tbody>\n",
       "    <tr>\n",
       "      <th>0</th>\n",
       "      <td>Wii Sports</td>\n",
       "      <td>1</td>\n",
       "    </tr>\n",
       "    <tr>\n",
       "      <th>1</th>\n",
       "      <td>Super Mario Bros.</td>\n",
       "      <td>2</td>\n",
       "    </tr>\n",
       "    <tr>\n",
       "      <th>2</th>\n",
       "      <td>Mario Kart Wii</td>\n",
       "      <td>3</td>\n",
       "    </tr>\n",
       "    <tr>\n",
       "      <th>3</th>\n",
       "      <td>Wii Sports Resort</td>\n",
       "      <td>4</td>\n",
       "    </tr>\n",
       "    <tr>\n",
       "      <th>4</th>\n",
       "      <td>Pokemon Red/Pokemon Blue</td>\n",
       "      <td>5</td>\n",
       "    </tr>\n",
       "    <tr>\n",
       "      <th>...</th>\n",
       "      <td>...</td>\n",
       "      <td>...</td>\n",
       "    </tr>\n",
       "    <tr>\n",
       "      <th>16593</th>\n",
       "      <td>Woody Woodpecker in Crazy Castle 5</td>\n",
       "      <td>16596</td>\n",
       "    </tr>\n",
       "    <tr>\n",
       "      <th>16594</th>\n",
       "      <td>Men in Black II: Alien Escape</td>\n",
       "      <td>16597</td>\n",
       "    </tr>\n",
       "    <tr>\n",
       "      <th>16595</th>\n",
       "      <td>SCORE International Baja 1000: The Official Game</td>\n",
       "      <td>16598</td>\n",
       "    </tr>\n",
       "    <tr>\n",
       "      <th>16596</th>\n",
       "      <td>Know How 2</td>\n",
       "      <td>16599</td>\n",
       "    </tr>\n",
       "    <tr>\n",
       "      <th>16597</th>\n",
       "      <td>Spirits &amp; Spells</td>\n",
       "      <td>16600</td>\n",
       "    </tr>\n",
       "  </tbody>\n",
       "</table>\n",
       "<p>16291 rows × 2 columns</p>\n",
       "</div>"
      ],
      "text/plain": [
       "                                                   Name   Rank\n",
       "0                                            Wii Sports      1\n",
       "1                                     Super Mario Bros.      2\n",
       "2                                        Mario Kart Wii      3\n",
       "3                                     Wii Sports Resort      4\n",
       "4                              Pokemon Red/Pokemon Blue      5\n",
       "...                                                 ...    ...\n",
       "16593                Woody Woodpecker in Crazy Castle 5  16596\n",
       "16594                     Men in Black II: Alien Escape  16597\n",
       "16595  SCORE International Baja 1000: The Official Game  16598\n",
       "16596                                        Know How 2  16599\n",
       "16597                                  Spirits & Spells  16600\n",
       "\n",
       "[16291 rows x 2 columns]"
      ]
     },
     "execution_count": 17,
     "metadata": {},
     "output_type": "execute_result"
    }
   ],
   "source": [
    "# Filtra uma ou mais colunas.\n",
    "\n",
    "game.filter([\"Name\", \"Rank\"])"
   ]
  },
  {
   "cell_type": "markdown",
   "metadata": {},
   "source": [
    "#### Dando sequência no processo de filtrar as informações mais relevantes ou importantes para determinado objetivo, com o código abaixo é possível observar todas as informações contidas em uma coluna (vetor). No caso deste trabalho, optei por filtar a coluna 3 (\"Platform\"), porque é uma informação muito útil saber quais plataformas possuem os jogos mais vendidos durante o período analisado, demonstrando a própria habilidade da organização em produzir ou escolher jogos que sejam rentáveis para a empresa e vantajosos para os consumidores. Já no código subsequente, é possível saber a quantidade de repetição de cada um dessas plataformas de jogos eletrônicos, apresentando quais obtiveram maior sucesso durante o período de análise."
   ]
  },
  {
   "cell_type": "code",
   "execution_count": 18,
   "metadata": {},
   "outputs": [
    {
     "data": {
      "text/plain": [
       "array(['Wii', 'NES', 'GB', 'DS', 'X360', 'PS3', 'PS2', 'SNES', 'GBA',\n",
       "       '3DS', 'PS4', 'N64', 'PS', 'XB', 'PC', '2600', 'PSP', 'XOne', 'GC',\n",
       "       'WiiU', 'GEN', 'DC', 'PSV', 'SAT', 'SCD', 'WS', 'NG', 'TG16',\n",
       "       '3DO', 'GG', 'PCFX'], dtype=object)"
      ]
     },
     "execution_count": 18,
     "metadata": {},
     "output_type": "execute_result"
    }
   ],
   "source": [
    "game[\"Platform\"].unique()"
   ]
  },
  {
   "cell_type": "code",
   "execution_count": 19,
   "metadata": {},
   "outputs": [
    {
     "data": {
      "text/plain": [
       "DS      2131\n",
       "PS2     2127\n",
       "PS3     1304\n",
       "Wii     1290\n",
       "X360    1234\n",
       "PSP     1197\n",
       "PS      1189\n",
       "PC       938\n",
       "XB       803\n",
       "GBA      786\n",
       "GC       542\n",
       "3DS      499\n",
       "PSV      410\n",
       "PS4      336\n",
       "N64      316\n",
       "SNES     239\n",
       "XOne     213\n",
       "SAT      173\n",
       "WiiU     143\n",
       "2600     116\n",
       "NES       98\n",
       "GB        97\n",
       "DC        52\n",
       "GEN       27\n",
       "NG        12\n",
       "SCD        6\n",
       "WS         6\n",
       "3DO        3\n",
       "TG16       2\n",
       "GG         1\n",
       "PCFX       1\n",
       "Name: Platform, dtype: int64"
      ]
     },
     "execution_count": 19,
     "metadata": {},
     "output_type": "execute_result"
    }
   ],
   "source": [
    "game[\"Platform\"].value_counts()"
   ]
  },
  {
   "cell_type": "markdown",
   "metadata": {},
   "source": [
    "#### Neste filtro, a disputa pela primeira colocação de plataforma com jogos com mais de 100 mil unidades vendidas foi bastante acirrada, com o vídeo game portátil da Nintendo (DS) ficando na primeira posição e o vídeo game tradicional da Sony (*Playstation* 2) na segunda colocação. Vale destacar a maior praticidade do dispositivo da nintendo, porque pode ser levado para diferentes lugares, tornando mais dinâmica a possibilidade de jogos, sendo este, um fator que pode ter contribuido para as preferências dos consumidores.\n",
    "\n",
    "#### Uma outra forma de aplicara a mesma análise, é utilizar as técnicas de porcentagem para analisar o peso de cada plataforma (console) em relação ao total de jogos com mais de 100 mil unidades vendidas, como no código abaixo."
   ]
  },
  {
   "cell_type": "code",
   "execution_count": 20,
   "metadata": {},
   "outputs": [
    {
     "data": {
      "text/plain": [
       "DS      0.130808\n",
       "PS2     0.130563\n",
       "PS3     0.080044\n",
       "Wii     0.079185\n",
       "X360    0.075747\n",
       "PSP     0.073476\n",
       "PS      0.072985\n",
       "PC      0.057578\n",
       "XB      0.049291\n",
       "GBA     0.048247\n",
       "GC      0.033270\n",
       "3DS     0.030630\n",
       "PSV     0.025167\n",
       "PS4     0.020625\n",
       "N64     0.019397\n",
       "SNES    0.014671\n",
       "XOne    0.013075\n",
       "SAT     0.010619\n",
       "WiiU    0.008778\n",
       "2600    0.007120\n",
       "NES     0.006016\n",
       "GB      0.005954\n",
       "DC      0.003192\n",
       "GEN     0.001657\n",
       "NG      0.000737\n",
       "SCD     0.000368\n",
       "WS      0.000368\n",
       "3DO     0.000184\n",
       "TG16    0.000123\n",
       "GG      0.000061\n",
       "PCFX    0.000061\n",
       "Name: Platform, dtype: float64"
      ]
     },
     "execution_count": 20,
     "metadata": {},
     "output_type": "execute_result"
    }
   ],
   "source": [
    "game[\"Platform\"].value_counts(normalize=True)"
   ]
  },
  {
   "cell_type": "code",
   "execution_count": 21,
   "metadata": {},
   "outputs": [
    {
     "data": {
      "text/html": [
       "<div>\n",
       "<style scoped>\n",
       "    .dataframe tbody tr th:only-of-type {\n",
       "        vertical-align: middle;\n",
       "    }\n",
       "\n",
       "    .dataframe tbody tr th {\n",
       "        vertical-align: top;\n",
       "    }\n",
       "\n",
       "    .dataframe thead th {\n",
       "        text-align: right;\n",
       "    }\n",
       "</style>\n",
       "<table border=\"1\" class=\"dataframe\">\n",
       "  <thead>\n",
       "    <tr style=\"text-align: right;\">\n",
       "      <th></th>\n",
       "      <th>Rank</th>\n",
       "      <th>Year</th>\n",
       "      <th>NA_Sales</th>\n",
       "      <th>EU_Sales</th>\n",
       "      <th>JP_Sales</th>\n",
       "      <th>Other_Sales</th>\n",
       "      <th>Global_Sales</th>\n",
       "    </tr>\n",
       "    <tr>\n",
       "      <th>Platform</th>\n",
       "      <th></th>\n",
       "      <th></th>\n",
       "      <th></th>\n",
       "      <th></th>\n",
       "      <th></th>\n",
       "      <th></th>\n",
       "      <th></th>\n",
       "    </tr>\n",
       "  </thead>\n",
       "  <tbody>\n",
       "    <tr>\n",
       "      <th>2600</th>\n",
       "      <td>4362.844828</td>\n",
       "      <td>1982.137931</td>\n",
       "      <td>0.696379</td>\n",
       "      <td>0.041897</td>\n",
       "      <td>0.000000</td>\n",
       "      <td>0.007241</td>\n",
       "      <td>0.746293</td>\n",
       "    </tr>\n",
       "    <tr>\n",
       "      <th>3DO</th>\n",
       "      <td>14372.666667</td>\n",
       "      <td>1994.666667</td>\n",
       "      <td>0.000000</td>\n",
       "      <td>0.000000</td>\n",
       "      <td>0.033333</td>\n",
       "      <td>0.000000</td>\n",
       "      <td>0.033333</td>\n",
       "    </tr>\n",
       "    <tr>\n",
       "      <th>3DS</th>\n",
       "      <td>9111.693387</td>\n",
       "      <td>2013.060120</td>\n",
       "      <td>0.156373</td>\n",
       "      <td>0.116814</td>\n",
       "      <td>0.194990</td>\n",
       "      <td>0.025150</td>\n",
       "      <td>0.493527</td>\n",
       "    </tr>\n",
       "    <tr>\n",
       "      <th>DC</th>\n",
       "      <td>8771.423077</td>\n",
       "      <td>1999.942308</td>\n",
       "      <td>0.104423</td>\n",
       "      <td>0.032500</td>\n",
       "      <td>0.164615</td>\n",
       "      <td>0.005192</td>\n",
       "      <td>0.307115</td>\n",
       "    </tr>\n",
       "    <tr>\n",
       "      <th>DS</th>\n",
       "      <td>9601.487565</td>\n",
       "      <td>2008.197560</td>\n",
       "      <td>0.182323</td>\n",
       "      <td>0.091061</td>\n",
       "      <td>0.082130</td>\n",
       "      <td>0.028292</td>\n",
       "      <td>0.384284</td>\n",
       "    </tr>\n",
       "    <tr>\n",
       "      <th>GB</th>\n",
       "      <td>3406.164948</td>\n",
       "      <td>1995.958763</td>\n",
       "      <td>1.171546</td>\n",
       "      <td>0.489794</td>\n",
       "      <td>0.877526</td>\n",
       "      <td>0.084124</td>\n",
       "      <td>2.622887</td>\n",
       "    </tr>\n",
       "    <tr>\n",
       "      <th>GBA</th>\n",
       "      <td>8734.597964</td>\n",
       "      <td>2003.175573</td>\n",
       "      <td>0.227010</td>\n",
       "      <td>0.092226</td>\n",
       "      <td>0.059237</td>\n",
       "      <td>0.009555</td>\n",
       "      <td>0.388830</td>\n",
       "    </tr>\n",
       "    <tr>\n",
       "      <th>GC</th>\n",
       "      <td>8617.328413</td>\n",
       "      <td>2003.400369</td>\n",
       "      <td>0.243432</td>\n",
       "      <td>0.070701</td>\n",
       "      <td>0.039373</td>\n",
       "      <td>0.009465</td>\n",
       "      <td>0.363727</td>\n",
       "    </tr>\n",
       "    <tr>\n",
       "      <th>GEN</th>\n",
       "      <td>7037.740741</td>\n",
       "      <td>1993.037037</td>\n",
       "      <td>0.713704</td>\n",
       "      <td>0.204444</td>\n",
       "      <td>0.098889</td>\n",
       "      <td>0.032963</td>\n",
       "      <td>1.050370</td>\n",
       "    </tr>\n",
       "    <tr>\n",
       "      <th>GG</th>\n",
       "      <td>13527.000000</td>\n",
       "      <td>1992.000000</td>\n",
       "      <td>0.000000</td>\n",
       "      <td>0.000000</td>\n",
       "      <td>0.040000</td>\n",
       "      <td>0.000000</td>\n",
       "      <td>0.040000</td>\n",
       "    </tr>\n",
       "    <tr>\n",
       "      <th>N64</th>\n",
       "      <td>6521.863924</td>\n",
       "      <td>1998.531646</td>\n",
       "      <td>0.439589</td>\n",
       "      <td>0.129842</td>\n",
       "      <td>0.106835</td>\n",
       "      <td>0.013639</td>\n",
       "      <td>0.690538</td>\n",
       "    </tr>\n",
       "    <tr>\n",
       "      <th>NES</th>\n",
       "      <td>1906.438776</td>\n",
       "      <td>1987.153061</td>\n",
       "      <td>1.285102</td>\n",
       "      <td>0.215816</td>\n",
       "      <td>1.006633</td>\n",
       "      <td>0.054184</td>\n",
       "      <td>2.561939</td>\n",
       "    </tr>\n",
       "    <tr>\n",
       "      <th>NG</th>\n",
       "      <td>10665.666667</td>\n",
       "      <td>1994.500000</td>\n",
       "      <td>0.000000</td>\n",
       "      <td>0.000000</td>\n",
       "      <td>0.120000</td>\n",
       "      <td>0.000000</td>\n",
       "      <td>0.120000</td>\n",
       "    </tr>\n",
       "    <tr>\n",
       "      <th>PC</th>\n",
       "      <td>11450.363539</td>\n",
       "      <td>2008.763326</td>\n",
       "      <td>0.098124</td>\n",
       "      <td>0.146429</td>\n",
       "      <td>0.000181</td>\n",
       "      <td>0.025938</td>\n",
       "      <td>0.271535</td>\n",
       "    </tr>\n",
       "    <tr>\n",
       "      <th>PCFX</th>\n",
       "      <td>14559.000000</td>\n",
       "      <td>1996.000000</td>\n",
       "      <td>0.000000</td>\n",
       "      <td>0.000000</td>\n",
       "      <td>0.030000</td>\n",
       "      <td>0.000000</td>\n",
       "      <td>0.030000</td>\n",
       "    </tr>\n",
       "    <tr>\n",
       "      <th>PS</th>\n",
       "      <td>6956.608074</td>\n",
       "      <td>1998.004205</td>\n",
       "      <td>0.281505</td>\n",
       "      <td>0.178621</td>\n",
       "      <td>0.117561</td>\n",
       "      <td>0.034222</td>\n",
       "      <td>0.611766</td>\n",
       "    </tr>\n",
       "    <tr>\n",
       "      <th>PS2</th>\n",
       "      <td>7483.601316</td>\n",
       "      <td>2004.583921</td>\n",
       "      <td>0.269356</td>\n",
       "      <td>0.156385</td>\n",
       "      <td>0.064664</td>\n",
       "      <td>0.089549</td>\n",
       "      <td>0.579906</td>\n",
       "    </tr>\n",
       "    <tr>\n",
       "      <th>PS3</th>\n",
       "      <td>6766.470859</td>\n",
       "      <td>2010.819785</td>\n",
       "      <td>0.298236</td>\n",
       "      <td>0.261097</td>\n",
       "      <td>0.060744</td>\n",
       "      <td>0.107983</td>\n",
       "      <td>0.728029</td>\n",
       "    </tr>\n",
       "    <tr>\n",
       "      <th>PS4</th>\n",
       "      <td>7625.562500</td>\n",
       "      <td>2015.005952</td>\n",
       "      <td>0.288095</td>\n",
       "      <td>0.368155</td>\n",
       "      <td>0.042560</td>\n",
       "      <td>0.129048</td>\n",
       "      <td>0.827679</td>\n",
       "    </tr>\n",
       "    <tr>\n",
       "      <th>PSP</th>\n",
       "      <td>10414.389307</td>\n",
       "      <td>2008.721805</td>\n",
       "      <td>0.089465</td>\n",
       "      <td>0.056107</td>\n",
       "      <td>0.063400</td>\n",
       "      <td>0.034687</td>\n",
       "      <td>0.243701</td>\n",
       "    </tr>\n",
       "    <tr>\n",
       "      <th>PSV</th>\n",
       "      <td>11449.287805</td>\n",
       "      <td>2014.024390</td>\n",
       "      <td>0.039195</td>\n",
       "      <td>0.039683</td>\n",
       "      <td>0.050878</td>\n",
       "      <td>0.020512</td>\n",
       "      <td>0.150244</td>\n",
       "    </tr>\n",
       "    <tr>\n",
       "      <th>SAT</th>\n",
       "      <td>9333.936416</td>\n",
       "      <td>1996.028902</td>\n",
       "      <td>0.004162</td>\n",
       "      <td>0.003121</td>\n",
       "      <td>0.186474</td>\n",
       "      <td>0.000405</td>\n",
       "      <td>0.194162</td>\n",
       "    </tr>\n",
       "    <tr>\n",
       "      <th>SCD</th>\n",
       "      <td>10171.833333</td>\n",
       "      <td>1993.833333</td>\n",
       "      <td>0.166667</td>\n",
       "      <td>0.060000</td>\n",
       "      <td>0.075000</td>\n",
       "      <td>0.008333</td>\n",
       "      <td>0.311667</td>\n",
       "    </tr>\n",
       "    <tr>\n",
       "      <th>SNES</th>\n",
       "      <td>6346.460251</td>\n",
       "      <td>1993.845188</td>\n",
       "      <td>0.256192</td>\n",
       "      <td>0.079665</td>\n",
       "      <td>0.487657</td>\n",
       "      <td>0.013473</td>\n",
       "      <td>0.837029</td>\n",
       "    </tr>\n",
       "    <tr>\n",
       "      <th>TG16</th>\n",
       "      <td>12381.500000</td>\n",
       "      <td>1995.000000</td>\n",
       "      <td>0.000000</td>\n",
       "      <td>0.000000</td>\n",
       "      <td>0.080000</td>\n",
       "      <td>0.000000</td>\n",
       "      <td>0.080000</td>\n",
       "    </tr>\n",
       "    <tr>\n",
       "      <th>WS</th>\n",
       "      <td>7878.833333</td>\n",
       "      <td>2000.000000</td>\n",
       "      <td>0.000000</td>\n",
       "      <td>0.000000</td>\n",
       "      <td>0.236667</td>\n",
       "      <td>0.000000</td>\n",
       "      <td>0.236667</td>\n",
       "    </tr>\n",
       "    <tr>\n",
       "      <th>Wii</th>\n",
       "      <td>7697.413178</td>\n",
       "      <td>2008.962791</td>\n",
       "      <td>0.385558</td>\n",
       "      <td>0.204922</td>\n",
       "      <td>0.052930</td>\n",
       "      <td>0.061395</td>\n",
       "      <td>0.705279</td>\n",
       "    </tr>\n",
       "    <tr>\n",
       "      <th>WiiU</th>\n",
       "      <td>7756.237762</td>\n",
       "      <td>2013.594406</td>\n",
       "      <td>0.267972</td>\n",
       "      <td>0.169441</td>\n",
       "      <td>0.089441</td>\n",
       "      <td>0.045105</td>\n",
       "      <td>0.572448</td>\n",
       "    </tr>\n",
       "    <tr>\n",
       "      <th>X360</th>\n",
       "      <td>6639.332253</td>\n",
       "      <td>2009.879254</td>\n",
       "      <td>0.481629</td>\n",
       "      <td>0.225284</td>\n",
       "      <td>0.009968</td>\n",
       "      <td>0.068614</td>\n",
       "      <td>0.785737</td>\n",
       "    </tr>\n",
       "    <tr>\n",
       "      <th>XB</th>\n",
       "      <td>8761.047323</td>\n",
       "      <td>2003.636364</td>\n",
       "      <td>0.226725</td>\n",
       "      <td>0.074284</td>\n",
       "      <td>0.001719</td>\n",
       "      <td>0.010560</td>\n",
       "      <td>0.313935</td>\n",
       "    </tr>\n",
       "    <tr>\n",
       "      <th>XOne</th>\n",
       "      <td>7397.061033</td>\n",
       "      <td>2014.788732</td>\n",
       "      <td>0.390563</td>\n",
       "      <td>0.214319</td>\n",
       "      <td>0.001596</td>\n",
       "      <td>0.055962</td>\n",
       "      <td>0.662254</td>\n",
       "    </tr>\n",
       "  </tbody>\n",
       "</table>\n",
       "</div>"
      ],
      "text/plain": [
       "                  Rank         Year  NA_Sales  EU_Sales  JP_Sales  \\\n",
       "Platform                                                            \n",
       "2600       4362.844828  1982.137931  0.696379  0.041897  0.000000   \n",
       "3DO       14372.666667  1994.666667  0.000000  0.000000  0.033333   \n",
       "3DS        9111.693387  2013.060120  0.156373  0.116814  0.194990   \n",
       "DC         8771.423077  1999.942308  0.104423  0.032500  0.164615   \n",
       "DS         9601.487565  2008.197560  0.182323  0.091061  0.082130   \n",
       "GB         3406.164948  1995.958763  1.171546  0.489794  0.877526   \n",
       "GBA        8734.597964  2003.175573  0.227010  0.092226  0.059237   \n",
       "GC         8617.328413  2003.400369  0.243432  0.070701  0.039373   \n",
       "GEN        7037.740741  1993.037037  0.713704  0.204444  0.098889   \n",
       "GG        13527.000000  1992.000000  0.000000  0.000000  0.040000   \n",
       "N64        6521.863924  1998.531646  0.439589  0.129842  0.106835   \n",
       "NES        1906.438776  1987.153061  1.285102  0.215816  1.006633   \n",
       "NG        10665.666667  1994.500000  0.000000  0.000000  0.120000   \n",
       "PC        11450.363539  2008.763326  0.098124  0.146429  0.000181   \n",
       "PCFX      14559.000000  1996.000000  0.000000  0.000000  0.030000   \n",
       "PS         6956.608074  1998.004205  0.281505  0.178621  0.117561   \n",
       "PS2        7483.601316  2004.583921  0.269356  0.156385  0.064664   \n",
       "PS3        6766.470859  2010.819785  0.298236  0.261097  0.060744   \n",
       "PS4        7625.562500  2015.005952  0.288095  0.368155  0.042560   \n",
       "PSP       10414.389307  2008.721805  0.089465  0.056107  0.063400   \n",
       "PSV       11449.287805  2014.024390  0.039195  0.039683  0.050878   \n",
       "SAT        9333.936416  1996.028902  0.004162  0.003121  0.186474   \n",
       "SCD       10171.833333  1993.833333  0.166667  0.060000  0.075000   \n",
       "SNES       6346.460251  1993.845188  0.256192  0.079665  0.487657   \n",
       "TG16      12381.500000  1995.000000  0.000000  0.000000  0.080000   \n",
       "WS         7878.833333  2000.000000  0.000000  0.000000  0.236667   \n",
       "Wii        7697.413178  2008.962791  0.385558  0.204922  0.052930   \n",
       "WiiU       7756.237762  2013.594406  0.267972  0.169441  0.089441   \n",
       "X360       6639.332253  2009.879254  0.481629  0.225284  0.009968   \n",
       "XB         8761.047323  2003.636364  0.226725  0.074284  0.001719   \n",
       "XOne       7397.061033  2014.788732  0.390563  0.214319  0.001596   \n",
       "\n",
       "          Other_Sales  Global_Sales  \n",
       "Platform                             \n",
       "2600         0.007241      0.746293  \n",
       "3DO          0.000000      0.033333  \n",
       "3DS          0.025150      0.493527  \n",
       "DC           0.005192      0.307115  \n",
       "DS           0.028292      0.384284  \n",
       "GB           0.084124      2.622887  \n",
       "GBA          0.009555      0.388830  \n",
       "GC           0.009465      0.363727  \n",
       "GEN          0.032963      1.050370  \n",
       "GG           0.000000      0.040000  \n",
       "N64          0.013639      0.690538  \n",
       "NES          0.054184      2.561939  \n",
       "NG           0.000000      0.120000  \n",
       "PC           0.025938      0.271535  \n",
       "PCFX         0.000000      0.030000  \n",
       "PS           0.034222      0.611766  \n",
       "PS2          0.089549      0.579906  \n",
       "PS3          0.107983      0.728029  \n",
       "PS4          0.129048      0.827679  \n",
       "PSP          0.034687      0.243701  \n",
       "PSV          0.020512      0.150244  \n",
       "SAT          0.000405      0.194162  \n",
       "SCD          0.008333      0.311667  \n",
       "SNES         0.013473      0.837029  \n",
       "TG16         0.000000      0.080000  \n",
       "WS           0.000000      0.236667  \n",
       "Wii          0.061395      0.705279  \n",
       "WiiU         0.045105      0.572448  \n",
       "X360         0.068614      0.785737  \n",
       "XB           0.010560      0.313935  \n",
       "XOne         0.055962      0.662254  "
      ]
     },
     "execution_count": 21,
     "metadata": {},
     "output_type": "execute_result"
    }
   ],
   "source": [
    "# Aqui agrupa pela média de cada plataforma.\n",
    "game.groupby(\"Platform\").mean()"
   ]
  },
  {
   "cell_type": "markdown",
   "metadata": {},
   "source": [
    "#### Nos dados acima, os consoles foram apresentados individualmente, apresentando o \"poder\" de cada um em trabalhar com jogos com altos potenciais de vendas durante o período analisado. Contudo, essas informações não torna claro a capacidade das organizações em produzirem seguidos consoles com elevado poder de venda, visto que desde 1980 foram diversos os consoles lançados, mas atualmente poucos tem capilaridade no mercado mundial. Para trazer mais informações sobre essa dinâmica, foi criada uma função que agrupa os jogos em 5 categorias: 1 - Nintendo; 2 - Sony; 3 - Microsoft; 4 - PC; 5 - outras."
   ]
  },
  {
   "cell_type": "code",
   "execution_count": 22,
   "metadata": {},
   "outputs": [
    {
     "data": {
      "text/plain": [
       "array(['Wii', 'NES', 'GB', 'DS', 'X360', 'PS3', 'PS2', 'SNES', 'GBA',\n",
       "       '3DS', 'PS4', 'N64', 'PS', 'XB', 'PC', '2600', 'PSP', 'XOne', 'GC',\n",
       "       'WiiU', 'GEN', 'DC', 'PSV', 'SAT', 'SCD', 'WS', 'NG', 'TG16',\n",
       "       '3DO', 'GG', 'PCFX'], dtype=object)"
      ]
     },
     "execution_count": 22,
     "metadata": {},
     "output_type": "execute_result"
    }
   ],
   "source": [
    "game[\"Platform\"].unique()"
   ]
  },
  {
   "cell_type": "code",
   "execution_count": 23,
   "metadata": {},
   "outputs": [],
   "source": [
    "brand = []\n",
    "for i in game[\"Platform\"]:\n",
    "    if i in ['Wii', 'NES', 'GB', 'DS', 'SNES', 'GBA', '3DS', 'N64', 'GC', 'WIIU']:\n",
    "        brand.append(1)\n",
    "    elif i in ['PS', 'PS2', 'PS3', 'PS4', 'PSP']:\n",
    "        brand.append(2)\n",
    "    elif i in ['XB', 'X360', 'XOne']:\n",
    "        brand.append(3)\n",
    "    elif i in 'PC':\n",
    "        brand.append(4)\n",
    "    else:\n",
    "        brand.append(5)\n",
    "game['jogo'] = brand"
   ]
  },
  {
   "cell_type": "code",
   "execution_count": 24,
   "metadata": {},
   "outputs": [
    {
     "data": {
      "text/plain": [
       "2    6153\n",
       "1    5998\n",
       "3    2250\n",
       "5     952\n",
       "4     938\n",
       "Name: jogo, dtype: int64"
      ]
     },
     "execution_count": 24,
     "metadata": {},
     "output_type": "execute_result"
    }
   ],
   "source": [
    "game['jogo'].value_counts()"
   ]
  },
  {
   "cell_type": "markdown",
   "metadata": {},
   "source": [
    "#### Se de maneira individual a **Nintendo** foi a organização que conseguiu trabalhar com o jogo mais vendido na base de dados, na leitura de longo prazo a **Sony** foi a organização de maior sucesso, visto que obteve como resultado 6235, enquanto a **Nintendo** obteve 6129. Ainda, neste resultado vale destacar que a **Nintendo** é uma organização muito mais antiga, com muito mais jogos disponibilizados no mercado, mas que prioriza a produção própria. Já a **Sony** tem uma produção mais recente, a partir da segunda metade da década de 1990, mas que possui produtos mais diversificados. Isso porque, além de produzir jogos exclusivos para seus consoles, trabalha com muito mais desenvolvedoras de jogos que a **Nintendo**. "
   ]
  },
  {
   "cell_type": "code",
   "execution_count": 25,
   "metadata": {},
   "outputs": [
    {
     "ename": "ValueError",
     "evalue": "The truth value of a Series is ambiguous. Use a.empty, a.bool(), a.item(), a.any() or a.all().",
     "output_type": "error",
     "traceback": [
      "\u001b[1;31m---------------------------------------------------------------------------\u001b[0m",
      "\u001b[1;31mValueError\u001b[0m                                Traceback (most recent call last)",
      "\u001b[1;32m~\\AppData\\Local\\Temp/ipykernel_16536/3824408952.py\u001b[0m in \u001b[0;36m<module>\u001b[1;34m\u001b[0m\n\u001b[0;32m      3\u001b[0m \u001b[1;33m\u001b[0m\u001b[0m\n\u001b[0;32m      4\u001b[0m \u001b[0mbrand2\u001b[0m \u001b[1;33m=\u001b[0m \u001b[1;33m[\u001b[0m\u001b[1;33m]\u001b[0m\u001b[1;33m\u001b[0m\u001b[1;33m\u001b[0m\u001b[0m\n\u001b[1;32m----> 5\u001b[1;33m game['brand2'] = np.where(game['Platform'] in \n\u001b[0m\u001b[0;32m      6\u001b[0m \u001b[1;33m[\u001b[0m\u001b[1;34m'Wii'\u001b[0m\u001b[1;33m,\u001b[0m \u001b[1;34m'NES'\u001b[0m\u001b[1;33m,\u001b[0m \u001b[1;34m'GB'\u001b[0m\u001b[1;33m,\u001b[0m \u001b[1;34m'DS'\u001b[0m\u001b[1;33m,\u001b[0m \u001b[1;34m'SNES'\u001b[0m\u001b[1;33m,\u001b[0m \u001b[1;34m'GBA'\u001b[0m\u001b[1;33m,\u001b[0m \u001b[1;34m'3DS'\u001b[0m\u001b[1;33m,\u001b[0m \u001b[1;34m'N64'\u001b[0m\u001b[1;33m,\u001b[0m \u001b[1;34m'GC'\u001b[0m\u001b[1;33m,\u001b[0m \u001b[1;34m'WIIU'\u001b[0m\u001b[1;33m]\u001b[0m\u001b[1;33m,\u001b[0m \u001b[1;34m'nintendo'\u001b[0m\u001b[1;33m,\u001b[0m\u001b[1;33m\u001b[0m\u001b[1;33m\u001b[0m\u001b[0m\n\u001b[0;32m      7\u001b[0m np.where(game['Platform'] in \n",
      "\u001b[1;32mD:\\anaconda3\\lib\\site-packages\\pandas\\core\\generic.py\u001b[0m in \u001b[0;36m__nonzero__\u001b[1;34m(self)\u001b[0m\n\u001b[0;32m   1535\u001b[0m     \u001b[1;33m@\u001b[0m\u001b[0mfinal\u001b[0m\u001b[1;33m\u001b[0m\u001b[1;33m\u001b[0m\u001b[0m\n\u001b[0;32m   1536\u001b[0m     \u001b[1;32mdef\u001b[0m \u001b[0m__nonzero__\u001b[0m\u001b[1;33m(\u001b[0m\u001b[0mself\u001b[0m\u001b[1;33m)\u001b[0m\u001b[1;33m:\u001b[0m\u001b[1;33m\u001b[0m\u001b[1;33m\u001b[0m\u001b[0m\n\u001b[1;32m-> 1537\u001b[1;33m         raise ValueError(\n\u001b[0m\u001b[0;32m   1538\u001b[0m             \u001b[1;34mf\"The truth value of a {type(self).__name__} is ambiguous. \"\u001b[0m\u001b[1;33m\u001b[0m\u001b[1;33m\u001b[0m\u001b[0m\n\u001b[0;32m   1539\u001b[0m             \u001b[1;34m\"Use a.empty, a.bool(), a.item(), a.any() or a.all().\"\u001b[0m\u001b[1;33m\u001b[0m\u001b[1;33m\u001b[0m\u001b[0m\n",
      "\u001b[1;31mValueError\u001b[0m: The truth value of a Series is ambiguous. Use a.empty, a.bool(), a.item(), a.any() or a.all()."
     ]
    }
   ],
   "source": [
    "# Aqui foi uma tentativa de criar uma nova coluna da mesma forma que a função acima, mas considerando o nome das organizações.\n",
    "# Contudo, eu não consegui fazer esse código rodar, como o tempo para entrega já estava acabando, parei os trabalhos.\n",
    "\n",
    "brand2 = []\n",
    "game['brand2'] = np.where(game['Platform'] in \n",
    "['Wii', 'NES', 'GB', 'DS', 'SNES', 'GBA', '3DS', 'N64', 'GC', 'WIIU'], 'nintendo',\n",
    "np.where(game['Platform'] in \n",
    "['PS', 'PS2', 'PS3', 'PS4', 'PSP'], 'sony', \n",
    "np.where(game['Platform'] in\n",
    "['XB', 'X360', 'XOne'], 'microsoft',\n",
    "np.where(game['Platform'] in\n",
    "['PC'], 'pc'))))"
   ]
  },
  {
   "cell_type": "markdown",
   "metadata": {},
   "source": [
    "## Análise de vendas de jogos por países"
   ]
  },
  {
   "cell_type": "markdown",
   "metadata": {},
   "source": [
    "#### Com a função *nlargest* pode-se conhecer os maiores valores de determinado vetor. No código abaixo eu aplico para as vendas em diferentes países, ao observar a América do Norte (*NA_Sales*), é demonstrada uma maior diversidade entre os 5 primeiros jogos, incluindo games de esportes, plataformas, tiros, puzzles e corrida. Na sequência, para analisar apenas a europa (*EU_Sales*), os três primeiros jogos mais vendidos foram de esportes, seguidos por um de simulação e outro de ação. Já o Japão (*JP_Sales*), a aplicação do código resultou na descoberta de que os jogos mais vendidos no país são de pokemon e marioPOr fim, no restante do planeta os jogos mais vendidos foram de duas categorias principais: ação e esportes, destaque para GTA que possui dois jogos entre os cinco mais vendidos. Esses resultados podem ser observados nos quatro chunks a seguir. "
   ]
  },
  {
   "cell_type": "markdown",
   "metadata": {},
   "source": [
    "#### Vendas na América do Norte."
   ]
  },
  {
   "cell_type": "code",
   "execution_count": 26,
   "metadata": {},
   "outputs": [
    {
     "data": {
      "text/html": [
       "<div>\n",
       "<style scoped>\n",
       "    .dataframe tbody tr th:only-of-type {\n",
       "        vertical-align: middle;\n",
       "    }\n",
       "\n",
       "    .dataframe tbody tr th {\n",
       "        vertical-align: top;\n",
       "    }\n",
       "\n",
       "    .dataframe thead th {\n",
       "        text-align: right;\n",
       "    }\n",
       "</style>\n",
       "<table border=\"1\" class=\"dataframe\">\n",
       "  <thead>\n",
       "    <tr style=\"text-align: right;\">\n",
       "      <th></th>\n",
       "      <th>Rank</th>\n",
       "      <th>Name</th>\n",
       "      <th>Platform</th>\n",
       "      <th>Year</th>\n",
       "      <th>Genre</th>\n",
       "      <th>Publisher</th>\n",
       "      <th>NA_Sales</th>\n",
       "      <th>EU_Sales</th>\n",
       "      <th>JP_Sales</th>\n",
       "      <th>Other_Sales</th>\n",
       "      <th>Global_Sales</th>\n",
       "      <th>jogo</th>\n",
       "    </tr>\n",
       "  </thead>\n",
       "  <tbody>\n",
       "    <tr>\n",
       "      <th>0</th>\n",
       "      <td>1</td>\n",
       "      <td>Wii Sports</td>\n",
       "      <td>Wii</td>\n",
       "      <td>2006</td>\n",
       "      <td>Sports</td>\n",
       "      <td>Nintendo</td>\n",
       "      <td>41.49</td>\n",
       "      <td>29.02</td>\n",
       "      <td>3.77</td>\n",
       "      <td>8.46</td>\n",
       "      <td>82.74</td>\n",
       "      <td>1</td>\n",
       "    </tr>\n",
       "    <tr>\n",
       "      <th>1</th>\n",
       "      <td>2</td>\n",
       "      <td>Super Mario Bros.</td>\n",
       "      <td>NES</td>\n",
       "      <td>1985</td>\n",
       "      <td>Platform</td>\n",
       "      <td>Nintendo</td>\n",
       "      <td>29.08</td>\n",
       "      <td>3.58</td>\n",
       "      <td>6.81</td>\n",
       "      <td>0.77</td>\n",
       "      <td>40.24</td>\n",
       "      <td>1</td>\n",
       "    </tr>\n",
       "    <tr>\n",
       "      <th>9</th>\n",
       "      <td>10</td>\n",
       "      <td>Duck Hunt</td>\n",
       "      <td>NES</td>\n",
       "      <td>1984</td>\n",
       "      <td>Shooter</td>\n",
       "      <td>Nintendo</td>\n",
       "      <td>26.93</td>\n",
       "      <td>0.63</td>\n",
       "      <td>0.28</td>\n",
       "      <td>0.47</td>\n",
       "      <td>28.31</td>\n",
       "      <td>1</td>\n",
       "    </tr>\n",
       "    <tr>\n",
       "      <th>5</th>\n",
       "      <td>6</td>\n",
       "      <td>Tetris</td>\n",
       "      <td>GB</td>\n",
       "      <td>1989</td>\n",
       "      <td>Puzzle</td>\n",
       "      <td>Nintendo</td>\n",
       "      <td>23.20</td>\n",
       "      <td>2.26</td>\n",
       "      <td>4.22</td>\n",
       "      <td>0.58</td>\n",
       "      <td>30.26</td>\n",
       "      <td>1</td>\n",
       "    </tr>\n",
       "    <tr>\n",
       "      <th>2</th>\n",
       "      <td>3</td>\n",
       "      <td>Mario Kart Wii</td>\n",
       "      <td>Wii</td>\n",
       "      <td>2008</td>\n",
       "      <td>Racing</td>\n",
       "      <td>Nintendo</td>\n",
       "      <td>15.85</td>\n",
       "      <td>12.88</td>\n",
       "      <td>3.79</td>\n",
       "      <td>3.31</td>\n",
       "      <td>35.82</td>\n",
       "      <td>1</td>\n",
       "    </tr>\n",
       "  </tbody>\n",
       "</table>\n",
       "</div>"
      ],
      "text/plain": [
       "   Rank               Name Platform  Year     Genre Publisher  NA_Sales  \\\n",
       "0     1         Wii Sports      Wii  2006    Sports  Nintendo     41.49   \n",
       "1     2  Super Mario Bros.      NES  1985  Platform  Nintendo     29.08   \n",
       "9    10          Duck Hunt      NES  1984   Shooter  Nintendo     26.93   \n",
       "5     6             Tetris       GB  1989    Puzzle  Nintendo     23.20   \n",
       "2     3     Mario Kart Wii      Wii  2008    Racing  Nintendo     15.85   \n",
       "\n",
       "   EU_Sales  JP_Sales  Other_Sales  Global_Sales  jogo  \n",
       "0     29.02      3.77         8.46         82.74     1  \n",
       "1      3.58      6.81         0.77         40.24     1  \n",
       "9      0.63      0.28         0.47         28.31     1  \n",
       "5      2.26      4.22         0.58         30.26     1  \n",
       "2     12.88      3.79         3.31         35.82     1  "
      ]
     },
     "execution_count": 26,
     "metadata": {},
     "output_type": "execute_result"
    }
   ],
   "source": [
    "game.nlargest(5, \"NA_Sales\")"
   ]
  },
  {
   "cell_type": "markdown",
   "metadata": {},
   "source": [
    "#### Vendas na Europa."
   ]
  },
  {
   "cell_type": "code",
   "execution_count": 27,
   "metadata": {},
   "outputs": [
    {
     "data": {
      "text/html": [
       "<div>\n",
       "<style scoped>\n",
       "    .dataframe tbody tr th:only-of-type {\n",
       "        vertical-align: middle;\n",
       "    }\n",
       "\n",
       "    .dataframe tbody tr th {\n",
       "        vertical-align: top;\n",
       "    }\n",
       "\n",
       "    .dataframe thead th {\n",
       "        text-align: right;\n",
       "    }\n",
       "</style>\n",
       "<table border=\"1\" class=\"dataframe\">\n",
       "  <thead>\n",
       "    <tr style=\"text-align: right;\">\n",
       "      <th></th>\n",
       "      <th>Rank</th>\n",
       "      <th>Name</th>\n",
       "      <th>Platform</th>\n",
       "      <th>Year</th>\n",
       "      <th>Genre</th>\n",
       "      <th>Publisher</th>\n",
       "      <th>NA_Sales</th>\n",
       "      <th>EU_Sales</th>\n",
       "      <th>JP_Sales</th>\n",
       "      <th>Other_Sales</th>\n",
       "      <th>Global_Sales</th>\n",
       "      <th>jogo</th>\n",
       "    </tr>\n",
       "  </thead>\n",
       "  <tbody>\n",
       "    <tr>\n",
       "      <th>0</th>\n",
       "      <td>1</td>\n",
       "      <td>Wii Sports</td>\n",
       "      <td>Wii</td>\n",
       "      <td>2006</td>\n",
       "      <td>Sports</td>\n",
       "      <td>Nintendo</td>\n",
       "      <td>41.49</td>\n",
       "      <td>29.02</td>\n",
       "      <td>3.77</td>\n",
       "      <td>8.46</td>\n",
       "      <td>82.74</td>\n",
       "      <td>1</td>\n",
       "    </tr>\n",
       "    <tr>\n",
       "      <th>2</th>\n",
       "      <td>3</td>\n",
       "      <td>Mario Kart Wii</td>\n",
       "      <td>Wii</td>\n",
       "      <td>2008</td>\n",
       "      <td>Racing</td>\n",
       "      <td>Nintendo</td>\n",
       "      <td>15.85</td>\n",
       "      <td>12.88</td>\n",
       "      <td>3.79</td>\n",
       "      <td>3.31</td>\n",
       "      <td>35.82</td>\n",
       "      <td>1</td>\n",
       "    </tr>\n",
       "    <tr>\n",
       "      <th>3</th>\n",
       "      <td>4</td>\n",
       "      <td>Wii Sports Resort</td>\n",
       "      <td>Wii</td>\n",
       "      <td>2009</td>\n",
       "      <td>Sports</td>\n",
       "      <td>Nintendo</td>\n",
       "      <td>15.75</td>\n",
       "      <td>11.01</td>\n",
       "      <td>3.28</td>\n",
       "      <td>2.96</td>\n",
       "      <td>33.00</td>\n",
       "      <td>1</td>\n",
       "    </tr>\n",
       "    <tr>\n",
       "      <th>10</th>\n",
       "      <td>11</td>\n",
       "      <td>Nintendogs</td>\n",
       "      <td>DS</td>\n",
       "      <td>2005</td>\n",
       "      <td>Simulation</td>\n",
       "      <td>Nintendo</td>\n",
       "      <td>9.07</td>\n",
       "      <td>11.00</td>\n",
       "      <td>1.93</td>\n",
       "      <td>2.75</td>\n",
       "      <td>24.76</td>\n",
       "      <td>1</td>\n",
       "    </tr>\n",
       "    <tr>\n",
       "      <th>16</th>\n",
       "      <td>17</td>\n",
       "      <td>Grand Theft Auto V</td>\n",
       "      <td>PS3</td>\n",
       "      <td>2013</td>\n",
       "      <td>Action</td>\n",
       "      <td>Take-Two Interactive</td>\n",
       "      <td>7.01</td>\n",
       "      <td>9.27</td>\n",
       "      <td>0.97</td>\n",
       "      <td>4.14</td>\n",
       "      <td>21.40</td>\n",
       "      <td>2</td>\n",
       "    </tr>\n",
       "  </tbody>\n",
       "</table>\n",
       "</div>"
      ],
      "text/plain": [
       "    Rank                Name Platform  Year       Genre             Publisher  \\\n",
       "0      1          Wii Sports      Wii  2006      Sports              Nintendo   \n",
       "2      3      Mario Kart Wii      Wii  2008      Racing              Nintendo   \n",
       "3      4   Wii Sports Resort      Wii  2009      Sports              Nintendo   \n",
       "10    11          Nintendogs       DS  2005  Simulation              Nintendo   \n",
       "16    17  Grand Theft Auto V      PS3  2013      Action  Take-Two Interactive   \n",
       "\n",
       "    NA_Sales  EU_Sales  JP_Sales  Other_Sales  Global_Sales  jogo  \n",
       "0      41.49     29.02      3.77         8.46         82.74     1  \n",
       "2      15.85     12.88      3.79         3.31         35.82     1  \n",
       "3      15.75     11.01      3.28         2.96         33.00     1  \n",
       "10      9.07     11.00      1.93         2.75         24.76     1  \n",
       "16      7.01      9.27      0.97         4.14         21.40     2  "
      ]
     },
     "execution_count": 27,
     "metadata": {},
     "output_type": "execute_result"
    }
   ],
   "source": [
    "game.nlargest(5, \"EU_Sales\")"
   ]
  },
  {
   "cell_type": "markdown",
   "metadata": {},
   "source": [
    "#### Vendas no Japão."
   ]
  },
  {
   "cell_type": "code",
   "execution_count": 28,
   "metadata": {},
   "outputs": [
    {
     "data": {
      "text/html": [
       "<div>\n",
       "<style scoped>\n",
       "    .dataframe tbody tr th:only-of-type {\n",
       "        vertical-align: middle;\n",
       "    }\n",
       "\n",
       "    .dataframe tbody tr th {\n",
       "        vertical-align: top;\n",
       "    }\n",
       "\n",
       "    .dataframe thead th {\n",
       "        text-align: right;\n",
       "    }\n",
       "</style>\n",
       "<table border=\"1\" class=\"dataframe\">\n",
       "  <thead>\n",
       "    <tr style=\"text-align: right;\">\n",
       "      <th></th>\n",
       "      <th>Rank</th>\n",
       "      <th>Name</th>\n",
       "      <th>Platform</th>\n",
       "      <th>Year</th>\n",
       "      <th>Genre</th>\n",
       "      <th>Publisher</th>\n",
       "      <th>NA_Sales</th>\n",
       "      <th>EU_Sales</th>\n",
       "      <th>JP_Sales</th>\n",
       "      <th>Other_Sales</th>\n",
       "      <th>Global_Sales</th>\n",
       "      <th>jogo</th>\n",
       "    </tr>\n",
       "  </thead>\n",
       "  <tbody>\n",
       "    <tr>\n",
       "      <th>4</th>\n",
       "      <td>5</td>\n",
       "      <td>Pokemon Red/Pokemon Blue</td>\n",
       "      <td>GB</td>\n",
       "      <td>1996</td>\n",
       "      <td>Role-Playing</td>\n",
       "      <td>Nintendo</td>\n",
       "      <td>11.27</td>\n",
       "      <td>8.89</td>\n",
       "      <td>10.22</td>\n",
       "      <td>1.00</td>\n",
       "      <td>31.37</td>\n",
       "      <td>1</td>\n",
       "    </tr>\n",
       "    <tr>\n",
       "      <th>12</th>\n",
       "      <td>13</td>\n",
       "      <td>Pokemon Gold/Pokemon Silver</td>\n",
       "      <td>GB</td>\n",
       "      <td>1999</td>\n",
       "      <td>Role-Playing</td>\n",
       "      <td>Nintendo</td>\n",
       "      <td>9.00</td>\n",
       "      <td>6.18</td>\n",
       "      <td>7.20</td>\n",
       "      <td>0.71</td>\n",
       "      <td>23.10</td>\n",
       "      <td>1</td>\n",
       "    </tr>\n",
       "    <tr>\n",
       "      <th>1</th>\n",
       "      <td>2</td>\n",
       "      <td>Super Mario Bros.</td>\n",
       "      <td>NES</td>\n",
       "      <td>1985</td>\n",
       "      <td>Platform</td>\n",
       "      <td>Nintendo</td>\n",
       "      <td>29.08</td>\n",
       "      <td>3.58</td>\n",
       "      <td>6.81</td>\n",
       "      <td>0.77</td>\n",
       "      <td>40.24</td>\n",
       "      <td>1</td>\n",
       "    </tr>\n",
       "    <tr>\n",
       "      <th>6</th>\n",
       "      <td>7</td>\n",
       "      <td>New Super Mario Bros.</td>\n",
       "      <td>DS</td>\n",
       "      <td>2006</td>\n",
       "      <td>Platform</td>\n",
       "      <td>Nintendo</td>\n",
       "      <td>11.38</td>\n",
       "      <td>9.23</td>\n",
       "      <td>6.50</td>\n",
       "      <td>2.90</td>\n",
       "      <td>30.01</td>\n",
       "      <td>1</td>\n",
       "    </tr>\n",
       "    <tr>\n",
       "      <th>20</th>\n",
       "      <td>21</td>\n",
       "      <td>Pokemon Diamond/Pokemon Pearl</td>\n",
       "      <td>DS</td>\n",
       "      <td>2006</td>\n",
       "      <td>Role-Playing</td>\n",
       "      <td>Nintendo</td>\n",
       "      <td>6.42</td>\n",
       "      <td>4.52</td>\n",
       "      <td>6.04</td>\n",
       "      <td>1.37</td>\n",
       "      <td>18.36</td>\n",
       "      <td>1</td>\n",
       "    </tr>\n",
       "  </tbody>\n",
       "</table>\n",
       "</div>"
      ],
      "text/plain": [
       "    Rank                           Name Platform  Year         Genre  \\\n",
       "4      5       Pokemon Red/Pokemon Blue       GB  1996  Role-Playing   \n",
       "12    13    Pokemon Gold/Pokemon Silver       GB  1999  Role-Playing   \n",
       "1      2              Super Mario Bros.      NES  1985      Platform   \n",
       "6      7          New Super Mario Bros.       DS  2006      Platform   \n",
       "20    21  Pokemon Diamond/Pokemon Pearl       DS  2006  Role-Playing   \n",
       "\n",
       "   Publisher  NA_Sales  EU_Sales  JP_Sales  Other_Sales  Global_Sales  jogo  \n",
       "4   Nintendo     11.27      8.89     10.22         1.00         31.37     1  \n",
       "12  Nintendo      9.00      6.18      7.20         0.71         23.10     1  \n",
       "1   Nintendo     29.08      3.58      6.81         0.77         40.24     1  \n",
       "6   Nintendo     11.38      9.23      6.50         2.90         30.01     1  \n",
       "20  Nintendo      6.42      4.52      6.04         1.37         18.36     1  "
      ]
     },
     "execution_count": 28,
     "metadata": {},
     "output_type": "execute_result"
    }
   ],
   "source": [
    "game.nlargest(5, \"JP_Sales\")"
   ]
  },
  {
   "cell_type": "markdown",
   "metadata": {},
   "source": [
    "#### Vendas no restante do planeta."
   ]
  },
  {
   "cell_type": "code",
   "execution_count": 29,
   "metadata": {},
   "outputs": [
    {
     "data": {
      "text/html": [
       "<div>\n",
       "<style scoped>\n",
       "    .dataframe tbody tr th:only-of-type {\n",
       "        vertical-align: middle;\n",
       "    }\n",
       "\n",
       "    .dataframe tbody tr th {\n",
       "        vertical-align: top;\n",
       "    }\n",
       "\n",
       "    .dataframe thead th {\n",
       "        text-align: right;\n",
       "    }\n",
       "</style>\n",
       "<table border=\"1\" class=\"dataframe\">\n",
       "  <thead>\n",
       "    <tr style=\"text-align: right;\">\n",
       "      <th></th>\n",
       "      <th>Rank</th>\n",
       "      <th>Name</th>\n",
       "      <th>Platform</th>\n",
       "      <th>Year</th>\n",
       "      <th>Genre</th>\n",
       "      <th>Publisher</th>\n",
       "      <th>NA_Sales</th>\n",
       "      <th>EU_Sales</th>\n",
       "      <th>JP_Sales</th>\n",
       "      <th>Other_Sales</th>\n",
       "      <th>Global_Sales</th>\n",
       "      <th>jogo</th>\n",
       "    </tr>\n",
       "  </thead>\n",
       "  <tbody>\n",
       "    <tr>\n",
       "      <th>17</th>\n",
       "      <td>18</td>\n",
       "      <td>Grand Theft Auto: San Andreas</td>\n",
       "      <td>PS2</td>\n",
       "      <td>2004</td>\n",
       "      <td>Action</td>\n",
       "      <td>Take-Two Interactive</td>\n",
       "      <td>9.43</td>\n",
       "      <td>0.40</td>\n",
       "      <td>0.41</td>\n",
       "      <td>10.57</td>\n",
       "      <td>20.81</td>\n",
       "      <td>2</td>\n",
       "    </tr>\n",
       "    <tr>\n",
       "      <th>0</th>\n",
       "      <td>1</td>\n",
       "      <td>Wii Sports</td>\n",
       "      <td>Wii</td>\n",
       "      <td>2006</td>\n",
       "      <td>Sports</td>\n",
       "      <td>Nintendo</td>\n",
       "      <td>41.49</td>\n",
       "      <td>29.02</td>\n",
       "      <td>3.77</td>\n",
       "      <td>8.46</td>\n",
       "      <td>82.74</td>\n",
       "      <td>1</td>\n",
       "    </tr>\n",
       "    <tr>\n",
       "      <th>47</th>\n",
       "      <td>48</td>\n",
       "      <td>Gran Turismo 4</td>\n",
       "      <td>PS2</td>\n",
       "      <td>2004</td>\n",
       "      <td>Racing</td>\n",
       "      <td>Sony Computer Entertainment</td>\n",
       "      <td>3.01</td>\n",
       "      <td>0.01</td>\n",
       "      <td>1.10</td>\n",
       "      <td>7.53</td>\n",
       "      <td>11.66</td>\n",
       "      <td>2</td>\n",
       "    </tr>\n",
       "    <tr>\n",
       "      <th>16</th>\n",
       "      <td>17</td>\n",
       "      <td>Grand Theft Auto V</td>\n",
       "      <td>PS3</td>\n",
       "      <td>2013</td>\n",
       "      <td>Action</td>\n",
       "      <td>Take-Two Interactive</td>\n",
       "      <td>7.01</td>\n",
       "      <td>9.27</td>\n",
       "      <td>0.97</td>\n",
       "      <td>4.14</td>\n",
       "      <td>21.40</td>\n",
       "      <td>2</td>\n",
       "    </tr>\n",
       "    <tr>\n",
       "      <th>2</th>\n",
       "      <td>3</td>\n",
       "      <td>Mario Kart Wii</td>\n",
       "      <td>Wii</td>\n",
       "      <td>2008</td>\n",
       "      <td>Racing</td>\n",
       "      <td>Nintendo</td>\n",
       "      <td>15.85</td>\n",
       "      <td>12.88</td>\n",
       "      <td>3.79</td>\n",
       "      <td>3.31</td>\n",
       "      <td>35.82</td>\n",
       "      <td>1</td>\n",
       "    </tr>\n",
       "  </tbody>\n",
       "</table>\n",
       "</div>"
      ],
      "text/plain": [
       "    Rank                           Name Platform  Year   Genre  \\\n",
       "17    18  Grand Theft Auto: San Andreas      PS2  2004  Action   \n",
       "0      1                     Wii Sports      Wii  2006  Sports   \n",
       "47    48                 Gran Turismo 4      PS2  2004  Racing   \n",
       "16    17             Grand Theft Auto V      PS3  2013  Action   \n",
       "2      3                 Mario Kart Wii      Wii  2008  Racing   \n",
       "\n",
       "                      Publisher  NA_Sales  EU_Sales  JP_Sales  Other_Sales  \\\n",
       "17         Take-Two Interactive      9.43      0.40      0.41        10.57   \n",
       "0                      Nintendo     41.49     29.02      3.77         8.46   \n",
       "47  Sony Computer Entertainment      3.01      0.01      1.10         7.53   \n",
       "16         Take-Two Interactive      7.01      9.27      0.97         4.14   \n",
       "2                      Nintendo     15.85     12.88      3.79         3.31   \n",
       "\n",
       "    Global_Sales  jogo  \n",
       "17         20.81     2  \n",
       "0          82.74     1  \n",
       "47         11.66     2  \n",
       "16         21.40     2  \n",
       "2          35.82     1  "
      ]
     },
     "execution_count": 29,
     "metadata": {},
     "output_type": "execute_result"
    }
   ],
   "source": [
    "game.nlargest(5, \"Other_Sales\")"
   ]
  },
  {
   "cell_type": "markdown",
   "metadata": {},
   "source": [
    "## Análises gráficas dos dados"
   ]
  },
  {
   "cell_type": "markdown",
   "metadata": {},
   "source": [
    "#### As primeiras análises desse *dataset* tiveram como foco compreender a separação entre os vetores, aglutinar consoles de uma mesma organização, apresentar os games mais e menos vendidos da base de dados, dentre outras informações. Já os próximos chunks possuem uma análise descritiva de forma gráfica, apresentando alguns resultados já mencionados anteriormente e outros agregando mais de um elemento em uma mesma análise. Este é o caso da próxima figura, apresentando o resultado de mais games vendidos por console. Enquanto os dois primeiros (DS e PS2) estão praticamente empatados, o terceiro colocado apresenta drástica queda em relação aos dois primeiros."
   ]
  },
  {
   "cell_type": "code",
   "execution_count": 30,
   "metadata": {},
   "outputs": [
    {
     "data": {
      "text/plain": [
       "<AxesSubplot:title={'center':'Consoles'}>"
      ]
     },
     "execution_count": 30,
     "metadata": {},
     "output_type": "execute_result"
    },
    {
     "data": {
      "image/png": "[encoded data removed]",
      "text/plain": [
       "<Figure size 432x288 with 1 Axes>"
      ]
     },
     "metadata": {
      "needs_background": "light"
     },
     "output_type": "display_data"
    }
   ],
   "source": [
    "game[\"Platform\"].value_counts().plot.bar(edgecolor = 'black', title = \"Consoles\")"
   ]
  },
  {
   "cell_type": "markdown",
   "metadata": {},
   "source": [
    "#### Alé de entender quais os consoles favoritos, a base de dados também proporciona a análise de quais são os estilos de jogos preferidos pelos jogadores nas mais diversas localidades. No caso abaixo, foi aplicado o gráfico barh, com as colunas na horizontal para apresentar os tipos de jogos preferidos pelo público mundial desde o início do período de games. De maneira geral, jogos de ação e esportes são os preferidos no mercado global. Também vale destacar os estilo de jogo RPG (*Role-Playing*) que apesar de ser mais nichado que os demais, ficou na quarta colocação."
   ]
  },
  {
   "cell_type": "code",
   "execution_count": 31,
   "metadata": {},
   "outputs": [
    {
     "data": {
      "text/plain": [
       "<AxesSubplot:title={'center':'Tipos de jogos'}>"
      ]
     },
     "execution_count": 31,
     "metadata": {},
     "output_type": "execute_result"
    },
    {
     "data": {
      "image/png": "[encoded data removed]",
      "text/plain": [
       "<Figure size 432x288 with 1 Axes>"
      ]
     },
     "metadata": {
      "needs_background": "light"
     },
     "output_type": "display_data"
    }
   ],
   "source": [
    "# Outra forma gráfico, até mesmo mais interessante como aponta o storytelling.\n",
    "\n",
    "game[\"Genre\"].value_counts().plot.barh(title=\"Tipos de jogos\")"
   ]
  },
  {
   "cell_type": "markdown",
   "metadata": {},
   "source": [
    "#### O código a seguir apresenta um gráfico de linhas, com base nos período que mais tiveram jogos com mais de 100 mil unidades vendidas. Percebe-se que os jogos com elevadas vendas passaram por uma forte trajetória ascendente a partir do início da década de 1990, chegando ao pico próximo ao final da década de 2000. Após esse período a quantidade de jogos que chegaram a mais de 100 mil unidades vendidas foram sendo reduzidas de mais drástica também. Contudo, cabe ressaltar que esse *dataset* pode não estar completamente atualizado, visto que apresenta dados até o final da década de 2010, entretanto, o PS4 e XBOXONE, não obtiveram tantas vendas relavantes, apesar do aumento do número de *gamers* nos últimos anos, sendo necessário avançar nessa análise para confirmar os dados encontrados."
   ]
  },
  {
   "cell_type": "code",
   "execution_count": 32,
   "metadata": {},
   "outputs": [
    {
     "data": {
      "text/plain": [
       "<AxesSubplot:title={'center':'Anos com mais jogos acima de 100 mil unidades vendidas'}, xlabel='Year'>"
      ]
     },
     "execution_count": 32,
     "metadata": {},
     "output_type": "execute_result"
    },
    {
     "data": {
      "image/png": "[encoded data removed]",
      "text/plain": [
       "<Figure size 432x288 with 1 Axes>"
      ]
     },
     "metadata": {
      "needs_background": "light"
     },
     "output_type": "display_data"
    }
   ],
   "source": [
    "game.groupby(['Year']).Year.count().plot(kind='line', title=\"Anos com mais jogos acima de 100 mil unidades vendidas\")"
   ]
  },
  {
   "cell_type": "markdown",
   "metadata": {},
   "source": [
    "#### Essas análises iniciais com base em gráficos já trouxeram novas informações sobre o *dataset*, mas mantendo a linha de informação desde o início do trabalho. A partir dos próximos gráficos, passa-se a aplicar a metodologia *treemaps* para poder correlecionar mais de uma informação em um mesmo gráfico. Para conseguir esse objetivo, se faz necessário a introdução de mais uma biblioteca do **Python**, conhecida como *plotly.express*. "
   ]
  },
  {
   "cell_type": "code",
   "execution_count": 33,
   "metadata": {},
   "outputs": [
    {
     "data": {
      "text/plain": [
       "Index(['Rank', 'Name', 'Platform', 'Year', 'Genre', 'Publisher', 'NA_Sales',\n",
       "       'EU_Sales', 'JP_Sales', 'Other_Sales', 'Global_Sales', 'jogo'],\n",
       "      dtype='object')"
      ]
     },
     "execution_count": 33,
     "metadata": {},
     "output_type": "execute_result"
    }
   ],
   "source": [
    "game.columns"
   ]
  },
  {
   "cell_type": "code",
   "execution_count": 34,
   "metadata": {},
   "outputs": [],
   "source": [
    "import plotly.express as px"
   ]
  },
  {
   "cell_type": "markdown",
   "metadata": {},
   "source": [
    "#### O gráfico abaixo apresenta a relação das desenvolvedoras que tiveram mais jogos com mais de cem mil unidades vendidas."
   ]
  },
  {
   "cell_type": "code",
   "execution_count": 35,
   "metadata": {},
   "outputs": [
    {
     "data": {
      "application/vnd.plotly.v1+json": {
       "config": {
        "plotlyServerURL": "https://plot.ly"
       },
       "data": [
        {
         "branchvalues": "total",
         "domain": {
          "x": [
           0,
           1
          ],
          "y": [
           0,
           1
          ]
         },
         "hovertemplate": "labels=%{label}<br>Global_Sales=%{value}<br>parent=%{parent}<br>id=%{id}<extra></extra>",
         "ids": [
          "Platform/10TACLE Studios",
          "Platform/1C Company",
          "Platform/20th Century Fox Video Games",
          "Platform/2D Boy",
          "Platform/3DO",
          "Platform/49Games",
          "Platform/505 Games",
          "Platform/5pb",
          "Platform/7G//AMES",
          "Platform/989 Sports",
          "Platform/989 Studios",
          "Platform/AQ Interactive",
          "Platform/ASC Games",
          "Platform/ASCII Entertainment",
          "Platform/ASCII Media Works",
          "Platform/ASK",
          "Platform/Abylight",
          "Platform/Acclaim Entertainment",
          "Platform/Accolade",
          "Platform/Ackkstudios",
          "Platform/Acquire",
          "Platform/Activision",
          "Platform/Activision Blizzard",
          "Platform/Activision Value",
          "Platform/Adeline Software",
          "Platform/Aerosoft",
          "Platform/Agatsuma Entertainment",
          "Platform/Agetec",
          "Platform/Aksys Games",
          "Platform/Alawar Entertainment",
          "Platform/Alchemist",
          "Platform/Alternative Software",
          "Platform/Altron",
          "Platform/Alvion",
          "Platform/American Softworks",
          "Platform/Angel Studios",
          "Platform/Answer Software",
          "Platform/Aqua Plus",
          "Platform/Aques",
          "Platform/Arc System Works",
          "Platform/Arena Entertainment",
          "Platform/Aria",
          "Platform/Arika",
          "Platform/ArtDink",
          "Platform/Aruze Corp",
          "Platform/Ascaron Entertainment",
          "Platform/Ascaron Entertainment GmbH",
          "Platform/Asgard",
          "Platform/Asmik Ace Entertainment",
          "Platform/Asmik Corp",
          "Platform/Aspyr",
          "Platform/Astragon",
          "Platform/Asylum Entertainment",
          "Platform/Atari",
          "Platform/Athena",
          "Platform/Atlus",
          "Platform/Avalon Interactive",
          "Platform/Avanquest",
          "Platform/Avanquest Software",
          "Platform/Axela",
          "Platform/BAM! Entertainment",
          "Platform/BMG Interactive Entertainment",
          "Platform/BPS",
          "Platform/Banpresto",
          "Platform/Benesse",
          "Platform/Berkeley",
          "Platform/Bethesda Softworks",
          "Platform/Big Ben Interactive",
          "Platform/Big Fish Games",
          "Platform/Bigben Interactive",
          "Platform/Black Bean Games",
          "Platform/Black Label Games",
          "Platform/Blast! Entertainment Ltd",
          "Platform/Blue Byte",
          "Platform/Bohemia Interactive",
          "Platform/Bomb",
          "Platform/Boost On",
          "Platform/Brash Entertainment",
          "Platform/Broccoli",
          "Platform/BushiRoad",
          "Platform/CBS Electronics",
          "Platform/CCP",
          "Platform/CDV Software Entertainment",
          "Platform/CPG Products",
          "Platform/CTO SpA",
          "Platform/Capcom",
          "Platform/Cave",
          "Platform/ChunSoft",
          "Platform/City Interactive",
          "Platform/Cloud Imperium Games Corporation",
          "Platform/Coconuts Japan",
          "Platform/Codemasters",
          "Platform/Codemasters Online",
          "Platform/CokeM Interactive",
          "Platform/Coleco",
          "Platform/Comfort",
          "Platform/Commseed",
          "Platform/Compile",
          "Platform/Compile Heart",
          "Platform/Conspiracy Entertainment",
          "Platform/Core Design Ltd.",
          "Platform/Crave Entertainment",
          "Platform/Creative Core",
          "Platform/Crimson Cow",
          "Platform/Crystal Dynamics",
          "Platform/Culture Brain",
          "Platform/Culture Publishers",
          "Platform/CyberFront",
          "Platform/Cygames",
          "Platform/D3Publisher",
          "Platform/DHM Interactive",
          "Platform/DSI Games",
          "Platform/DTP Entertainment",
          "Platform/Daedalic",
          "Platform/Daedalic Entertainment",
          "Platform/Daito",
          "Platform/Data Age",
          "Platform/Data Design Interactive",
          "Platform/Data East",
          "Platform/Datam Polystar",
          "Platform/Deep Silver",
          "Platform/Destination Software, Inc",
          "Platform/Destineer",
          "Platform/Detn8 Games",
          "Platform/Devolver Digital",
          "Platform/DigiCube",
          "Platform/Disney Interactive Studios",
          "Platform/Dorart",
          "Platform/DreamCatcher Interactive",
          "Platform/DreamWorks Interactive",
          "Platform/Dusenberry Martin Racing",
          "Platform/EA Games",
          "Platform/EON Digital Entertainment",
          "Platform/ESP",
          "Platform/Easy Interactive",
          "Platform/Ecole",
          "Platform/Edia",
          "Platform/Eidos Interactive",
          "Platform/Electronic Arts",
          "Platform/Electronic Arts Victor",
          "Platform/Elf",
          "Platform/Elite",
          "Platform/Empire Interactive",
          "Platform/Encore",
          "Platform/Enix Corporation",
          "Platform/Enjoy Gaming ltd.",
          "Platform/Enterbrain",
          "Platform/Epic Games",
          "Platform/Epoch",
          "Platform/Ertain",
          "Platform/Essential Games",
          "Platform/Evolution Games",
          "Platform/Evolved Games",
          "Platform/Excalibur Publishing",
          "Platform/Experience Inc.",
          "Platform/Extreme Entertainment Group",
          "Platform/Falcom Corporation",
          "Platform/Fields",
          "Platform/Flashpoint Games",
          "Platform/Flight-Plan",
          "Platform/Focus Home Interactive",
          "Platform/Focus Multimedia",
          "Platform/Foreign Media Games",
          "Platform/Fortyfive",
          "Platform/Fox Interactive",
          "Platform/From Software",
          "Platform/FuRyu",
          "Platform/FuRyu Corporation",
          "Platform/Fuji",
          "Platform/FunSoft",
          "Platform/Funbox Media",
          "Platform/Funcom",
          "Platform/Funsta",
          "Platform/G.Rev",
          "Platform/GN Software",
          "Platform/GOA",
          "Platform/GSP",
          "Platform/GT Interactive",
          "Platform/Gaga",
          "Platform/Gainax Network Systems",
          "Platform/Gakken",
          "Platform/Game Arts",
          "Platform/Game Factory",
          "Platform/Game Life",
          "Platform/GameMill Entertainment",
          "Platform/GameTek",
          "Platform/Gamebridge",
          "Platform/Gamecock",
          "Platform/Gameloft",
          "Platform/Gathering of Developers",
          "Platform/General Entertainment",
          "Platform/Genki",
          "Platform/Genterprise",
          "Platform/Ghostlight",
          "Platform/Giga",
          "Platform/Giza10",
          "Platform/Glams",
          "Platform/Global A Entertainment",
          "Platform/Global Star",
          "Platform/Gotham Games",
          "Platform/Graffiti",
          "Platform/Grand Prix Games",
          "Platform/Graphsim Entertainment",
          "Platform/Gremlin Interactive Ltd",
          "Platform/Griffin International",
          "Platform/Groove Games",
          "Platform/GungHo",
          "Platform/Gust",
          "Platform/HAL Laboratory",
          "Platform/HMH Interactive",
          "Platform/Hackberry",
          "Platform/Hamster Corporation",
          "Platform/Happinet",
          "Platform/Harmonix Music Systems",
          "Platform/Hasbro Interactive",
          "Platform/Havas Interactive",
          "Platform/Headup Games",
          "Platform/Hearty Robin",
          "Platform/Hect",
          "Platform/Hello Games",
          "Platform/Her Interactive",
          "Platform/Hip Interactive",
          "Platform/Home Entertainment Suppliers",
          "Platform/Hudson Entertainment",
          "Platform/Hudson Soft",
          "Platform/Human Entertainment",
          "Platform/HuneX",
          "Platform/IE Institute",
          "Platform/ITT Family Games",
          "Platform/Iceberg Interactive",
          "Platform/Idea Factory",
          "Platform/Idea Factory International",
          "Platform/Ignition Entertainment",
          "Platform/Illusion Softworks",
          "Platform/Imadio",
          "Platform/Image Epoch",
          "Platform/Imageworks",
          "Platform/Imagic",
          "Platform/Imagineer",
          "Platform/Imax",
          "Platform/Indie Games",
          "Platform/Infogrames",
          "Platform/Insomniac Games",
          "Platform/Interchannel",
          "Platform/Interchannel-Holon",
          "Platform/Intergrow",
          "Platform/Interplay",
          "Platform/Interplay Productions",
          "Platform/Interworks Unlimited, Inc.",
          "Platform/Inti Creates",
          "Platform/Introversion Software",
          "Platform/Irem Software Engineering",
          "Platform/Ivolgamus",
          "Platform/JVC",
          "Platform/Jack of All Games",
          "Platform/Jaleco",
          "Platform/Jester Interactive",
          "Platform/JoWood Productions",
          "Platform/Jorudan",
          "Platform/Just Flight",
          "Platform/KID",
          "Platform/KSS",
          "Platform/Kadokawa Games",
          "Platform/Kadokawa Shoten",
          "Platform/Kaga Create",
          "Platform/Kalypso Media",
          "Platform/Kamui",
          "Platform/Kando Games",
          "Platform/Karin Entertainment",
          "Platform/Kemco",
          "Platform/Kids Station",
          "Platform/King Records",
          "Platform/Knowledge Adventure",
          "Platform/Koch Media",
          "Platform/Kokopeli Digital Studios",
          "Platform/Konami Digital Entertainment",
          "Platform/Kool Kizz",
          "Platform/LEGO Media",
          "Platform/LSP Games",
          "Platform/Laguna",
          "Platform/Legacy Interactive",
          "Platform/Level 5",
          "Platform/Lexicon Entertainment",
          "Platform/Licensed 4U",
          "Platform/Lighthouse Interactive",
          "Platform/Liquid Games",
          "Platform/Little Orbit",
          "Platform/Locus",
          "Platform/LucasArts",
          "Platform/MC2 Entertainment",
          "Platform/MLB.com",
          "Platform/MTO",
          "Platform/MTV Games",
          "Platform/Mad Catz",
          "Platform/Magical Company",
          "Platform/Magix",
          "Platform/Majesco Entertainment",
          "Platform/Mamba Games",
          "Platform/Marvel Entertainment",
          "Platform/Marvelous Entertainment",
          "Platform/Marvelous Games",
          "Platform/Marvelous Interactive",
          "Platform/Masque Publishing",
          "Platform/Mastertronic",
          "Platform/Mastiff",
          "Platform/Mattel Interactive",
          "Platform/Max Five",
          "Platform/Maximum Family Games",
          "Platform/Maxis",
          "Platform/Media Entertainment",
          "Platform/Media Factory",
          "Platform/Media Rings",
          "Platform/Media Works",
          "Platform/MediaQuest",
          "Platform/Men-A-Vision",
          "Platform/Mentor Interactive",
          "Platform/Mercury Games",
          "Platform/Merscom LLC",
          "Platform/Metro 3D",
          "Platform/Michaelsoft",
          "Platform/Micro Cabin",
          "Platform/Microids",
          "Platform/Microprose",
          "Platform/Microsoft Game Studios",
          "Platform/Midas Interactive Entertainment",
          "Platform/Midway Games",
          "Platform/Milestone",
          "Platform/Milestone S.r.l",
          "Platform/Milestone S.r.l.",
          "Platform/Minato Station",
          "Platform/Mindscape",
          "Platform/Mirai Shounen",
          "Platform/Misawa",
          "Platform/Mitsui",
          "Platform/Mojang",
          "Platform/Monte Christo Multimedia",
          "Platform/Moss",
          "Platform/Mud Duck Productions",
          "Platform/Mumbo Jumbo",
          "Platform/Mycom",
          "Platform/Myelin Media",
          "Platform/Mystique",
          "Platform/NCS",
          "Platform/NCSoft",
          "Platform/NDA Productions",
          "Platform/NEC",
          "Platform/NEC Interchannel",
          "Platform/Namco Bandai Games",
          "Platform/Natsume",
          "Platform/Navarre Corp",
          "Platform/Naxat Soft",
          "Platform/Neko Entertainment",
          "Platform/NetRevo",
          "Platform/New",
          "Platform/New World Computing",
          "Platform/NewKidCo",
          "Platform/Nexon",
          "Platform/Nichibutsu",
          "Platform/Nihon Falcom Corporation",
          "Platform/Nintendo",
          "Platform/Nippon Amuse",
          "Platform/Nippon Columbia",
          "Platform/Nippon Ichi Software",
          "Platform/Nippon Telenet",
          "Platform/Nitroplus",
          "Platform/Nobilis",
          "Platform/Nordcurrent",
          "Platform/Nordic Games",
          "Platform/NovaLogic",
          "Platform/Number None",
          "Platform/O-Games",
          "Platform/O3 Entertainment",
          "Platform/Ocean",
          "Platform/Office Create",
          "Platform/On Demand",
          "Platform/Ongakukan",
          "Platform/Origin Systems",
          "Platform/Otomate",
          "Platform/Oxygen Interactive",
          "Platform/P2 Games",
          "Platform/PM Studios",
          "Platform/PQube",
          "Platform/Pacific Century Cyber Works",
          "Platform/Pack In Soft",
          "Platform/Pack-In-Video",
          "Platform/Palcom",
          "Platform/Panther Software",
          "Platform/Paon",
          "Platform/Paon Corporation",
          "Platform/Paradox Development",
          "Platform/Paradox Interactive",
          "Platform/Parker Bros.",
          "Platform/Performance Designed Products",
          "Platform/Phantagram",
          "Platform/Phantom EFX",
          "Platform/Phenomedia",
          "Platform/Phoenix Games",
          "Platform/Piacci",
          "Platform/Pinnacle",
          "Platform/Pioneer LDC",
          "Platform/Play It",
          "Platform/PlayV",
          "Platform/Playlogic Game Factory",
          "Platform/Playmates",
          "Platform/Playmore",
          "Platform/Plenty",
          "Platform/Pony Canyon",
          "Platform/PopCap Games",
          "Platform/PopTop Software",
          "Platform/Popcorn Arcade",
          "Platform/Pow",
          "Platform/Princess Soft",
          "Platform/Prototype",
          "Platform/Psygnosis",
          "Platform/Quelle",
          "Platform/Quest",
          "Platform/Quinrose",
          "Platform/Quintet",
          "Platform/RED Entertainment",
          "Platform/RTL",
          "Platform/Rage Software",
          "Platform/Rain Games",
          "Platform/Rebellion",
          "Platform/Rebellion Developments",
          "Platform/Red Orb",
          "Platform/Red Storm Entertainment",
          "Platform/RedOctane",
          "Platform/Reef Entertainment",
          "Platform/Revolution (Japan)",
          "Platform/Revolution Software",
          "Platform/Rising Star Games",
          "Platform/Riverhillsoft",
          "Platform/Rocket Company",
          "Platform/Rondomedia",
          "Platform/Russel",
          "Platform/SCS Software",
          "Platform/SCi",
          "Platform/SNK",
          "Platform/SNK Playmore",
          "Platform/SPS",
          "Platform/SSI",
          "Platform/Sammy Corporation",
          "Platform/Saurus",
          "Platform/Scholastic Inc.",
          "Platform/Screenlife",
          "Platform/Sega",
          "Platform/Seta Corporation",
          "Platform/Seventh Chord",
          "Platform/Shogakukan",
          "Platform/Simon & Schuster Interactive",
          "Platform/Slightly Mad Studios",
          "Platform/Slitherine Software",
          "Platform/Societa",
          "Platform/Sold Out",
          "Platform/Sonnet",
          "Platform/Sony Computer Entertainment",
          "Platform/Sony Computer Entertainment America",
          "Platform/Sony Computer Entertainment Europe",
          "Platform/Sony Music Entertainment",
          "Platform/Sony Online Entertainment",
          "Platform/SouthPeak Games",
          "Platform/Spike",
          "Platform/Square",
          "Platform/Square EA",
          "Platform/Square Enix",
          "Platform/SquareSoft",
          "Platform/Stainless Games",
          "Platform/Starfish",
          "Platform/Starpath Corp.",
          "Platform/Sting",
          "Platform/Storm City Games",
          "Platform/Strategy First",
          "Platform/Success",
          "Platform/Summitsoft",
          "Platform/Sunflowers",
          "Platform/Sunrise Interactive",
          "Platform/Sunsoft",
          "Platform/Sweets",
          "Platform/Swing! Entertainment",
          "Platform/Syscom",
          "Platform/System 3",
          "Platform/System 3 Arcade Software",
          "Platform/System Soft",
          "Platform/T&E Soft",
          "Platform/TDK Core",
          "Platform/TDK Mediactive",
          "Platform/TGL",
          "Platform/THQ",
          "Platform/TOHO",
          "Platform/TYO",
          "Platform/Taito",
          "Platform/Takara",
          "Platform/Takara Tomy",
          "Platform/Take-Two Interactive",
          "Platform/Takuyo",
          "Platform/TalonSoft",
          "Platform/Team17 Software",
          "Platform/TechnoSoft",
          "Platform/Technos Japan Corporation",
          "Platform/Tecmo Koei",
          "Platform/Telegames",
          "Platform/Telltale Games",
          "Platform/Telstar",
          "Platform/Tetris Online",
          "Platform/The Adventure Company",
          "Platform/The Learning Company",
          "Platform/Tigervision",
          "Platform/Time Warner Interactive",
          "Platform/Titus",
          "Platform/Tivola",
          "Platform/Tommo",
          "Platform/Tomy Corporation",
          "Platform/TopWare Interactive",
          "Platform/Touchstone",
          "Platform/Tradewest",
          "Platform/Trion Worlds",
          "Platform/Tripwire Interactive",
          "Platform/Tru Blu Entertainment",
          "Platform/Tryfirst",
          "Platform/Type-Moon",
          "Platform/U.S. Gold",
          "Platform/UEP Systems",
          "Platform/UFO Interactive",
          "Platform/UIG Entertainment",
          "Platform/Ubisoft",
          "Platform/Ubisoft Annecy",
          "Platform/Universal Gamex",
          "Platform/Universal Interactive",
          "Platform/Unknown",
          "Platform/Valcon Games",
          "Platform/ValuSoft",
          "Platform/Valve",
          "Platform/Valve Software",
          "Platform/Vap",
          "Platform/Vatical Entertainment",
          "Platform/Vic Tokai",
          "Platform/Victor Interactive",
          "Platform/Video System",
          "Platform/Views",
          "Platform/Vir2L Studios",
          "Platform/Virgin Interactive",
          "Platform/Virtual Play Games",
          "Platform/Visco",
          "Platform/Vivendi Games",
          "Platform/Wanadoo",
          "Platform/Warashi",
          "Platform/Wargaming.net",
          "Platform/Warner Bros. Interactive Entertainment",
          "Platform/Warp",
          "Platform/WayForward Technologies",
          "Platform/Westwood Studios",
          "Platform/White Park Bay Software",
          "Platform/Wizard Video Games",
          "Platform/XS Games",
          "Platform/Xicat Interactive",
          "Platform/Xing Entertainment",
          "Platform/Xplosiv",
          "Platform/Xseed Games",
          "Platform/Yacht Club Games",
          "Platform/Yamasa Entertainment",
          "Platform/Yeti",
          "Platform/Yuke's",
          "Platform/Yumedia",
          "Platform/Zenrin",
          "Platform/Zoo Digital Publishing",
          "Platform/Zoo Games",
          "Platform/Zushi Games",
          "Platform/bitComposer Games",
          "Platform/dramatic create",
          "Platform/fonfun",
          "Platform/iWin",
          "Platform/id Software",
          "Platform/imageepoch Inc.",
          "Platform/inXile Entertainment",
          "Platform/mixi, Inc",
          "Platform/responDESIGN",
          "Platform"
         ],
         "labels": [
          "10TACLE Studios",
          "1C Company",
          "20th Century Fox Video Games",
          "2D Boy",
          "3DO",
          "49Games",
          "505 Games",
          "5pb",
          "7G//AMES",
          "989 Sports",
          "989 Studios",
          "AQ Interactive",
          "ASC Games",
          "ASCII Entertainment",
          "ASCII Media Works",
          "ASK",
          "Abylight",
          "Acclaim Entertainment",
          "Accolade",
          "Ackkstudios",
          "Acquire",
          "Activision",
          "Activision Blizzard",
          "Activision Value",
          "Adeline Software",
          "Aerosoft",
          "Agatsuma Entertainment",
          "Agetec",
          "Aksys Games",
          "Alawar Entertainment",
          "Alchemist",
          "Alternative Software",
          "Altron",
          "Alvion",
          "American Softworks",
          "Angel Studios",
          "Answer Software",
          "Aqua Plus",
          "Aques",
          "Arc System Works",
          "Arena Entertainment",
          "Aria",
          "Arika",
          "ArtDink",
          "Aruze Corp",
          "Ascaron Entertainment",
          "Ascaron Entertainment GmbH",
          "Asgard",
          "Asmik Ace Entertainment",
          "Asmik Corp",
          "Aspyr",
          "Astragon",
          "Asylum Entertainment",
          "Atari",
          "Athena",
          "Atlus",
          "Avalon Interactive",
          "Avanquest",
          "Avanquest Software",
          "Axela",
          "BAM! Entertainment",
          "BMG Interactive Entertainment",
          "BPS",
          "Banpresto",
          "Benesse",
          "Berkeley",
          "Bethesda Softworks",
          "Big Ben Interactive",
          "Big Fish Games",
          "Bigben Interactive",
          "Black Bean Games",
          "Black Label Games",
          "Blast! Entertainment Ltd",
          "Blue Byte",
          "Bohemia Interactive",
          "Bomb",
          "Boost On",
          "Brash Entertainment",
          "Broccoli",
          "BushiRoad",
          "CBS Electronics",
          "CCP",
          "CDV Software Entertainment",
          "CPG Products",
          "CTO SpA",
          "Capcom",
          "Cave",
          "ChunSoft",
          "City Interactive",
          "Cloud Imperium Games Corporation",
          "Coconuts Japan",
          "Codemasters",
          "Codemasters Online",
          "CokeM Interactive",
          "Coleco",
          "Comfort",
          "Commseed",
          "Compile",
          "Compile Heart",
          "Conspiracy Entertainment",
          "Core Design Ltd.",
          "Crave Entertainment",
          "Creative Core",
          "Crimson Cow",
          "Crystal Dynamics",
          "Culture Brain",
          "Culture Publishers",
          "CyberFront",
          "Cygames",
          "D3Publisher",
          "DHM Interactive",
          "DSI Games",
          "DTP Entertainment",
          "Daedalic",
          "Daedalic Entertainment",
          "Daito",
          "Data Age",
          "Data Design Interactive",
          "Data East",
          "Datam Polystar",
          "Deep Silver",
          "Destination Software, Inc",
          "Destineer",
          "Detn8 Games",
          "Devolver Digital",
          "DigiCube",
          "Disney Interactive Studios",
          "Dorart",
          "DreamCatcher Interactive",
          "DreamWorks Interactive",
          "Dusenberry Martin Racing",
          "EA Games",
          "EON Digital Entertainment",
          "ESP",
          "Easy Interactive",
          "Ecole",
          "Edia",
          "Eidos Interactive",
          "Electronic Arts",
          "Electronic Arts Victor",
          "Elf",
          "Elite",
          "Empire Interactive",
          "Encore",
          "Enix Corporation",
          "Enjoy Gaming ltd.",
          "Enterbrain",
          "Epic Games",
          "Epoch",
          "Ertain",
          "Essential Games",
          "Evolution Games",
          "Evolved Games",
          "Excalibur Publishing",
          "Experience Inc.",
          "Extreme Entertainment Group",
          "Falcom Corporation",
          "Fields",
          "Flashpoint Games",
          "Flight-Plan",
          "Focus Home Interactive",
          "Focus Multimedia",
          "Foreign Media Games",
          "Fortyfive",
          "Fox Interactive",
          "From Software",
          "FuRyu",
          "FuRyu Corporation",
          "Fuji",
          "FunSoft",
          "Funbox Media",
          "Funcom",
          "Funsta",
          "G.Rev",
          "GN Software",
          "GOA",
          "GSP",
          "GT Interactive",
          "Gaga",
          "Gainax Network Systems",
          "Gakken",
          "Game Arts",
          "Game Factory",
          "Game Life",
          "GameMill Entertainment",
          "GameTek",
          "Gamebridge",
          "Gamecock",
          "Gameloft",
          "Gathering of Developers",
          "General Entertainment",
          "Genki",
          "Genterprise",
          "Ghostlight",
          "Giga",
          "Giza10",
          "Glams",
          "Global A Entertainment",
          "Global Star",
          "Gotham Games",
          "Graffiti",
          "Grand Prix Games",
          "Graphsim Entertainment",
          "Gremlin Interactive Ltd",
          "Griffin International",
          "Groove Games",
          "GungHo",
          "Gust",
          "HAL Laboratory",
          "HMH Interactive",
          "Hackberry",
          "Hamster Corporation",
          "Happinet",
          "Harmonix Music Systems",
          "Hasbro Interactive",
          "Havas Interactive",
          "Headup Games",
          "Hearty Robin",
          "Hect",
          "Hello Games",
          "Her Interactive",
          "Hip Interactive",
          "Home Entertainment Suppliers",
          "Hudson Entertainment",
          "Hudson Soft",
          "Human Entertainment",
          "HuneX",
          "IE Institute",
          "ITT Family Games",
          "Iceberg Interactive",
          "Idea Factory",
          "Idea Factory International",
          "Ignition Entertainment",
          "Illusion Softworks",
          "Imadio",
          "Image Epoch",
          "Imageworks",
          "Imagic",
          "Imagineer",
          "Imax",
          "Indie Games",
          "Infogrames",
          "Insomniac Games",
          "Interchannel",
          "Interchannel-Holon",
          "Intergrow",
          "Interplay",
          "Interplay Productions",
          "Interworks Unlimited, Inc.",
          "Inti Creates",
          "Introversion Software",
          "Irem Software Engineering",
          "Ivolgamus",
          "JVC",
          "Jack of All Games",
          "Jaleco",
          "Jester Interactive",
          "JoWood Productions",
          "Jorudan",
          "Just Flight",
          "KID",
          "KSS",
          "Kadokawa Games",
          "Kadokawa Shoten",
          "Kaga Create",
          "Kalypso Media",
          "Kamui",
          "Kando Games",
          "Karin Entertainment",
          "Kemco",
          "Kids Station",
          "King Records",
          "Knowledge Adventure",
          "Koch Media",
          "Kokopeli Digital Studios",
          "Konami Digital Entertainment",
          "Kool Kizz",
          "LEGO Media",
          "LSP Games",
          "Laguna",
          "Legacy Interactive",
          "Level 5",
          "Lexicon Entertainment",
          "Licensed 4U",
          "Lighthouse Interactive",
          "Liquid Games",
          "Little Orbit",
          "Locus",
          "LucasArts",
          "MC2 Entertainment",
          "MLB.com",
          "MTO",
          "MTV Games",
          "Mad Catz",
          "Magical Company",
          "Magix",
          "Majesco Entertainment",
          "Mamba Games",
          "Marvel Entertainment",
          "Marvelous Entertainment",
          "Marvelous Games",
          "Marvelous Interactive",
          "Masque Publishing",
          "Mastertronic",
          "Mastiff",
          "Mattel Interactive",
          "Max Five",
          "Maximum Family Games",
          "Maxis",
          "Media Entertainment",
          "Media Factory",
          "Media Rings",
          "Media Works",
          "MediaQuest",
          "Men-A-Vision",
          "Mentor Interactive",
          "Mercury Games",
          "Merscom LLC",
          "Metro 3D",
          "Michaelsoft",
          "Micro Cabin",
          "Microids",
          "Microprose",
          "Microsoft Game Studios",
          "Midas Interactive Entertainment",
          "Midway Games",
          "Milestone",
          "Milestone S.r.l",
          "Milestone S.r.l.",
          "Minato Station",
          "Mindscape",
          "Mirai Shounen",
          "Misawa",
          "Mitsui",
          "Mojang",
          "Monte Christo Multimedia",
          "Moss",
          "Mud Duck Productions",
          "Mumbo Jumbo",
          "Mycom",
          "Myelin Media",
          "Mystique",
          "NCS",
          "NCSoft",
          "NDA Productions",
          "NEC",
          "NEC Interchannel",
          "Namco Bandai Games",
          "Natsume",
          "Navarre Corp",
          "Naxat Soft",
          "Neko Entertainment",
          "NetRevo",
          "New",
          "New World Computing",
          "NewKidCo",
          "Nexon",
          "Nichibutsu",
          "Nihon Falcom Corporation",
          "Nintendo",
          "Nippon Amuse",
          "Nippon Columbia",
          "Nippon Ichi Software",
          "Nippon Telenet",
          "Nitroplus",
          "Nobilis",
          "Nordcurrent",
          "Nordic Games",
          "NovaLogic",
          "Number None",
          "O-Games",
          "O3 Entertainment",
          "Ocean",
          "Office Create",
          "On Demand",
          "Ongakukan",
          "Origin Systems",
          "Otomate",
          "Oxygen Interactive",
          "P2 Games",
          "PM Studios",
          "PQube",
          "Pacific Century Cyber Works",
          "Pack In Soft",
          "Pack-In-Video",
          "Palcom",
          "Panther Software",
          "Paon",
          "Paon Corporation",
          "Paradox Development",
          "Paradox Interactive",
          "Parker Bros.",
          "Performance Designed Products",
          "Phantagram",
          "Phantom EFX",
          "Phenomedia",
          "Phoenix Games",
          "Piacci",
          "Pinnacle",
          "Pioneer LDC",
          "Play It",
          "PlayV",
          "Playlogic Game Factory",
          "Playmates",
          "Playmore",
          "Plenty",
          "Pony Canyon",
          "PopCap Games",
          "PopTop Software",
          "Popcorn Arcade",
          "Pow",
          "Princess Soft",
          "Prototype",
          "Psygnosis",
          "Quelle",
          "Quest",
          "Quinrose",
          "Quintet",
          "RED Entertainment",
          "RTL",
          "Rage Software",
          "Rain Games",
          "Rebellion",
          "Rebellion Developments",
          "Red Orb",
          "Red Storm Entertainment",
          "RedOctane",
          "Reef Entertainment",
          "Revolution (Japan)",
          "Revolution Software",
          "Rising Star Games",
          "Riverhillsoft",
          "Rocket Company",
          "Rondomedia",
          "Russel",
          "SCS Software",
          "SCi",
          "SNK",
          "SNK Playmore",
          "SPS",
          "SSI",
          "Sammy Corporation",
          "Saurus",
          "Scholastic Inc.",
          "Screenlife",
          "Sega",
          "Seta Corporation",
          "Seventh Chord",
          "Shogakukan",
          "Simon & Schuster Interactive",
          "Slightly Mad Studios",
          "Slitherine Software",
          "Societa",
          "Sold Out",
          "Sonnet",
          "Sony Computer Entertainment",
          "Sony Computer Entertainment America",
          "Sony Computer Entertainment Europe",
          "Sony Music Entertainment",
          "Sony Online Entertainment",
          "SouthPeak Games",
          "Spike",
          "Square",
          "Square EA",
          "Square Enix",
          "SquareSoft",
          "Stainless Games",
          "Starfish",
          "Starpath Corp.",
          "Sting",
          "Storm City Games",
          "Strategy First",
          "Success",
          "Summitsoft",
          "Sunflowers",
          "Sunrise Interactive",
          "Sunsoft",
          "Sweets",
          "Swing! Entertainment",
          "Syscom",
          "System 3",
          "System 3 Arcade Software",
          "System Soft",
          "T&E Soft",
          "TDK Core",
          "TDK Mediactive",
          "TGL",
          "THQ",
          "TOHO",
          "TYO",
          "Taito",
          "Takara",
          "Takara Tomy",
          "Take-Two Interactive",
          "Takuyo",
          "TalonSoft",
          "Team17 Software",
          "TechnoSoft",
          "Technos Japan Corporation",
          "Tecmo Koei",
          "Telegames",
          "Telltale Games",
          "Telstar",
          "Tetris Online",
          "The Adventure Company",
          "The Learning Company",
          "Tigervision",
          "Time Warner Interactive",
          "Titus",
          "Tivola",
          "Tommo",
          "Tomy Corporation",
          "TopWare Interactive",
          "Touchstone",
          "Tradewest",
          "Trion Worlds",
          "Tripwire Interactive",
          "Tru Blu Entertainment",
          "Tryfirst",
          "Type-Moon",
          "U.S. Gold",
          "UEP Systems",
          "UFO Interactive",
          "UIG Entertainment",
          "Ubisoft",
          "Ubisoft Annecy",
          "Universal Gamex",
          "Universal Interactive",
          "Unknown",
          "Valcon Games",
          "ValuSoft",
          "Valve",
          "Valve Software",
          "Vap",
          "Vatical Entertainment",
          "Vic Tokai",
          "Victor Interactive",
          "Video System",
          "Views",
          "Vir2L Studios",
          "Virgin Interactive",
          "Virtual Play Games",
          "Visco",
          "Vivendi Games",
          "Wanadoo",
          "Warashi",
          "Wargaming.net",
          "Warner Bros. Interactive Entertainment",
          "Warp",
          "WayForward Technologies",
          "Westwood Studios",
          "White Park Bay Software",
          "Wizard Video Games",
          "XS Games",
          "Xicat Interactive",
          "Xing Entertainment",
          "Xplosiv",
          "Xseed Games",
          "Yacht Club Games",
          "Yamasa Entertainment",
          "Yeti",
          "Yuke's",
          "Yumedia",
          "Zenrin",
          "Zoo Digital Publishing",
          "Zoo Games",
          "Zushi Games",
          "bitComposer Games",
          "dramatic create",
          "fonfun",
          "iWin",
          "id Software",
          "imageepoch Inc.",
          "inXile Entertainment",
          "mixi, Inc",
          "responDESIGN",
          "Platform"
         ],
         "name": "",
         "parents": [
          "Platform",
          "Platform",
          "Platform",
          "Platform",
          "Platform",
          "Platform",
          "Platform",
          "Platform",
          "Platform",
          "Platform",
          "Platform",
          "Platform",
          "Platform",
          "Platform",
          "Platform",
          "Platform",
          "Platform",
          "Platform",
          "Platform",
          "Platform",
          "Platform",
          "Platform",
          "Platform",
          "Platform",
          "Platform",
          "Platform",
          "Platform",
          "Platform",
          "Platform",
          "Platform",
          "Platform",
          "Platform",
          "Platform",
          "Platform",
          "Platform",
          "Platform",
          "Platform",
          "Platform",
          "Platform",
          "Platform",
          "Platform",
          "Platform",
          "Platform",
          "Platform",
          "Platform",
          "Platform",
          "Platform",
          "Platform",
          "Platform",
          "Platform",
          "Platform",
          "Platform",
          "Platform",
          "Platform",
          "Platform",
          "Platform",
          "Platform",
          "Platform",
          "Platform",
          "Platform",
          "Platform",
          "Platform",
          "Platform",
          "Platform",
          "Platform",
          "Platform",
          "Platform",
          "Platform",
          "Platform",
          "Platform",
          "Platform",
          "Platform",
          "Platform",
          "Platform",
          "Platform",
          "Platform",
          "Platform",
          "Platform",
          "Platform",
          "Platform",
          "Platform",
          "Platform",
          "Platform",
          "Platform",
          "Platform",
          "Platform",
          "Platform",
          "Platform",
          "Platform",
          "Platform",
          "Platform",
          "Platform",
          "Platform",
          "Platform",
          "Platform",
          "Platform",
          "Platform",
          "Platform",
          "Platform",
          "Platform",
          "Platform",
          "Platform",
          "Platform",
          "Platform",
          "Platform",
          "Platform",
          "Platform",
          "Platform",
          "Platform",
          "Platform",
          "Platform",
          "Platform",
          "Platform",
          "Platform",
          "Platform",
          "Platform",
          "Platform",
          "Platform",
          "Platform",
          "Platform",
          "Platform",
          "Platform",
          "Platform",
          "Platform",
          "Platform",
          "Platform",
          "Platform",
          "Platform",
          "Platform",
          "Platform",
          "Platform",
          "Platform",
          "Platform",
          "Platform",
          "Platform",
          "Platform",
          "Platform",
          "Platform",
          "Platform",
          "Platform",
          "Platform",
          "Platform",
          "Platform",
          "Platform",
          "Platform",
          "Platform",
          "Platform",
          "Platform",
          "Platform",
          "Platform",
          "Platform",
          "Platform",
          "Platform",
          "Platform",
          "Platform",
          "Platform",
          "Platform",
          "Platform",
          "Platform",
          "Platform",
          "Platform",
          "Platform",
          "Platform",
          "Platform",
          "Platform",
          "Platform",
          "Platform",
          "Platform",
          "Platform",
          "Platform",
          "Platform",
          "Platform",
          "Platform",
          "Platform",
          "Platform",
          "Platform",
          "Platform",
          "Platform",
          "Platform",
          "Platform",
          "Platform",
          "Platform",
          "Platform",
          "Platform",
          "Platform",
          "Platform",
          "Platform",
          "Platform",
          "Platform",
          "Platform",
          "Platform",
          "Platform",
          "Platform",
          "Platform",
          "Platform",
          "Platform",
          "Platform",
          "Platform",
          "Platform",
          "Platform",
          "Platform",
          "Platform",
          "Platform",
          "Platform",
          "Platform",
          "Platform",
          "Platform",
          "Platform",
          "Platform",
          "Platform",
          "Platform",
          "Platform",
          "Platform",
          "Platform",
          "Platform",
          "Platform",
          "Platform",
          "Platform",
          "Platform",
          "Platform",
          "Platform",
          "Platform",
          "Platform",
          "Platform",
          "Platform",
          "Platform",
          "Platform",
          "Platform",
          "Platform",
          "Platform",
          "Platform",
          "Platform",
          "Platform",
          "Platform",
          "Platform",
          "Platform",
          "Platform",
          "Platform",
          "Platform",
          "Platform",
          "Platform",
          "Platform",
          "Platform",
          "Platform",
          "Platform",
          "Platform",
          "Platform",
          "Platform",
          "Platform",
          "Platform",
          "Platform",
          "Platform",
          "Platform",
          "Platform",
          "Platform",
          "Platform",
          "Platform",
          "Platform",
          "Platform",
          "Platform",
          "Platform",
          "Platform",
          "Platform",
          "Platform",
          "Platform",
          "Platform",
          "Platform",
          "Platform",
          "Platform",
          "Platform",
          "Platform",
          "Platform",
          "Platform",
          "Platform",
          "Platform",
          "Platform",
          "Platform",
          "Platform",
          "Platform",
          "Platform",
          "Platform",
          "Platform",
          "Platform",
          "Platform",
          "Platform",
          "Platform",
          "Platform",
          "Platform",
          "Platform",
          "Platform",
          "Platform",
          "Platform",
          "Platform",
          "Platform",
          "Platform",
          "Platform",
          "Platform",
          "Platform",
          "Platform",
          "Platform",
          "Platform",
          "Platform",
          "Platform",
          "Platform",
          "Platform",
          "Platform",
          "Platform",
          "Platform",
          "Platform",
          "Platform",
          "Platform",
          "Platform",
          "Platform",
          "Platform",
          "Platform",
          "Platform",
          "Platform",
          "Platform",
          "Platform",
          "Platform",
          "Platform",
          "Platform",
          "Platform",
          "Platform",
          "Platform",
          "Platform",
          "Platform",
          "Platform",
          "Platform",
          "Platform",
          "Platform",
          "Platform",
          "Platform",
          "Platform",
          "Platform",
          "Platform",
          "Platform",
          "Platform",
          "Platform",
          "Platform",
          "Platform",
          "Platform",
          "Platform",
          "Platform",
          "Platform",
          "Platform",
          "Platform",
          "Platform",
          "Platform",
          "Platform",
          "Platform",
          "Platform",
          "Platform",
          "Platform",
          "Platform",
          "Platform",
          "Platform",
          "Platform",
          "Platform",
          "Platform",
          "Platform",
          "Platform",
          "Platform",
          "Platform",
          "Platform",
          "Platform",
          "Platform",
          "Platform",
          "Platform",
          "Platform",
          "Platform",
          "Platform",
          "Platform",
          "Platform",
          "Platform",
          "Platform",
          "Platform",
          "Platform",
          "Platform",
          "Platform",
          "Platform",
          "Platform",
          "Platform",
          "Platform",
          "Platform",
          "Platform",
          "Platform",
          "Platform",
          "Platform",
          "Platform",
          "Platform",
          "Platform",
          "Platform",
          "Platform",
          "Platform",
          "Platform",
          "Platform",
          "Platform",
          "Platform",
          "Platform",
          "Platform",
          "Platform",
          "Platform",
          "Platform",
          "Platform",
          "Platform",
          "Platform",
          "Platform",
          "Platform",
          "Platform",
          "Platform",
          "Platform",
          "Platform",
          "Platform",
          "Platform",
          "Platform",
          "Platform",
          "Platform",
          "Platform",
          "Platform",
          "Platform",
          "Platform",
          "Platform",
          "Platform",
          "Platform",
          "Platform",
          "Platform",
          "Platform",
          "Platform",
          "Platform",
          "Platform",
          "Platform",
          "Platform",
          "Platform",
          "Platform",
          "Platform",
          "Platform",
          "Platform",
          "Platform",
          "Platform",
          "Platform",
          "Platform",
          "Platform",
          "Platform",
          "Platform",
          "Platform",
          "Platform",
          "Platform",
          "Platform",
          "Platform",
          "Platform",
          "Platform",
          "Platform",
          "Platform",
          "Platform",
          "Platform",
          "Platform",
          "Platform",
          "Platform",
          "Platform",
          "Platform",
          "Platform",
          "Platform",
          "Platform",
          "Platform",
          "Platform",
          "Platform",
          "Platform",
          "Platform",
          "Platform",
          "Platform",
          "Platform",
          "Platform",
          "Platform",
          "Platform",
          "Platform",
          "Platform",
          "Platform",
          "Platform",
          "Platform",
          "Platform",
          "Platform",
          "Platform",
          "Platform",
          "Platform",
          "Platform",
          "Platform",
          "Platform",
          "Platform",
          "Platform",
          "Platform",
          "Platform",
          "Platform",
          "Platform",
          "Platform",
          "Platform",
          "Platform",
          "Platform",
          "Platform",
          "Platform",
          "Platform",
          "Platform",
          "Platform",
          "Platform",
          "Platform",
          "Platform",
          "Platform",
          "Platform",
          "Platform",
          "Platform",
          "Platform",
          "Platform",
          "Platform",
          "Platform",
          "Platform",
          "Platform",
          "Platform",
          "Platform",
          "Platform",
          "Platform",
          "Platform",
          "Platform",
          "Platform",
          "Platform",
          "Platform",
          "Platform",
          "Platform",
          "Platform",
          "Platform",
          "Platform",
          "Platform",
          "Platform",
          "Platform",
          "Platform",
          "Platform",
          "Platform",
          "Platform",
          "Platform",
          "Platform",
          "Platform",
          "Platform",
          "Platform",
          "Platform",
          "Platform",
          "Platform",
          "Platform",
          "Platform",
          "Platform",
          "Platform",
          "Platform",
          "Platform",
          "Platform",
          "Platform",
          "Platform",
          "Platform",
          "Platform",
          "Platform",
          "Platform",
          "Platform",
          "Platform",
          "Platform",
          "Platform",
          "Platform",
          "Platform",
          "Platform",
          "Platform",
          "Platform",
          "Platform",
          "Platform",
          "Platform",
          "Platform",
          "Platform",
          "Platform",
          "Platform",
          "Platform",
          "Platform",
          ""
         ],
         "root": {
          "color": "black"
         },
         "type": "treemap",
         "values": [
          0.11,
          0.1,
          1.9400000000000002,
          0.04,
          10.120000000000001,
          0.04,
          55.91,
          1.6300000000000001,
          0.08,
          0.38,
          13.32,
          0.53,
          2.02,
          10.89,
          0.27,
          0.03,
          0.08,
          64.14,
          1.6800000000000002,
          0.8400000000000001,
          1.07,
          721.41,
          0.48,
          6.96,
          0.17,
          0.03,
          0.31,
          1.9400000000000002,
          0.44,
          0.05,
          2.63,
          0.2,
          0.07,
          0.04,
          0.23,
          0.43999999999999995,
          0.5,
          1.25,
          0.16,
          1.48,
          4.72,
          0.07,
          0.09,
          0.73,
          1.1800000000000002,
          0.01,
          0.11,
          0.25,
          0.23,
          0.17,
          0.62,
          0.64,
          0.59,
          146.77,
          0.09000000000000001,
          12.74,
          0.48000000000000004,
          2.94,
          1.69,
          0.25,
          4.95,
          1.18,
          0.52,
          17.4,
          0.33,
          0.03,
          81.53,
          1,
          0.05,
          0.84,
          2.87,
          1.2,
          0.38,
          0.03,
          0.12,
          0.22,
          0.01,
          1.23,
          0.96,
          0.03,
          0.31,
          0.22,
          0.2,
          0.54,
          0.9,
          199.95,
          0.33,
          4.07,
          4.58,
          0.08,
          0.07,
          47.77,
          0.02,
          0.31,
          3.06,
          0.15,
          0.01,
          2.46,
          1.37,
          0.8400000000000001,
          0.29000000000000004,
          9.93,
          0.09999999999999999,
          0.08,
          1.71,
          0.27,
          0.09,
          0.27,
          0.03,
          24.06,
          0.18,
          0.35000000000000003,
          3.57,
          0.27999999999999997,
          0.14,
          0.22999999999999998,
          0.71,
          0.29000000000000004,
          0.15,
          0.03,
          25.59,
          0.88,
          4.36,
          0.23,
          0.04,
          0.06,
          118.76,
          0.03,
          0.9500000000000001,
          0.13,
          0.05,
          0.15,
          0.01,
          0.59,
          0.05,
          0.06,
          0.09000000000000001,
          96.75,
          1093.39,
          0.42,
          0.64,
          0.07,
          11.14,
          0.07,
          33.74,
          0.1,
          2.23,
          0.01,
          1.05,
          0.05,
          0.23,
          0.07,
          0.32,
          0.28,
          0.06,
          0.03,
          1.21,
          0.03,
          0.08,
          0.12,
          7.44,
          0.05,
          0.63,
          0.06,
          7.39,
          1.6300000000000001,
          1.32,
          0.03,
          0.03,
          0.12,
          0.91,
          0.2,
          0.16,
          0.04,
          0.05,
          0.02,
          3.69,
          25.23,
          0.02,
          0.16,
          0.04,
          0.14,
          3.79,
          0.30000000000000004,
          1.3800000000000001,
          0.1,
          0.73,
          0.2,
          0.11,
          1.19,
          0.14,
          1.46,
          0.01,
          2.67,
          0.02,
          0.02,
          0.08,
          0.15,
          7.65,
          3.72,
          0.38,
          0.06,
          0.02,
          1.1,
          0.09,
          0.09,
          3.15,
          1.1,
          0.06,
          0.14,
          0.31,
          0.30000000000000004,
          0.18000000000000002,
          0.8,
          15.22,
          0.13,
          0.03,
          0.09,
          0.5,
          1.6,
          0.03,
          0.36000000000000004,
          0.45,
          1.69,
          23.01,
          3,
          0.03,
          0.9600000000000001,
          0.34,
          0.08,
          4.01,
          0.61,
          6.66,
          0.7,
          0.14,
          0.1,
          0.02,
          4.82,
          2.65,
          0.06,
          0.32,
          16.18,
          0.12,
          0.1,
          0.01,
          0.03,
          6.66,
          0.1,
          0.01,
          0.01,
          0.02,
          0.46,
          0.04,
          2.8,
          0.42,
          1.94,
          1.15,
          1.49,
          0.95,
          0.03,
          0.08,
          0.03,
          0.58,
          3.77,
          0.14,
          1.95,
          0.03,
          0.03,
          0.02,
          2.22,
          0.03,
          0.02,
          1.47,
          4.71,
          0.03,
          278.56,
          0.04,
          1.56,
          0.12,
          1.55,
          0.04,
          12.17,
          0.05,
          0.07,
          0.02,
          0.27,
          2.04,
          0.07,
          84.95,
          0.08,
          0.04,
          0.4,
          18.86,
          0.30000000000000004,
          0.41,
          0.35,
          15.81,
          0.05,
          0.05,
          2.33,
          0.02,
          4.17,
          0.02,
          1.73,
          2.23,
          3.5100000000000002,
          0.05,
          0.03,
          3.39,
          0.01,
          0.29000000000000004,
          0.65,
          0.18,
          0.05,
          0.77,
          1.07,
          0.21,
          0.2,
          1.84,
          0.01,
          0.2,
          0.4,
          1.9800000000000002,
          245.79,
          2.72,
          69.29,
          0.08,
          0.05,
          1.28,
          0.05,
          7.74,
          0.02,
          0.07,
          0.08,
          2.89,
          0.05,
          0.13,
          0.85,
          0.5800000000000001,
          0.02,
          0.13,
          0.82,
          0.4,
          2.59,
          0.12,
          0.43000000000000005,
          0.78,
          253.65,
          3.69,
          0.05,
          0.01,
          0.31,
          0.03,
          0.36,
          0.01,
          1.33,
          0.03,
          0.28,
          0.77,
          1784.43,
          0.09,
          0.9500000000000001,
          13.98,
          0.26,
          0.02,
          1.94,
          0.5900000000000001,
          4.44,
          0.8200000000000001,
          0.03,
          1.08,
          0.22,
          3.61,
          0.06,
          0.21,
          0.01,
          0.09,
          0.01,
          3.45,
          0.4,
          0.1,
          4.27,
          0.26,
          0.48,
          0.11,
          4.17,
          0.17,
          0.25,
          0.03,
          0.01,
          0.76,
          4.970000000000001,
          0.36,
          0.05,
          0.09,
          0.19,
          0.02,
          0.01,
          1.42,
          0.74,
          4.3100000000000005,
          0.44,
          1.2,
          0.28,
          0.04,
          0.02,
          0.05,
          1.57,
          0.11,
          0.49,
          0.05,
          0.07,
          0.61,
          7.27,
          0.87,
          0.71,
          0.22,
          0.02,
          0.02,
          2,
          1.42,
          0.01,
          0.49,
          0.30000000000000004,
          5.24,
          2.32,
          8.68,
          0.33999999999999997,
          0.02,
          0.06999999999999999,
          17.27,
          0.04,
          1.82,
          2.58,
          1.2100000000000002,
          0.13,
          3.52,
          2.5900000000000003,
          0.9600000000000001,
          0.12,
          0.19,
          2.73,
          0.02,
          2.91,
          0.9199999999999999,
          270.7,
          0.63,
          0.08,
          0.44,
          0.11,
          1.3800000000000001,
          0.16,
          0.04,
          0.02,
          0.06,
          607.28,
          1.1800000000000002,
          23.89,
          0.14,
          3.5300000000000002,
          6.35,
          6.15,
          3.64,
          0.8,
          144.73,
          57.65,
          0.01,
          0.72,
          0.33,
          0.65,
          1.56,
          0.03,
          1.96,
          0.04,
          0.03,
          0.17,
          0.9500000000000001,
          0.05,
          0.48000000000000004,
          0.27,
          0.22,
          1.78,
          0.05,
          0.12,
          0.62,
          8.31,
          0.09999999999999999,
          340.44,
          0.11,
          0.42,
          2.84,
          3.45,
          2.7,
          399.3,
          0.01,
          0.87,
          0.05,
          0.05,
          0.02,
          53.55,
          1.03,
          2.72,
          0.27,
          0.43,
          0.51,
          0.05,
          1.42,
          0.35,
          3.32,
          0.17,
          0.21000000000000002,
          4.97,
          0.04,
          1.58,
          0.11,
          1.15,
          0.14,
          0.27999999999999997,
          0.03,
          0.1,
          0.33,
          2.25,
          0.9600000000000001,
          0.01,
          473.54,
          4.46,
          0.63,
          17.6,
          13.64,
          0.45,
          0.39,
          1.74,
          3.23,
          0.05,
          0.22,
          0.27,
          0.89,
          2.18,
          0.03,
          0.26,
          43.87,
          0.06,
          0.02,
          56.93,
          0.65,
          0.02,
          0.29,
          142.34,
          0.07,
          0.05,
          1.55,
          0.16,
          0.62,
          1.46,
          0.16999999999999998,
          0.24,
          1.6400000000000001,
          0.9,
          0.32,
          0.04,
          0.24,
          0.08,
          0.06,
          0.06,
          12.87,
          4.82,
          1.89,
          0.41000000000000003,
          0.11,
          0.02,
          0.06,
          0.03,
          0.04,
          0.1,
          0.86,
          0.13,
          8811.97
         ]
        }
       ],
       "layout": {
        "legend": {
         "tracegroupgap": 0
        },
        "margin": {
         "t": 60
        },
        "template": {
         "data": {
          "bar": [
           {
            "error_x": {
             "color": "#2a3f5f"
            },
            "error_y": {
             "color": "#2a3f5f"
            },
            "marker": {
             "line": {
              "color": "#E5ECF6",
              "width": 0.5
             },
             "pattern": {
              "fillmode": "overlay",
              "size": 10,
              "solidity": 0.2
             }
            },
            "type": "bar"
           }
          ],
          "barpolar": [
           {
            "marker": {
             "line": {
              "color": "#E5ECF6",
              "width": 0.5
             },
             "pattern": {
              "fillmode": "overlay",
              "size": 10,
              "solidity": 0.2
             }
            },
            "type": "barpolar"
           }
          ],
          "carpet": [
           {
            "aaxis": {
             "endlinecolor": "#2a3f5f",
             "gridcolor": "white",
             "linecolor": "white",
             "minorgridcolor": "white",
             "startlinecolor": "#2a3f5f"
            },
            "baxis": {
             "endlinecolor": "#2a3f5f",
             "gridcolor": "white",
             "linecolor": "white",
             "minorgridcolor": "white",
             "startlinecolor": "#2a3f5f"
            },
            "type": "carpet"
           }
          ],
          "choropleth": [
           {
            "colorbar": {
             "outlinewidth": 0,
             "ticks": ""
            },
            "type": "choropleth"
           }
          ],
          "contour": [
           {
            "colorbar": {
             "outlinewidth": 0,
             "ticks": ""
            },
            "colorscale": [
             [
              0,
              "#0d0887"
             ],
             [
              0.1111111111111111,
              "#46039f"
             ],
             [
              0.2222222222222222,
              "#7201a8"
             ],
             [
              0.3333333333333333,
              "#9c179e"
             ],
             [
              0.4444444444444444,
              "#bd3786"
             ],
             [
              0.5555555555555556,
              "#d8576b"
             ],
             [
              0.6666666666666666,
              "#ed7953"
             ],
             [
              0.7777777777777778,
              "#fb9f3a"
             ],
             [
              0.8888888888888888,
              "#fdca26"
             ],
             [
              1,
              "#f0f921"
             ]
            ],
            "type": "contour"
           }
          ],
          "contourcarpet": [
           {
            "colorbar": {
             "outlinewidth": 0,
             "ticks": ""
            },
            "type": "contourcarpet"
           }
          ],
          "heatmap": [
           {
            "colorbar": {
             "outlinewidth": 0,
             "ticks": ""
            },
            "colorscale": [
             [
              0,
              "#0d0887"
             ],
             [
              0.1111111111111111,
              "#46039f"
             ],
             [
              0.2222222222222222,
              "#7201a8"
             ],
             [
              0.3333333333333333,
              "#9c179e"
             ],
             [
              0.4444444444444444,
              "#bd3786"
             ],
             [
              0.5555555555555556,
              "#d8576b"
             ],
             [
              0.6666666666666666,
              "#ed7953"
             ],
             [
              0.7777777777777778,
              "#fb9f3a"
             ],
             [
              0.8888888888888888,
              "#fdca26"
             ],
             [
              1,
              "#f0f921"
             ]
            ],
            "type": "heatmap"
           }
          ],
          "heatmapgl": [
           {
            "colorbar": {
             "outlinewidth": 0,
             "ticks": ""
            },
            "colorscale": [
             [
              0,
              "#0d0887"
             ],
             [
              0.1111111111111111,
              "#46039f"
             ],
             [
              0.2222222222222222,
              "#7201a8"
             ],
             [
              0.3333333333333333,
              "#9c179e"
             ],
             [
              0.4444444444444444,
              "#bd3786"
             ],
             [
              0.5555555555555556,
              "#d8576b"
             ],
             [
              0.6666666666666666,
              "#ed7953"
             ],
             [
              0.7777777777777778,
              "#fb9f3a"
             ],
             [
              0.8888888888888888,
              "#fdca26"
             ],
             [
              1,
              "#f0f921"
             ]
            ],
            "type": "heatmapgl"
           }
          ],
          "histogram": [
           {
            "marker": {
             "pattern": {
              "fillmode": "overlay",
              "size": 10,
              "solidity": 0.2
             }
            },
            "type": "histogram"
           }
          ],
          "histogram2d": [
           {
            "colorbar": {
             "outlinewidth": 0,
             "ticks": ""
            },
            "colorscale": [
             [
              0,
              "#0d0887"
             ],
             [
              0.1111111111111111,
              "#46039f"
             ],
             [
              0.2222222222222222,
              "#7201a8"
             ],
             [
              0.3333333333333333,
              "#9c179e"
             ],
             [
              0.4444444444444444,
              "#bd3786"
             ],
             [
              0.5555555555555556,
              "#d8576b"
             ],
             [
              0.6666666666666666,
              "#ed7953"
             ],
             [
              0.7777777777777778,
              "#fb9f3a"
             ],
             [
              0.8888888888888888,
              "#fdca26"
             ],
             [
              1,
              "#f0f921"
             ]
            ],
            "type": "histogram2d"
           }
          ],
          "histogram2dcontour": [
           {
            "colorbar": {
             "outlinewidth": 0,
             "ticks": ""
            },
            "colorscale": [
             [
              0,
              "#0d0887"
             ],
             [
              0.1111111111111111,
              "#46039f"
             ],
             [
              0.2222222222222222,
              "#7201a8"
             ],
             [
              0.3333333333333333,
              "#9c179e"
             ],
             [
              0.4444444444444444,
              "#bd3786"
             ],
             [
              0.5555555555555556,
              "#d8576b"
             ],
             [
              0.6666666666666666,
              "#ed7953"
             ],
             [
              0.7777777777777778,
              "#fb9f3a"
             ],
             [
              0.8888888888888888,
              "#fdca26"
             ],
             [
              1,
              "#f0f921"
             ]
            ],
            "type": "histogram2dcontour"
           }
          ],
          "mesh3d": [
           {
            "colorbar": {
             "outlinewidth": 0,
             "ticks": ""
            },
            "type": "mesh3d"
           }
          ],
          "parcoords": [
           {
            "line": {
             "colorbar": {
              "outlinewidth": 0,
              "ticks": ""
             }
            },
            "type": "parcoords"
           }
          ],
          "pie": [
           {
            "automargin": true,
            "type": "pie"
           }
          ],
          "scatter": [
           {
            "fillpattern": {
             "fillmode": "overlay",
             "size": 10,
             "solidity": 0.2
            },
            "type": "scatter"
           }
          ],
          "scatter3d": [
           {
            "line": {
             "colorbar": {
              "outlinewidth": 0,
              "ticks": ""
             }
            },
            "marker": {
             "colorbar": {
              "outlinewidth": 0,
              "ticks": ""
             }
            },
            "type": "scatter3d"
           }
          ],
          "scattercarpet": [
           {
            "marker": {
             "colorbar": {
              "outlinewidth": 0,
              "ticks": ""
             }
            },
            "type": "scattercarpet"
           }
          ],
          "scattergeo": [
           {
            "marker": {
             "colorbar": {
              "outlinewidth": 0,
              "ticks": ""
             }
            },
            "type": "scattergeo"
           }
          ],
          "scattergl": [
           {
            "marker": {
             "colorbar": {
              "outlinewidth": 0,
              "ticks": ""
             }
            },
            "type": "scattergl"
           }
          ],
          "scattermapbox": [
           {
            "marker": {
             "colorbar": {
              "outlinewidth": 0,
              "ticks": ""
             }
            },
            "type": "scattermapbox"
           }
          ],
          "scatterpolar": [
           {
            "marker": {
             "colorbar": {
              "outlinewidth": 0,
              "ticks": ""
             }
            },
            "type": "scatterpolar"
           }
          ],
          "scatterpolargl": [
           {
            "marker": {
             "colorbar": {
              "outlinewidth": 0,
              "ticks": ""
             }
            },
            "type": "scatterpolargl"
           }
          ],
          "scatterternary": [
           {
            "marker": {
             "colorbar": {
              "outlinewidth": 0,
              "ticks": ""
             }
            },
            "type": "scatterternary"
           }
          ],
          "surface": [
           {
            "colorbar": {
             "outlinewidth": 0,
             "ticks": ""
            },
            "colorscale": [
             [
              0,
              "#0d0887"
             ],
             [
              0.1111111111111111,
              "#46039f"
             ],
             [
              0.2222222222222222,
              "#7201a8"
             ],
             [
              0.3333333333333333,
              "#9c179e"
             ],
             [
              0.4444444444444444,
              "#bd3786"
             ],
             [
              0.5555555555555556,
              "#d8576b"
             ],
             [
              0.6666666666666666,
              "#ed7953"
             ],
             [
              0.7777777777777778,
              "#fb9f3a"
             ],
             [
              0.8888888888888888,
              "#fdca26"
             ],
             [
              1,
              "#f0f921"
             ]
            ],
            "type": "surface"
           }
          ],
          "table": [
           {
            "cells": {
             "fill": {
              "color": "#EBF0F8"
             },
             "line": {
              "color": "white"
             }
            },
            "header": {
             "fill": {
              "color": "#C8D4E3"
             },
             "line": {
              "color": "white"
             }
            },
            "type": "table"
           }
          ]
         },
         "layout": {
          "annotationdefaults": {
           "arrowcolor": "#2a3f5f",
           "arrowhead": 0,
           "arrowwidth": 1
          },
          "autotypenumbers": "strict",
          "coloraxis": {
           "colorbar": {
            "outlinewidth": 0,
            "ticks": ""
           }
          },
          "colorscale": {
           "diverging": [
            [
             0,
             "#8e0152"
            ],
            [
             0.1,
             "#c51b7d"
            ],
            [
             0.2,
             "#de77ae"
            ],
            [
             0.3,
             "#f1b6da"
            ],
            [
             0.4,
             "#fde0ef"
            ],
            [
             0.5,
             "#f7f7f7"
            ],
            [
             0.6,
             "#e6f5d0"
            ],
            [
             0.7,
             "#b8e186"
            ],
            [
             0.8,
             "#7fbc41"
            ],
            [
             0.9,
             "#4d9221"
            ],
            [
             1,
             "#276419"
            ]
           ],
           "sequential": [
            [
             0,
             "#0d0887"
            ],
            [
             0.1111111111111111,
             "#46039f"
            ],
            [
             0.2222222222222222,
             "#7201a8"
            ],
            [
             0.3333333333333333,
             "#9c179e"
            ],
            [
             0.4444444444444444,
             "#bd3786"
            ],
            [
             0.5555555555555556,
             "#d8576b"
            ],
            [
             0.6666666666666666,
             "#ed7953"
            ],
            [
             0.7777777777777778,
             "#fb9f3a"
            ],
            [
             0.8888888888888888,
             "#fdca26"
            ],
            [
             1,
             "#f0f921"
            ]
           ],
           "sequentialminus": [
            [
             0,
             "#0d0887"
            ],
            [
             0.1111111111111111,
             "#46039f"
            ],
            [
             0.2222222222222222,
             "#7201a8"
            ],
            [
             0.3333333333333333,
             "#9c179e"
            ],
            [
             0.4444444444444444,
             "#bd3786"
            ],
            [
             0.5555555555555556,
             "#d8576b"
            ],
            [
             0.6666666666666666,
             "#ed7953"
            ],
            [
             0.7777777777777778,
             "#fb9f3a"
            ],
            [
             0.8888888888888888,
             "#fdca26"
            ],
            [
             1,
             "#f0f921"
            ]
           ]
          },
          "colorway": [
           "#636efa",
           "#EF553B",
           "#00cc96",
           "#ab63fa",
           "#FFA15A",
           "#19d3f3",
           "#FF6692",
           "#B6E880",
           "#FF97FF",
           "#FECB52"
          ],
          "font": {
           "color": "#2a3f5f"
          },
          "geo": {
           "bgcolor": "white",
           "lakecolor": "white",
           "landcolor": "#E5ECF6",
           "showlakes": true,
           "showland": true,
           "subunitcolor": "white"
          },
          "hoverlabel": {
           "align": "left"
          },
          "hovermode": "closest",
          "mapbox": {
           "style": "light"
          },
          "paper_bgcolor": "white",
          "plot_bgcolor": "#E5ECF6",
          "polar": {
           "angularaxis": {
            "gridcolor": "white",
            "linecolor": "white",
            "ticks": ""
           },
           "bgcolor": "#E5ECF6",
           "radialaxis": {
            "gridcolor": "white",
            "linecolor": "white",
            "ticks": ""
           }
          },
          "scene": {
           "xaxis": {
            "backgroundcolor": "#E5ECF6",
            "gridcolor": "white",
            "gridwidth": 2,
            "linecolor": "white",
            "showbackground": true,
            "ticks": "",
            "zerolinecolor": "white"
           },
           "yaxis": {
            "backgroundcolor": "#E5ECF6",
            "gridcolor": "white",
            "gridwidth": 2,
            "linecolor": "white",
            "showbackground": true,
            "ticks": "",
            "zerolinecolor": "white"
           },
           "zaxis": {
            "backgroundcolor": "#E5ECF6",
            "gridcolor": "white",
            "gridwidth": 2,
            "linecolor": "white",
            "showbackground": true,
            "ticks": "",
            "zerolinecolor": "white"
           }
          },
          "shapedefaults": {
           "line": {
            "color": "#2a3f5f"
           }
          },
          "ternary": {
           "aaxis": {
            "gridcolor": "white",
            "linecolor": "white",
            "ticks": ""
           },
           "baxis": {
            "gridcolor": "white",
            "linecolor": "white",
            "ticks": ""
           },
           "bgcolor": "#E5ECF6",
           "caxis": {
            "gridcolor": "white",
            "linecolor": "white",
            "ticks": ""
           }
          },
          "title": {
           "x": 0.05
          },
          "xaxis": {
           "automargin": true,
           "gridcolor": "white",
           "linecolor": "white",
           "ticks": "",
           "title": {
            "standoff": 15
           },
           "zerolinecolor": "white",
           "zerolinewidth": 2
          },
          "yaxis": {
           "automargin": true,
           "gridcolor": "white",
           "linecolor": "white",
           "ticks": "",
           "title": {
            "standoff": 15
           },
           "zerolinecolor": "white",
           "zerolinewidth": 2
          }
         }
        }
       }
      }
     },
     "metadata": {},
     "output_type": "display_data"
    }
   ],
   "source": [
    "treemaps = px.treemap(game, path=[px.Constant('Platform'), 'Publisher'], values='Global_Sales')\n",
    "treemaps.update_traces(root_color=\"black\")\n",
    "treemaps.show()"
   ]
  },
  {
   "cell_type": "markdown",
   "metadata": {},
   "source": [
    "#### A seguir, o gráfico apresenta os estilos de jogos com mais vendas globais, quando considerado os jogos acima de 100 mil unidades vendidas. "
   ]
  },
  {
   "cell_type": "code",
   "execution_count": 36,
   "metadata": {},
   "outputs": [
    {
     "data": {
      "application/vnd.plotly.v1+json": {
       "config": {
        "plotlyServerURL": "https://plot.ly"
       },
       "data": [
        {
         "branchvalues": "total",
         "domain": {
          "x": [
           0,
           1
          ],
          "y": [
           0,
           1
          ]
         },
         "hovertemplate": "labels=%{label}<br>Global_Sales=%{value}<br>parent=%{parent}<br>id=%{id}<extra></extra>",
         "ids": [
          "Rank/Action",
          "Rank/Adventure",
          "Rank/Fighting",
          "Rank/Misc",
          "Rank/Platform",
          "Rank/Puzzle",
          "Rank/Racing",
          "Rank/Role-Playing",
          "Rank/Shooter",
          "Rank/Simulation",
          "Rank/Sports",
          "Rank/Strategy",
          "Rank"
         ],
         "labels": [
          "Action",
          "Adventure",
          "Fighting",
          "Misc",
          "Platform",
          "Puzzle",
          "Racing",
          "Role-Playing",
          "Shooter",
          "Simulation",
          "Sports",
          "Strategy",
          "Rank"
         ],
         "name": "",
         "parents": [
          "Rank",
          "Rank",
          "Rank",
          "Rank",
          "Rank",
          "Rank",
          "Rank",
          "Rank",
          "Rank",
          "Rank",
          "Rank",
          "Rank",
          ""
         ],
         "root": {
          "color": "black"
         },
         "type": "treemap",
         "values": [
          1722.84,
          234.59,
          444.05,
          789.87,
          829.13,
          242.21,
          726.76,
          923.83,
          1026.2,
          389.98,
          1309.24,
          173.27,
          8811.97
         ]
        }
       ],
       "layout": {
        "legend": {
         "tracegroupgap": 0
        },
        "margin": {
         "t": 60
        },
        "template": {
         "data": {
          "bar": [
           {
            "error_x": {
             "color": "#2a3f5f"
            },
            "error_y": {
             "color": "#2a3f5f"
            },
            "marker": {
             "line": {
              "color": "#E5ECF6",
              "width": 0.5
             },
             "pattern": {
              "fillmode": "overlay",
              "size": 10,
              "solidity": 0.2
             }
            },
            "type": "bar"
           }
          ],
          "barpolar": [
           {
            "marker": {
             "line": {
              "color": "#E5ECF6",
              "width": 0.5
             },
             "pattern": {
              "fillmode": "overlay",
              "size": 10,
              "solidity": 0.2
             }
            },
            "type": "barpolar"
           }
          ],
          "carpet": [
           {
            "aaxis": {
             "endlinecolor": "#2a3f5f",
             "gridcolor": "white",
             "linecolor": "white",
             "minorgridcolor": "white",
             "startlinecolor": "#2a3f5f"
            },
            "baxis": {
             "endlinecolor": "#2a3f5f",
             "gridcolor": "white",
             "linecolor": "white",
             "minorgridcolor": "white",
             "startlinecolor": "#2a3f5f"
            },
            "type": "carpet"
           }
          ],
          "choropleth": [
           {
            "colorbar": {
             "outlinewidth": 0,
             "ticks": ""
            },
            "type": "choropleth"
           }
          ],
          "contour": [
           {
            "colorbar": {
             "outlinewidth": 0,
             "ticks": ""
            },
            "colorscale": [
             [
              0,
              "#0d0887"
             ],
             [
              0.1111111111111111,
              "#46039f"
             ],
             [
              0.2222222222222222,
              "#7201a8"
             ],
             [
              0.3333333333333333,
              "#9c179e"
             ],
             [
              0.4444444444444444,
              "#bd3786"
             ],
             [
              0.5555555555555556,
              "#d8576b"
             ],
             [
              0.6666666666666666,
              "#ed7953"
             ],
             [
              0.7777777777777778,
              "#fb9f3a"
             ],
             [
              0.8888888888888888,
              "#fdca26"
             ],
             [
              1,
              "#f0f921"
             ]
            ],
            "type": "contour"
           }
          ],
          "contourcarpet": [
           {
            "colorbar": {
             "outlinewidth": 0,
             "ticks": ""
            },
            "type": "contourcarpet"
           }
          ],
          "heatmap": [
           {
            "colorbar": {
             "outlinewidth": 0,
             "ticks": ""
            },
            "colorscale": [
             [
              0,
              "#0d0887"
             ],
             [
              0.1111111111111111,
              "#46039f"
             ],
             [
              0.2222222222222222,
              "#7201a8"
             ],
             [
              0.3333333333333333,
              "#9c179e"
             ],
             [
              0.4444444444444444,
              "#bd3786"
             ],
             [
              0.5555555555555556,
              "#d8576b"
             ],
             [
              0.6666666666666666,
              "#ed7953"
             ],
             [
              0.7777777777777778,
              "#fb9f3a"
             ],
             [
              0.8888888888888888,
              "#fdca26"
             ],
             [
              1,
              "#f0f921"
             ]
            ],
            "type": "heatmap"
           }
          ],
          "heatmapgl": [
           {
            "colorbar": {
             "outlinewidth": 0,
             "ticks": ""
            },
            "colorscale": [
             [
              0,
              "#0d0887"
             ],
             [
              0.1111111111111111,
              "#46039f"
             ],
             [
              0.2222222222222222,
              "#7201a8"
             ],
             [
              0.3333333333333333,
              "#9c179e"
             ],
             [
              0.4444444444444444,
              "#bd3786"
             ],
             [
              0.5555555555555556,
              "#d8576b"
             ],
             [
              0.6666666666666666,
              "#ed7953"
             ],
             [
              0.7777777777777778,
              "#fb9f3a"
             ],
             [
              0.8888888888888888,
              "#fdca26"
             ],
             [
              1,
              "#f0f921"
             ]
            ],
            "type": "heatmapgl"
           }
          ],
          "histogram": [
           {
            "marker": {
             "pattern": {
              "fillmode": "overlay",
              "size": 10,
              "solidity": 0.2
             }
            },
            "type": "histogram"
           }
          ],
          "histogram2d": [
           {
            "colorbar": {
             "outlinewidth": 0,
             "ticks": ""
            },
            "colorscale": [
             [
              0,
              "#0d0887"
             ],
             [
              0.1111111111111111,
              "#46039f"
             ],
             [
              0.2222222222222222,
              "#7201a8"
             ],
             [
              0.3333333333333333,
              "#9c179e"
             ],
             [
              0.4444444444444444,
              "#bd3786"
             ],
             [
              0.5555555555555556,
              "#d8576b"
             ],
             [
              0.6666666666666666,
              "#ed7953"
             ],
             [
              0.7777777777777778,
              "#fb9f3a"
             ],
             [
              0.8888888888888888,
              "#fdca26"
             ],
             [
              1,
              "#f0f921"
             ]
            ],
            "type": "histogram2d"
           }
          ],
          "histogram2dcontour": [
           {
            "colorbar": {
             "outlinewidth": 0,
             "ticks": ""
            },
            "colorscale": [
             [
              0,
              "#0d0887"
             ],
             [
              0.1111111111111111,
              "#46039f"
             ],
             [
              0.2222222222222222,
              "#7201a8"
             ],
             [
              0.3333333333333333,
              "#9c179e"
             ],
             [
              0.4444444444444444,
              "#bd3786"
             ],
             [
              0.5555555555555556,
              "#d8576b"
             ],
             [
              0.6666666666666666,
              "#ed7953"
             ],
             [
              0.7777777777777778,
              "#fb9f3a"
             ],
             [
              0.8888888888888888,
              "#fdca26"
             ],
             [
              1,
              "#f0f921"
             ]
            ],
            "type": "histogram2dcontour"
           }
          ],
          "mesh3d": [
           {
            "colorbar": {
             "outlinewidth": 0,
             "ticks": ""
            },
            "type": "mesh3d"
           }
          ],
          "parcoords": [
           {
            "line": {
             "colorbar": {
              "outlinewidth": 0,
              "ticks": ""
             }
            },
            "type": "parcoords"
           }
          ],
          "pie": [
           {
            "automargin": true,
            "type": "pie"
           }
          ],
          "scatter": [
           {
            "fillpattern": {
             "fillmode": "overlay",
             "size": 10,
             "solidity": 0.2
            },
            "type": "scatter"
           }
          ],
          "scatter3d": [
           {
            "line": {
             "colorbar": {
              "outlinewidth": 0,
              "ticks": ""
             }
            },
            "marker": {
             "colorbar": {
              "outlinewidth": 0,
              "ticks": ""
             }
            },
            "type": "scatter3d"
           }
          ],
          "scattercarpet": [
           {
            "marker": {
             "colorbar": {
              "outlinewidth": 0,
              "ticks": ""
             }
            },
            "type": "scattercarpet"
           }
          ],
          "scattergeo": [
           {
            "marker": {
             "colorbar": {
              "outlinewidth": 0,
              "ticks": ""
             }
            },
            "type": "scattergeo"
           }
          ],
          "scattergl": [
           {
            "marker": {
             "colorbar": {
              "outlinewidth": 0,
              "ticks": ""
             }
            },
            "type": "scattergl"
           }
          ],
          "scattermapbox": [
           {
            "marker": {
             "colorbar": {
              "outlinewidth": 0,
              "ticks": ""
             }
            },
            "type": "scattermapbox"
           }
          ],
          "scatterpolar": [
           {
            "marker": {
             "colorbar": {
              "outlinewidth": 0,
              "ticks": ""
             }
            },
            "type": "scatterpolar"
           }
          ],
          "scatterpolargl": [
           {
            "marker": {
             "colorbar": {
              "outlinewidth": 0,
              "ticks": ""
             }
            },
            "type": "scatterpolargl"
           }
          ],
          "scatterternary": [
           {
            "marker": {
             "colorbar": {
              "outlinewidth": 0,
              "ticks": ""
             }
            },
            "type": "scatterternary"
           }
          ],
          "surface": [
           {
            "colorbar": {
             "outlinewidth": 0,
             "ticks": ""
            },
            "colorscale": [
             [
              0,
              "#0d0887"
             ],
             [
              0.1111111111111111,
              "#46039f"
             ],
             [
              0.2222222222222222,
              "#7201a8"
             ],
             [
              0.3333333333333333,
              "#9c179e"
             ],
             [
              0.4444444444444444,
              "#bd3786"
             ],
             [
              0.5555555555555556,
              "#d8576b"
             ],
             [
              0.6666666666666666,
              "#ed7953"
             ],
             [
              0.7777777777777778,
              "#fb9f3a"
             ],
             [
              0.8888888888888888,
              "#fdca26"
             ],
             [
              1,
              "#f0f921"
             ]
            ],
            "type": "surface"
           }
          ],
          "table": [
           {
            "cells": {
             "fill": {
              "color": "#EBF0F8"
             },
             "line": {
              "color": "white"
             }
            },
            "header": {
             "fill": {
              "color": "#C8D4E3"
             },
             "line": {
              "color": "white"
             }
            },
            "type": "table"
           }
          ]
         },
         "layout": {
          "annotationdefaults": {
           "arrowcolor": "#2a3f5f",
           "arrowhead": 0,
           "arrowwidth": 1
          },
          "autotypenumbers": "strict",
          "coloraxis": {
           "colorbar": {
            "outlinewidth": 0,
            "ticks": ""
           }
          },
          "colorscale": {
           "diverging": [
            [
             0,
             "#8e0152"
            ],
            [
             0.1,
             "#c51b7d"
            ],
            [
             0.2,
             "#de77ae"
            ],
            [
             0.3,
             "#f1b6da"
            ],
            [
             0.4,
             "#fde0ef"
            ],
            [
             0.5,
             "#f7f7f7"
            ],
            [
             0.6,
             "#e6f5d0"
            ],
            [
             0.7,
             "#b8e186"
            ],
            [
             0.8,
             "#7fbc41"
            ],
            [
             0.9,
             "#4d9221"
            ],
            [
             1,
             "#276419"
            ]
           ],
           "sequential": [
            [
             0,
             "#0d0887"
            ],
            [
             0.1111111111111111,
             "#46039f"
            ],
            [
             0.2222222222222222,
             "#7201a8"
            ],
            [
             0.3333333333333333,
             "#9c179e"
            ],
            [
             0.4444444444444444,
             "#bd3786"
            ],
            [
             0.5555555555555556,
             "#d8576b"
            ],
            [
             0.6666666666666666,
             "#ed7953"
            ],
            [
             0.7777777777777778,
             "#fb9f3a"
            ],
            [
             0.8888888888888888,
             "#fdca26"
            ],
            [
             1,
             "#f0f921"
            ]
           ],
           "sequentialminus": [
            [
             0,
             "#0d0887"
            ],
            [
             0.1111111111111111,
             "#46039f"
            ],
            [
             0.2222222222222222,
             "#7201a8"
            ],
            [
             0.3333333333333333,
             "#9c179e"
            ],
            [
             0.4444444444444444,
             "#bd3786"
            ],
            [
             0.5555555555555556,
             "#d8576b"
            ],
            [
             0.6666666666666666,
             "#ed7953"
            ],
            [
             0.7777777777777778,
             "#fb9f3a"
            ],
            [
             0.8888888888888888,
             "#fdca26"
            ],
            [
             1,
             "#f0f921"
            ]
           ]
          },
          "colorway": [
           "#636efa",
           "#EF553B",
           "#00cc96",
           "#ab63fa",
           "#FFA15A",
           "#19d3f3",
           "#FF6692",
           "#B6E880",
           "#FF97FF",
           "#FECB52"
          ],
          "font": {
           "color": "#2a3f5f"
          },
          "geo": {
           "bgcolor": "white",
           "lakecolor": "white",
           "landcolor": "#E5ECF6",
           "showlakes": true,
           "showland": true,
           "subunitcolor": "white"
          },
          "hoverlabel": {
           "align": "left"
          },
          "hovermode": "closest",
          "mapbox": {
           "style": "light"
          },
          "paper_bgcolor": "white",
          "plot_bgcolor": "#E5ECF6",
          "polar": {
           "angularaxis": {
            "gridcolor": "white",
            "linecolor": "white",
            "ticks": ""
           },
           "bgcolor": "#E5ECF6",
           "radialaxis": {
            "gridcolor": "white",
            "linecolor": "white",
            "ticks": ""
           }
          },
          "scene": {
           "xaxis": {
            "backgroundcolor": "#E5ECF6",
            "gridcolor": "white",
            "gridwidth": 2,
            "linecolor": "white",
            "showbackground": true,
            "ticks": "",
            "zerolinecolor": "white"
           },
           "yaxis": {
            "backgroundcolor": "#E5ECF6",
            "gridcolor": "white",
            "gridwidth": 2,
            "linecolor": "white",
            "showbackground": true,
            "ticks": "",
            "zerolinecolor": "white"
           },
           "zaxis": {
            "backgroundcolor": "#E5ECF6",
            "gridcolor": "white",
            "gridwidth": 2,
            "linecolor": "white",
            "showbackground": true,
            "ticks": "",
            "zerolinecolor": "white"
           }
          },
          "shapedefaults": {
           "line": {
            "color": "#2a3f5f"
           }
          },
          "ternary": {
           "aaxis": {
            "gridcolor": "white",
            "linecolor": "white",
            "ticks": ""
           },
           "baxis": {
            "gridcolor": "white",
            "linecolor": "white",
            "ticks": ""
           },
           "bgcolor": "#E5ECF6",
           "caxis": {
            "gridcolor": "white",
            "linecolor": "white",
            "ticks": ""
           }
          },
          "title": {
           "x": 0.05
          },
          "xaxis": {
           "automargin": true,
           "gridcolor": "white",
           "linecolor": "white",
           "ticks": "",
           "title": {
            "standoff": 15
           },
           "zerolinecolor": "white",
           "zerolinewidth": 2
          },
          "yaxis": {
           "automargin": true,
           "gridcolor": "white",
           "linecolor": "white",
           "ticks": "",
           "title": {
            "standoff": 15
           },
           "zerolinecolor": "white",
           "zerolinewidth": 2
          }
         }
        }
       }
      }
     },
     "metadata": {},
     "output_type": "display_data"
    }
   ],
   "source": [
    "treemaps = px.treemap(game, path=[px.Constant('Rank'), 'Genre'], values='Global_Sales')\n",
    "treemaps.update_traces(root_color=\"black\")\n",
    "treemaps.show()"
   ]
  },
  {
   "cell_type": "markdown",
   "metadata": {},
   "source": [
    "#### Plataformas com mais jogos vendidos em nível global. Aqui vale destacar uma informação importante, apesar da Nintendo possuir mais jogos que a sony entre os jogos que alcançaram mais de cem mil unidades vendidas, quando considera-se o valor arrecada com esses jogos, a sony e a microsoft ficam a frente. Uma explicação para este acontecimento é decorrente do próprio processo inflacionário para uma base que cobre um período de mais de 30 anos. Assim, somente o valor nominal não pode produzir inferências sobre uma melhor estratégia de negócios dessas duas organizações em relação a nintendo, apesar de ser uma primeira evidência. "
   ]
  },
  {
   "cell_type": "code",
   "execution_count": 37,
   "metadata": {},
   "outputs": [
    {
     "data": {
      "application/vnd.plotly.v1+json": {
       "config": {
        "plotlyServerURL": "https://plot.ly"
       },
       "data": [
        {
         "branchvalues": "total",
         "domain": {
          "x": [
           0,
           1
          ],
          "y": [
           0,
           1
          ]
         },
         "hovertemplate": "labels=%{label}<br>Global_Sales=%{value}<br>parent=%{parent}<br>id=%{id}<extra></extra>",
         "ids": [
          "Rank/2600",
          "Rank/3DO",
          "Rank/3DS",
          "Rank/DC",
          "Rank/DS",
          "Rank/GB",
          "Rank/GBA",
          "Rank/GC",
          "Rank/GEN",
          "Rank/GG",
          "Rank/N64",
          "Rank/NES",
          "Rank/NG",
          "Rank/PC",
          "Rank/PCFX",
          "Rank/PS",
          "Rank/PS2",
          "Rank/PS3",
          "Rank/PS4",
          "Rank/PSP",
          "Rank/PSV",
          "Rank/SAT",
          "Rank/SCD",
          "Rank/SNES",
          "Rank/TG16",
          "Rank/WS",
          "Rank/Wii",
          "Rank/WiiU",
          "Rank/X360",
          "Rank/XB",
          "Rank/XOne",
          "Rank"
         ],
         "labels": [
          "2600",
          "3DO",
          "3DS",
          "DC",
          "DS",
          "GB",
          "GBA",
          "GC",
          "GEN",
          "GG",
          "N64",
          "NES",
          "NG",
          "PC",
          "PCFX",
          "PS",
          "PS2",
          "PS3",
          "PS4",
          "PSP",
          "PSV",
          "SAT",
          "SCD",
          "SNES",
          "TG16",
          "WS",
          "Wii",
          "WiiU",
          "X360",
          "XB",
          "XOne",
          "Rank"
         ],
         "name": "",
         "parents": [
          "Rank",
          "Rank",
          "Rank",
          "Rank",
          "Rank",
          "Rank",
          "Rank",
          "Rank",
          "Rank",
          "Rank",
          "Rank",
          "Rank",
          "Rank",
          "Rank",
          "Rank",
          "Rank",
          "Rank",
          "Rank",
          "Rank",
          "Rank",
          "Rank",
          "Rank",
          "Rank",
          "Rank",
          "Rank",
          "Rank",
          "Rank",
          "Rank",
          "Rank",
          "Rank",
          "Rank",
          ""
         ],
         "root": {
          "color": "black"
         },
         "type": "treemap",
         "values": [
          86.57,
          0.1,
          246.27,
          15.97,
          818.91,
          254.42000000000002,
          305.62,
          197.14,
          28.36,
          0.04,
          218.21,
          251.07,
          1.44,
          254.7,
          0.03,
          727.39,
          1233.46,
          949.35,
          278.1,
          291.71,
          61.6,
          33.59,
          1.87,
          200.05,
          0.16,
          1.42,
          909.81,
          81.86,
          969.6,
          252.09,
          141.06,
          8811.97
         ]
        }
       ],
       "layout": {
        "legend": {
         "tracegroupgap": 0
        },
        "margin": {
         "t": 60
        },
        "template": {
         "data": {
          "bar": [
           {
            "error_x": {
             "color": "#2a3f5f"
            },
            "error_y": {
             "color": "#2a3f5f"
            },
            "marker": {
             "line": {
              "color": "#E5ECF6",
              "width": 0.5
             },
             "pattern": {
              "fillmode": "overlay",
              "size": 10,
              "solidity": 0.2
             }
            },
            "type": "bar"
           }
          ],
          "barpolar": [
           {
            "marker": {
             "line": {
              "color": "#E5ECF6",
              "width": 0.5
             },
             "pattern": {
              "fillmode": "overlay",
              "size": 10,
              "solidity": 0.2
             }
            },
            "type": "barpolar"
           }
          ],
          "carpet": [
           {
            "aaxis": {
             "endlinecolor": "#2a3f5f",
             "gridcolor": "white",
             "linecolor": "white",
             "minorgridcolor": "white",
             "startlinecolor": "#2a3f5f"
            },
            "baxis": {
             "endlinecolor": "#2a3f5f",
             "gridcolor": "white",
             "linecolor": "white",
             "minorgridcolor": "white",
             "startlinecolor": "#2a3f5f"
            },
            "type": "carpet"
           }
          ],
          "choropleth": [
           {
            "colorbar": {
             "outlinewidth": 0,
             "ticks": ""
            },
            "type": "choropleth"
           }
          ],
          "contour": [
           {
            "colorbar": {
             "outlinewidth": 0,
             "ticks": ""
            },
            "colorscale": [
             [
              0,
              "#0d0887"
             ],
             [
              0.1111111111111111,
              "#46039f"
             ],
             [
              0.2222222222222222,
              "#7201a8"
             ],
             [
              0.3333333333333333,
              "#9c179e"
             ],
             [
              0.4444444444444444,
              "#bd3786"
             ],
             [
              0.5555555555555556,
              "#d8576b"
             ],
             [
              0.6666666666666666,
              "#ed7953"
             ],
             [
              0.7777777777777778,
              "#fb9f3a"
             ],
             [
              0.8888888888888888,
              "#fdca26"
             ],
             [
              1,
              "#f0f921"
             ]
            ],
            "type": "contour"
           }
          ],
          "contourcarpet": [
           {
            "colorbar": {
             "outlinewidth": 0,
             "ticks": ""
            },
            "type": "contourcarpet"
           }
          ],
          "heatmap": [
           {
            "colorbar": {
             "outlinewidth": 0,
             "ticks": ""
            },
            "colorscale": [
             [
              0,
              "#0d0887"
             ],
             [
              0.1111111111111111,
              "#46039f"
             ],
             [
              0.2222222222222222,
              "#7201a8"
             ],
             [
              0.3333333333333333,
              "#9c179e"
             ],
             [
              0.4444444444444444,
              "#bd3786"
             ],
             [
              0.5555555555555556,
              "#d8576b"
             ],
             [
              0.6666666666666666,
              "#ed7953"
             ],
             [
              0.7777777777777778,
              "#fb9f3a"
             ],
             [
              0.8888888888888888,
              "#fdca26"
             ],
             [
              1,
              "#f0f921"
             ]
            ],
            "type": "heatmap"
           }
          ],
          "heatmapgl": [
           {
            "colorbar": {
             "outlinewidth": 0,
             "ticks": ""
            },
            "colorscale": [
             [
              0,
              "#0d0887"
             ],
             [
              0.1111111111111111,
              "#46039f"
             ],
             [
              0.2222222222222222,
              "#7201a8"
             ],
             [
              0.3333333333333333,
              "#9c179e"
             ],
             [
              0.4444444444444444,
              "#bd3786"
             ],
             [
              0.5555555555555556,
              "#d8576b"
             ],
             [
              0.6666666666666666,
              "#ed7953"
             ],
             [
              0.7777777777777778,
              "#fb9f3a"
             ],
             [
              0.8888888888888888,
              "#fdca26"
             ],
             [
              1,
              "#f0f921"
             ]
            ],
            "type": "heatmapgl"
           }
          ],
          "histogram": [
           {
            "marker": {
             "pattern": {
              "fillmode": "overlay",
              "size": 10,
              "solidity": 0.2
             }
            },
            "type": "histogram"
           }
          ],
          "histogram2d": [
           {
            "colorbar": {
             "outlinewidth": 0,
             "ticks": ""
            },
            "colorscale": [
             [
              0,
              "#0d0887"
             ],
             [
              0.1111111111111111,
              "#46039f"
             ],
             [
              0.2222222222222222,
              "#7201a8"
             ],
             [
              0.3333333333333333,
              "#9c179e"
             ],
             [
              0.4444444444444444,
              "#bd3786"
             ],
             [
              0.5555555555555556,
              "#d8576b"
             ],
             [
              0.6666666666666666,
              "#ed7953"
             ],
             [
              0.7777777777777778,
              "#fb9f3a"
             ],
             [
              0.8888888888888888,
              "#fdca26"
             ],
             [
              1,
              "#f0f921"
             ]
            ],
            "type": "histogram2d"
           }
          ],
          "histogram2dcontour": [
           {
            "colorbar": {
             "outlinewidth": 0,
             "ticks": ""
            },
            "colorscale": [
             [
              0,
              "#0d0887"
             ],
             [
              0.1111111111111111,
              "#46039f"
             ],
             [
              0.2222222222222222,
              "#7201a8"
             ],
             [
              0.3333333333333333,
              "#9c179e"
             ],
             [
              0.4444444444444444,
              "#bd3786"
             ],
             [
              0.5555555555555556,
              "#d8576b"
             ],
             [
              0.6666666666666666,
              "#ed7953"
             ],
             [
              0.7777777777777778,
              "#fb9f3a"
             ],
             [
              0.8888888888888888,
              "#fdca26"
             ],
             [
              1,
              "#f0f921"
             ]
            ],
            "type": "histogram2dcontour"
           }
          ],
          "mesh3d": [
           {
            "colorbar": {
             "outlinewidth": 0,
             "ticks": ""
            },
            "type": "mesh3d"
           }
          ],
          "parcoords": [
           {
            "line": {
             "colorbar": {
              "outlinewidth": 0,
              "ticks": ""
             }
            },
            "type": "parcoords"
           }
          ],
          "pie": [
           {
            "automargin": true,
            "type": "pie"
           }
          ],
          "scatter": [
           {
            "fillpattern": {
             "fillmode": "overlay",
             "size": 10,
             "solidity": 0.2
            },
            "type": "scatter"
           }
          ],
          "scatter3d": [
           {
            "line": {
             "colorbar": {
              "outlinewidth": 0,
              "ticks": ""
             }
            },
            "marker": {
             "colorbar": {
              "outlinewidth": 0,
              "ticks": ""
             }
            },
            "type": "scatter3d"
           }
          ],
          "scattercarpet": [
           {
            "marker": {
             "colorbar": {
              "outlinewidth": 0,
              "ticks": ""
             }
            },
            "type": "scattercarpet"
           }
          ],
          "scattergeo": [
           {
            "marker": {
             "colorbar": {
              "outlinewidth": 0,
              "ticks": ""
             }
            },
            "type": "scattergeo"
           }
          ],
          "scattergl": [
           {
            "marker": {
             "colorbar": {
              "outlinewidth": 0,
              "ticks": ""
             }
            },
            "type": "scattergl"
           }
          ],
          "scattermapbox": [
           {
            "marker": {
             "colorbar": {
              "outlinewidth": 0,
              "ticks": ""
             }
            },
            "type": "scattermapbox"
           }
          ],
          "scatterpolar": [
           {
            "marker": {
             "colorbar": {
              "outlinewidth": 0,
              "ticks": ""
             }
            },
            "type": "scatterpolar"
           }
          ],
          "scatterpolargl": [
           {
            "marker": {
             "colorbar": {
              "outlinewidth": 0,
              "ticks": ""
             }
            },
            "type": "scatterpolargl"
           }
          ],
          "scatterternary": [
           {
            "marker": {
             "colorbar": {
              "outlinewidth": 0,
              "ticks": ""
             }
            },
            "type": "scatterternary"
           }
          ],
          "surface": [
           {
            "colorbar": {
             "outlinewidth": 0,
             "ticks": ""
            },
            "colorscale": [
             [
              0,
              "#0d0887"
             ],
             [
              0.1111111111111111,
              "#46039f"
             ],
             [
              0.2222222222222222,
              "#7201a8"
             ],
             [
              0.3333333333333333,
              "#9c179e"
             ],
             [
              0.4444444444444444,
              "#bd3786"
             ],
             [
              0.5555555555555556,
              "#d8576b"
             ],
             [
              0.6666666666666666,
              "#ed7953"
             ],
             [
              0.7777777777777778,
              "#fb9f3a"
             ],
             [
              0.8888888888888888,
              "#fdca26"
             ],
             [
              1,
              "#f0f921"
             ]
            ],
            "type": "surface"
           }
          ],
          "table": [
           {
            "cells": {
             "fill": {
              "color": "#EBF0F8"
             },
             "line": {
              "color": "white"
             }
            },
            "header": {
             "fill": {
              "color": "#C8D4E3"
             },
             "line": {
              "color": "white"
             }
            },
            "type": "table"
           }
          ]
         },
         "layout": {
          "annotationdefaults": {
           "arrowcolor": "#2a3f5f",
           "arrowhead": 0,
           "arrowwidth": 1
          },
          "autotypenumbers": "strict",
          "coloraxis": {
           "colorbar": {
            "outlinewidth": 0,
            "ticks": ""
           }
          },
          "colorscale": {
           "diverging": [
            [
             0,
             "#8e0152"
            ],
            [
             0.1,
             "#c51b7d"
            ],
            [
             0.2,
             "#de77ae"
            ],
            [
             0.3,
             "#f1b6da"
            ],
            [
             0.4,
             "#fde0ef"
            ],
            [
             0.5,
             "#f7f7f7"
            ],
            [
             0.6,
             "#e6f5d0"
            ],
            [
             0.7,
             "#b8e186"
            ],
            [
             0.8,
             "#7fbc41"
            ],
            [
             0.9,
             "#4d9221"
            ],
            [
             1,
             "#276419"
            ]
           ],
           "sequential": [
            [
             0,
             "#0d0887"
            ],
            [
             0.1111111111111111,
             "#46039f"
            ],
            [
             0.2222222222222222,
             "#7201a8"
            ],
            [
             0.3333333333333333,
             "#9c179e"
            ],
            [
             0.4444444444444444,
             "#bd3786"
            ],
            [
             0.5555555555555556,
             "#d8576b"
            ],
            [
             0.6666666666666666,
             "#ed7953"
            ],
            [
             0.7777777777777778,
             "#fb9f3a"
            ],
            [
             0.8888888888888888,
             "#fdca26"
            ],
            [
             1,
             "#f0f921"
            ]
           ],
           "sequentialminus": [
            [
             0,
             "#0d0887"
            ],
            [
             0.1111111111111111,
             "#46039f"
            ],
            [
             0.2222222222222222,
             "#7201a8"
            ],
            [
             0.3333333333333333,
             "#9c179e"
            ],
            [
             0.4444444444444444,
             "#bd3786"
            ],
            [
             0.5555555555555556,
             "#d8576b"
            ],
            [
             0.6666666666666666,
             "#ed7953"
            ],
            [
             0.7777777777777778,
             "#fb9f3a"
            ],
            [
             0.8888888888888888,
             "#fdca26"
            ],
            [
             1,
             "#f0f921"
            ]
           ]
          },
          "colorway": [
           "#636efa",
           "#EF553B",
           "#00cc96",
           "#ab63fa",
           "#FFA15A",
           "#19d3f3",
           "#FF6692",
           "#B6E880",
           "#FF97FF",
           "#FECB52"
          ],
          "font": {
           "color": "#2a3f5f"
          },
          "geo": {
           "bgcolor": "white",
           "lakecolor": "white",
           "landcolor": "#E5ECF6",
           "showlakes": true,
           "showland": true,
           "subunitcolor": "white"
          },
          "hoverlabel": {
           "align": "left"
          },
          "hovermode": "closest",
          "mapbox": {
           "style": "light"
          },
          "paper_bgcolor": "white",
          "plot_bgcolor": "#E5ECF6",
          "polar": {
           "angularaxis": {
            "gridcolor": "white",
            "linecolor": "white",
            "ticks": ""
           },
           "bgcolor": "#E5ECF6",
           "radialaxis": {
            "gridcolor": "white",
            "linecolor": "white",
            "ticks": ""
           }
          },
          "scene": {
           "xaxis": {
            "backgroundcolor": "#E5ECF6",
            "gridcolor": "white",
            "gridwidth": 2,
            "linecolor": "white",
            "showbackground": true,
            "ticks": "",
            "zerolinecolor": "white"
           },
           "yaxis": {
            "backgroundcolor": "#E5ECF6",
            "gridcolor": "white",
            "gridwidth": 2,
            "linecolor": "white",
            "showbackground": true,
            "ticks": "",
            "zerolinecolor": "white"
           },
           "zaxis": {
            "backgroundcolor": "#E5ECF6",
            "gridcolor": "white",
            "gridwidth": 2,
            "linecolor": "white",
            "showbackground": true,
            "ticks": "",
            "zerolinecolor": "white"
           }
          },
          "shapedefaults": {
           "line": {
            "color": "#2a3f5f"
           }
          },
          "ternary": {
           "aaxis": {
            "gridcolor": "white",
            "linecolor": "white",
            "ticks": ""
           },
           "baxis": {
            "gridcolor": "white",
            "linecolor": "white",
            "ticks": ""
           },
           "bgcolor": "#E5ECF6",
           "caxis": {
            "gridcolor": "white",
            "linecolor": "white",
            "ticks": ""
           }
          },
          "title": {
           "x": 0.05
          },
          "xaxis": {
           "automargin": true,
           "gridcolor": "white",
           "linecolor": "white",
           "ticks": "",
           "title": {
            "standoff": 15
           },
           "zerolinecolor": "white",
           "zerolinewidth": 2
          },
          "yaxis": {
           "automargin": true,
           "gridcolor": "white",
           "linecolor": "white",
           "ticks": "",
           "title": {
            "standoff": 15
           },
           "zerolinecolor": "white",
           "zerolinewidth": 2
          }
         }
        }
       }
      }
     },
     "metadata": {},
     "output_type": "display_data"
    }
   ],
   "source": [
    "treemapsr = px.treemap(game, path=[px.Constant('Rank'), 'Platform'], values='Global_Sales')\n",
    "treemapsr.update_traces(root_color=\"black\")\n",
    "treemapsr.show()"
   ]
  },
  {
   "cell_type": "markdown",
   "metadata": {},
   "source": [
    "#### Os gráficos a seguir tem como foco produzir análises próximas aos do início do notbook, no sentindo de trazer evidências sobre as preferências dos consumidores nos principais mercados globais para jogos. Nesse sentido, os próximos quatro gráficos apresentam dados sobre quais consoles venderam mais na América do Norte, Europa, Japão e resto do planeta."
   ]
  },
  {
   "cell_type": "code",
   "execution_count": 38,
   "metadata": {},
   "outputs": [
    {
     "data": {
      "application/vnd.plotly.v1+json": {
       "config": {
        "plotlyServerURL": "https://plot.ly"
       },
       "data": [
        {
         "branchvalues": "total",
         "domain": {
          "x": [
           0,
           1
          ],
          "y": [
           0,
           1
          ]
         },
         "hovertemplate": "labels=%{label}<br>NA_Sales=%{value}<br>parent=%{parent}<br>id=%{id}<extra></extra>",
         "ids": [
          "Rank/2600",
          "Rank/3DO",
          "Rank/3DS",
          "Rank/DC",
          "Rank/DS",
          "Rank/GB",
          "Rank/GBA",
          "Rank/GC",
          "Rank/GEN",
          "Rank/GG",
          "Rank/N64",
          "Rank/NES",
          "Rank/NG",
          "Rank/PC",
          "Rank/PCFX",
          "Rank/PS",
          "Rank/PS2",
          "Rank/PS3",
          "Rank/PS4",
          "Rank/PSP",
          "Rank/PSV",
          "Rank/SAT",
          "Rank/SCD",
          "Rank/SNES",
          "Rank/TG16",
          "Rank/WS",
          "Rank/Wii",
          "Rank/WiiU",
          "Rank/X360",
          "Rank/XB",
          "Rank/XOne",
          "Rank"
         ],
         "labels": [
          "2600",
          "3DO",
          "3DS",
          "DC",
          "DS",
          "GB",
          "GBA",
          "GC",
          "GEN",
          "GG",
          "N64",
          "NES",
          "NG",
          "PC",
          "PCFX",
          "PS",
          "PS2",
          "PS3",
          "PS4",
          "PSP",
          "PSV",
          "SAT",
          "SCD",
          "SNES",
          "TG16",
          "WS",
          "Wii",
          "WiiU",
          "X360",
          "XB",
          "XOne",
          "Rank"
         ],
         "name": "",
         "parents": [
          "Rank",
          "Rank",
          "Rank",
          "Rank",
          "Rank",
          "Rank",
          "Rank",
          "Rank",
          "Rank",
          "Rank",
          "Rank",
          "Rank",
          "Rank",
          "Rank",
          "Rank",
          "Rank",
          "Rank",
          "Rank",
          "Rank",
          "Rank",
          "Rank",
          "Rank",
          "Rank",
          "Rank",
          "Rank",
          "Rank",
          "Rank",
          "Rank",
          "Rank",
          "Rank",
          "Rank",
          ""
         ],
         "root": {
          "color": "black"
         },
         "type": "treemap",
         "values": [
          80.78,
          0,
          78.03,
          5.43,
          388.53000000000003,
          113.64,
          178.43,
          131.94,
          19.27,
          0,
          138.91,
          125.94,
          0,
          92.03999999999999,
          0,
          334.71,
          572.92,
          388.9,
          96.8,
          107.09,
          16.07,
          0.72,
          1,
          61.23,
          0,
          0,
          497.37,
          38.32,
          594.33,
          182.06,
          83.19,
          4327.65
         ]
        }
       ],
       "layout": {
        "legend": {
         "tracegroupgap": 0
        },
        "margin": {
         "t": 60
        },
        "template": {
         "data": {
          "bar": [
           {
            "error_x": {
             "color": "#2a3f5f"
            },
            "error_y": {
             "color": "#2a3f5f"
            },
            "marker": {
             "line": {
              "color": "#E5ECF6",
              "width": 0.5
             },
             "pattern": {
              "fillmode": "overlay",
              "size": 10,
              "solidity": 0.2
             }
            },
            "type": "bar"
           }
          ],
          "barpolar": [
           {
            "marker": {
             "line": {
              "color": "#E5ECF6",
              "width": 0.5
             },
             "pattern": {
              "fillmode": "overlay",
              "size": 10,
              "solidity": 0.2
             }
            },
            "type": "barpolar"
           }
          ],
          "carpet": [
           {
            "aaxis": {
             "endlinecolor": "#2a3f5f",
             "gridcolor": "white",
             "linecolor": "white",
             "minorgridcolor": "white",
             "startlinecolor": "#2a3f5f"
            },
            "baxis": {
             "endlinecolor": "#2a3f5f",
             "gridcolor": "white",
             "linecolor": "white",
             "minorgridcolor": "white",
             "startlinecolor": "#2a3f5f"
            },
            "type": "carpet"
           }
          ],
          "choropleth": [
           {
            "colorbar": {
             "outlinewidth": 0,
             "ticks": ""
            },
            "type": "choropleth"
           }
          ],
          "contour": [
           {
            "colorbar": {
             "outlinewidth": 0,
             "ticks": ""
            },
            "colorscale": [
             [
              0,
              "#0d0887"
             ],
             [
              0.1111111111111111,
              "#46039f"
             ],
             [
              0.2222222222222222,
              "#7201a8"
             ],
             [
              0.3333333333333333,
              "#9c179e"
             ],
             [
              0.4444444444444444,
              "#bd3786"
             ],
             [
              0.5555555555555556,
              "#d8576b"
             ],
             [
              0.6666666666666666,
              "#ed7953"
             ],
             [
              0.7777777777777778,
              "#fb9f3a"
             ],
             [
              0.8888888888888888,
              "#fdca26"
             ],
             [
              1,
              "#f0f921"
             ]
            ],
            "type": "contour"
           }
          ],
          "contourcarpet": [
           {
            "colorbar": {
             "outlinewidth": 0,
             "ticks": ""
            },
            "type": "contourcarpet"
           }
          ],
          "heatmap": [
           {
            "colorbar": {
             "outlinewidth": 0,
             "ticks": ""
            },
            "colorscale": [
             [
              0,
              "#0d0887"
             ],
             [
              0.1111111111111111,
              "#46039f"
             ],
             [
              0.2222222222222222,
              "#7201a8"
             ],
             [
              0.3333333333333333,
              "#9c179e"
             ],
             [
              0.4444444444444444,
              "#bd3786"
             ],
             [
              0.5555555555555556,
              "#d8576b"
             ],
             [
              0.6666666666666666,
              "#ed7953"
             ],
             [
              0.7777777777777778,
              "#fb9f3a"
             ],
             [
              0.8888888888888888,
              "#fdca26"
             ],
             [
              1,
              "#f0f921"
             ]
            ],
            "type": "heatmap"
           }
          ],
          "heatmapgl": [
           {
            "colorbar": {
             "outlinewidth": 0,
             "ticks": ""
            },
            "colorscale": [
             [
              0,
              "#0d0887"
             ],
             [
              0.1111111111111111,
              "#46039f"
             ],
             [
              0.2222222222222222,
              "#7201a8"
             ],
             [
              0.3333333333333333,
              "#9c179e"
             ],
             [
              0.4444444444444444,
              "#bd3786"
             ],
             [
              0.5555555555555556,
              "#d8576b"
             ],
             [
              0.6666666666666666,
              "#ed7953"
             ],
             [
              0.7777777777777778,
              "#fb9f3a"
             ],
             [
              0.8888888888888888,
              "#fdca26"
             ],
             [
              1,
              "#f0f921"
             ]
            ],
            "type": "heatmapgl"
           }
          ],
          "histogram": [
           {
            "marker": {
             "pattern": {
              "fillmode": "overlay",
              "size": 10,
              "solidity": 0.2
             }
            },
            "type": "histogram"
           }
          ],
          "histogram2d": [
           {
            "colorbar": {
             "outlinewidth": 0,
             "ticks": ""
            },
            "colorscale": [
             [
              0,
              "#0d0887"
             ],
             [
              0.1111111111111111,
              "#46039f"
             ],
             [
              0.2222222222222222,
              "#7201a8"
             ],
             [
              0.3333333333333333,
              "#9c179e"
             ],
             [
              0.4444444444444444,
              "#bd3786"
             ],
             [
              0.5555555555555556,
              "#d8576b"
             ],
             [
              0.6666666666666666,
              "#ed7953"
             ],
             [
              0.7777777777777778,
              "#fb9f3a"
             ],
             [
              0.8888888888888888,
              "#fdca26"
             ],
             [
              1,
              "#f0f921"
             ]
            ],
            "type": "histogram2d"
           }
          ],
          "histogram2dcontour": [
           {
            "colorbar": {
             "outlinewidth": 0,
             "ticks": ""
            },
            "colorscale": [
             [
              0,
              "#0d0887"
             ],
             [
              0.1111111111111111,
              "#46039f"
             ],
             [
              0.2222222222222222,
              "#7201a8"
             ],
             [
              0.3333333333333333,
              "#9c179e"
             ],
             [
              0.4444444444444444,
              "#bd3786"
             ],
             [
              0.5555555555555556,
              "#d8576b"
             ],
             [
              0.6666666666666666,
              "#ed7953"
             ],
             [
              0.7777777777777778,
              "#fb9f3a"
             ],
             [
              0.8888888888888888,
              "#fdca26"
             ],
             [
              1,
              "#f0f921"
             ]
            ],
            "type": "histogram2dcontour"
           }
          ],
          "mesh3d": [
           {
            "colorbar": {
             "outlinewidth": 0,
             "ticks": ""
            },
            "type": "mesh3d"
           }
          ],
          "parcoords": [
           {
            "line": {
             "colorbar": {
              "outlinewidth": 0,
              "ticks": ""
             }
            },
            "type": "parcoords"
           }
          ],
          "pie": [
           {
            "automargin": true,
            "type": "pie"
           }
          ],
          "scatter": [
           {
            "fillpattern": {
             "fillmode": "overlay",
             "size": 10,
             "solidity": 0.2
            },
            "type": "scatter"
           }
          ],
          "scatter3d": [
           {
            "line": {
             "colorbar": {
              "outlinewidth": 0,
              "ticks": ""
             }
            },
            "marker": {
             "colorbar": {
              "outlinewidth": 0,
              "ticks": ""
             }
            },
            "type": "scatter3d"
           }
          ],
          "scattercarpet": [
           {
            "marker": {
             "colorbar": {
              "outlinewidth": 0,
              "ticks": ""
             }
            },
            "type": "scattercarpet"
           }
          ],
          "scattergeo": [
           {
            "marker": {
             "colorbar": {
              "outlinewidth": 0,
              "ticks": ""
             }
            },
            "type": "scattergeo"
           }
          ],
          "scattergl": [
           {
            "marker": {
             "colorbar": {
              "outlinewidth": 0,
              "ticks": ""
             }
            },
            "type": "scattergl"
           }
          ],
          "scattermapbox": [
           {
            "marker": {
             "colorbar": {
              "outlinewidth": 0,
              "ticks": ""
             }
            },
            "type": "scattermapbox"
           }
          ],
          "scatterpolar": [
           {
            "marker": {
             "colorbar": {
              "outlinewidth": 0,
              "ticks": ""
             }
            },
            "type": "scatterpolar"
           }
          ],
          "scatterpolargl": [
           {
            "marker": {
             "colorbar": {
              "outlinewidth": 0,
              "ticks": ""
             }
            },
            "type": "scatterpolargl"
           }
          ],
          "scatterternary": [
           {
            "marker": {
             "colorbar": {
              "outlinewidth": 0,
              "ticks": ""
             }
            },
            "type": "scatterternary"
           }
          ],
          "surface": [
           {
            "colorbar": {
             "outlinewidth": 0,
             "ticks": ""
            },
            "colorscale": [
             [
              0,
              "#0d0887"
             ],
             [
              0.1111111111111111,
              "#46039f"
             ],
             [
              0.2222222222222222,
              "#7201a8"
             ],
             [
              0.3333333333333333,
              "#9c179e"
             ],
             [
              0.4444444444444444,
              "#bd3786"
             ],
             [
              0.5555555555555556,
              "#d8576b"
             ],
             [
              0.6666666666666666,
              "#ed7953"
             ],
             [
              0.7777777777777778,
              "#fb9f3a"
             ],
             [
              0.8888888888888888,
              "#fdca26"
             ],
             [
              1,
              "#f0f921"
             ]
            ],
            "type": "surface"
           }
          ],
          "table": [
           {
            "cells": {
             "fill": {
              "color": "#EBF0F8"
             },
             "line": {
              "color": "white"
             }
            },
            "header": {
             "fill": {
              "color": "#C8D4E3"
             },
             "line": {
              "color": "white"
             }
            },
            "type": "table"
           }
          ]
         },
         "layout": {
          "annotationdefaults": {
           "arrowcolor": "#2a3f5f",
           "arrowhead": 0,
           "arrowwidth": 1
          },
          "autotypenumbers": "strict",
          "coloraxis": {
           "colorbar": {
            "outlinewidth": 0,
            "ticks": ""
           }
          },
          "colorscale": {
           "diverging": [
            [
             0,
             "#8e0152"
            ],
            [
             0.1,
             "#c51b7d"
            ],
            [
             0.2,
             "#de77ae"
            ],
            [
             0.3,
             "#f1b6da"
            ],
            [
             0.4,
             "#fde0ef"
            ],
            [
             0.5,
             "#f7f7f7"
            ],
            [
             0.6,
             "#e6f5d0"
            ],
            [
             0.7,
             "#b8e186"
            ],
            [
             0.8,
             "#7fbc41"
            ],
            [
             0.9,
             "#4d9221"
            ],
            [
             1,
             "#276419"
            ]
           ],
           "sequential": [
            [
             0,
             "#0d0887"
            ],
            [
             0.1111111111111111,
             "#46039f"
            ],
            [
             0.2222222222222222,
             "#7201a8"
            ],
            [
             0.3333333333333333,
             "#9c179e"
            ],
            [
             0.4444444444444444,
             "#bd3786"
            ],
            [
             0.5555555555555556,
             "#d8576b"
            ],
            [
             0.6666666666666666,
             "#ed7953"
            ],
            [
             0.7777777777777778,
             "#fb9f3a"
            ],
            [
             0.8888888888888888,
             "#fdca26"
            ],
            [
             1,
             "#f0f921"
            ]
           ],
           "sequentialminus": [
            [
             0,
             "#0d0887"
            ],
            [
             0.1111111111111111,
             "#46039f"
            ],
            [
             0.2222222222222222,
             "#7201a8"
            ],
            [
             0.3333333333333333,
             "#9c179e"
            ],
            [
             0.4444444444444444,
             "#bd3786"
            ],
            [
             0.5555555555555556,
             "#d8576b"
            ],
            [
             0.6666666666666666,
             "#ed7953"
            ],
            [
             0.7777777777777778,
             "#fb9f3a"
            ],
            [
             0.8888888888888888,
             "#fdca26"
            ],
            [
             1,
             "#f0f921"
            ]
           ]
          },
          "colorway": [
           "#636efa",
           "#EF553B",
           "#00cc96",
           "#ab63fa",
           "#FFA15A",
           "#19d3f3",
           "#FF6692",
           "#B6E880",
           "#FF97FF",
           "#FECB52"
          ],
          "font": {
           "color": "#2a3f5f"
          },
          "geo": {
           "bgcolor": "white",
           "lakecolor": "white",
           "landcolor": "#E5ECF6",
           "showlakes": true,
           "showland": true,
           "subunitcolor": "white"
          },
          "hoverlabel": {
           "align": "left"
          },
          "hovermode": "closest",
          "mapbox": {
           "style": "light"
          },
          "paper_bgcolor": "white",
          "plot_bgcolor": "#E5ECF6",
          "polar": {
           "angularaxis": {
            "gridcolor": "white",
            "linecolor": "white",
            "ticks": ""
           },
           "bgcolor": "#E5ECF6",
           "radialaxis": {
            "gridcolor": "white",
            "linecolor": "white",
            "ticks": ""
           }
          },
          "scene": {
           "xaxis": {
            "backgroundcolor": "#E5ECF6",
            "gridcolor": "white",
            "gridwidth": 2,
            "linecolor": "white",
            "showbackground": true,
            "ticks": "",
            "zerolinecolor": "white"
           },
           "yaxis": {
            "backgroundcolor": "#E5ECF6",
            "gridcolor": "white",
            "gridwidth": 2,
            "linecolor": "white",
            "showbackground": true,
            "ticks": "",
            "zerolinecolor": "white"
           },
           "zaxis": {
            "backgroundcolor": "#E5ECF6",
            "gridcolor": "white",
            "gridwidth": 2,
            "linecolor": "white",
            "showbackground": true,
            "ticks": "",
            "zerolinecolor": "white"
           }
          },
          "shapedefaults": {
           "line": {
            "color": "#2a3f5f"
           }
          },
          "ternary": {
           "aaxis": {
            "gridcolor": "white",
            "linecolor": "white",
            "ticks": ""
           },
           "baxis": {
            "gridcolor": "white",
            "linecolor": "white",
            "ticks": ""
           },
           "bgcolor": "#E5ECF6",
           "caxis": {
            "gridcolor": "white",
            "linecolor": "white",
            "ticks": ""
           }
          },
          "title": {
           "x": 0.05
          },
          "xaxis": {
           "automargin": true,
           "gridcolor": "white",
           "linecolor": "white",
           "ticks": "",
           "title": {
            "standoff": 15
           },
           "zerolinecolor": "white",
           "zerolinewidth": 2
          },
          "yaxis": {
           "automargin": true,
           "gridcolor": "white",
           "linecolor": "white",
           "ticks": "",
           "title": {
            "standoff": 15
           },
           "zerolinecolor": "white",
           "zerolinewidth": 2
          }
         }
        }
       }
      }
     },
     "metadata": {},
     "output_type": "display_data"
    }
   ],
   "source": [
    "treemapsna = px.treemap(game, path=[px.Constant('Rank'), 'Platform'], values='NA_Sales')\n",
    "treemapsna.update_traces(root_color=\"black\")\n",
    "treemapsna.show()"
   ]
  },
  {
   "cell_type": "code",
   "execution_count": 39,
   "metadata": {},
   "outputs": [
    {
     "data": {
      "application/vnd.plotly.v1+json": {
       "config": {
        "plotlyServerURL": "https://plot.ly"
       },
       "data": [
        {
         "branchvalues": "total",
         "domain": {
          "x": [
           0,
           1
          ],
          "y": [
           0,
           1
          ]
         },
         "hovertemplate": "labels=%{label}<br>EU_Sales=%{value}<br>parent=%{parent}<br>id=%{id}<extra></extra>",
         "ids": [
          "Rank/2600",
          "Rank/3DO",
          "Rank/3DS",
          "Rank/DC",
          "Rank/DS",
          "Rank/GB",
          "Rank/GBA",
          "Rank/GC",
          "Rank/GEN",
          "Rank/GG",
          "Rank/N64",
          "Rank/NES",
          "Rank/NG",
          "Rank/PC",
          "Rank/PCFX",
          "Rank/PS",
          "Rank/PS2",
          "Rank/PS3",
          "Rank/PS4",
          "Rank/PSP",
          "Rank/PSV",
          "Rank/SAT",
          "Rank/SCD",
          "Rank/SNES",
          "Rank/TG16",
          "Rank/WS",
          "Rank/Wii",
          "Rank/WiiU",
          "Rank/X360",
          "Rank/XB",
          "Rank/XOne",
          "Rank"
         ],
         "labels": [
          "2600",
          "3DO",
          "3DS",
          "DC",
          "DS",
          "GB",
          "GBA",
          "GC",
          "GEN",
          "GG",
          "N64",
          "NES",
          "NG",
          "PC",
          "PCFX",
          "PS",
          "PS2",
          "PS3",
          "PS4",
          "PSP",
          "PSV",
          "SAT",
          "SCD",
          "SNES",
          "TG16",
          "WS",
          "Wii",
          "WiiU",
          "X360",
          "XB",
          "XOne",
          "Rank"
         ],
         "name": "",
         "parents": [
          "Rank",
          "Rank",
          "Rank",
          "Rank",
          "Rank",
          "Rank",
          "Rank",
          "Rank",
          "Rank",
          "Rank",
          "Rank",
          "Rank",
          "Rank",
          "Rank",
          "Rank",
          "Rank",
          "Rank",
          "Rank",
          "Rank",
          "Rank",
          "Rank",
          "Rank",
          "Rank",
          "Rank",
          "Rank",
          "Rank",
          "Rank",
          "Rank",
          "Rank",
          "Rank",
          "Rank",
          ""
         ],
         "root": {
          "color": "grey"
         },
         "type": "treemap",
         "values": [
          4.86,
          0,
          58.29,
          1.69,
          194.05,
          47.51,
          72.49,
          38.32,
          5.52,
          0,
          41.03,
          21.15,
          0,
          137.35,
          0,
          212.38,
          332.63,
          340.47,
          123.7,
          67.16,
          16.27,
          0.54,
          0.36,
          19.04,
          0,
          0,
          264.35,
          24.23,
          278,
          59.65,
          45.65,
          2406.69
         ]
        }
       ],
       "layout": {
        "legend": {
         "tracegroupgap": 0
        },
        "margin": {
         "t": 60
        },
        "template": {
         "data": {
          "bar": [
           {
            "error_x": {
             "color": "#2a3f5f"
            },
            "error_y": {
             "color": "#2a3f5f"
            },
            "marker": {
             "line": {
              "color": "#E5ECF6",
              "width": 0.5
             },
             "pattern": {
              "fillmode": "overlay",
              "size": 10,
              "solidity": 0.2
             }
            },
            "type": "bar"
           }
          ],
          "barpolar": [
           {
            "marker": {
             "line": {
              "color": "#E5ECF6",
              "width": 0.5
             },
             "pattern": {
              "fillmode": "overlay",
              "size": 10,
              "solidity": 0.2
             }
            },
            "type": "barpolar"
           }
          ],
          "carpet": [
           {
            "aaxis": {
             "endlinecolor": "#2a3f5f",
             "gridcolor": "white",
             "linecolor": "white",
             "minorgridcolor": "white",
             "startlinecolor": "#2a3f5f"
            },
            "baxis": {
             "endlinecolor": "#2a3f5f",
             "gridcolor": "white",
             "linecolor": "white",
             "minorgridcolor": "white",
             "startlinecolor": "#2a3f5f"
            },
            "type": "carpet"
           }
          ],
          "choropleth": [
           {
            "colorbar": {
             "outlinewidth": 0,
             "ticks": ""
            },
            "type": "choropleth"
           }
          ],
          "contour": [
           {
            "colorbar": {
             "outlinewidth": 0,
             "ticks": ""
            },
            "colorscale": [
             [
              0,
              "#0d0887"
             ],
             [
              0.1111111111111111,
              "#46039f"
             ],
             [
              0.2222222222222222,
              "#7201a8"
             ],
             [
              0.3333333333333333,
              "#9c179e"
             ],
             [
              0.4444444444444444,
              "#bd3786"
             ],
             [
              0.5555555555555556,
              "#d8576b"
             ],
             [
              0.6666666666666666,
              "#ed7953"
             ],
             [
              0.7777777777777778,
              "#fb9f3a"
             ],
             [
              0.8888888888888888,
              "#fdca26"
             ],
             [
              1,
              "#f0f921"
             ]
            ],
            "type": "contour"
           }
          ],
          "contourcarpet": [
           {
            "colorbar": {
             "outlinewidth": 0,
             "ticks": ""
            },
            "type": "contourcarpet"
           }
          ],
          "heatmap": [
           {
            "colorbar": {
             "outlinewidth": 0,
             "ticks": ""
            },
            "colorscale": [
             [
              0,
              "#0d0887"
             ],
             [
              0.1111111111111111,
              "#46039f"
             ],
             [
              0.2222222222222222,
              "#7201a8"
             ],
             [
              0.3333333333333333,
              "#9c179e"
             ],
             [
              0.4444444444444444,
              "#bd3786"
             ],
             [
              0.5555555555555556,
              "#d8576b"
             ],
             [
              0.6666666666666666,
              "#ed7953"
             ],
             [
              0.7777777777777778,
              "#fb9f3a"
             ],
             [
              0.8888888888888888,
              "#fdca26"
             ],
             [
              1,
              "#f0f921"
             ]
            ],
            "type": "heatmap"
           }
          ],
          "heatmapgl": [
           {
            "colorbar": {
             "outlinewidth": 0,
             "ticks": ""
            },
            "colorscale": [
             [
              0,
              "#0d0887"
             ],
             [
              0.1111111111111111,
              "#46039f"
             ],
             [
              0.2222222222222222,
              "#7201a8"
             ],
             [
              0.3333333333333333,
              "#9c179e"
             ],
             [
              0.4444444444444444,
              "#bd3786"
             ],
             [
              0.5555555555555556,
              "#d8576b"
             ],
             [
              0.6666666666666666,
              "#ed7953"
             ],
             [
              0.7777777777777778,
              "#fb9f3a"
             ],
             [
              0.8888888888888888,
              "#fdca26"
             ],
             [
              1,
              "#f0f921"
             ]
            ],
            "type": "heatmapgl"
           }
          ],
          "histogram": [
           {
            "marker": {
             "pattern": {
              "fillmode": "overlay",
              "size": 10,
              "solidity": 0.2
             }
            },
            "type": "histogram"
           }
          ],
          "histogram2d": [
           {
            "colorbar": {
             "outlinewidth": 0,
             "ticks": ""
            },
            "colorscale": [
             [
              0,
              "#0d0887"
             ],
             [
              0.1111111111111111,
              "#46039f"
             ],
             [
              0.2222222222222222,
              "#7201a8"
             ],
             [
              0.3333333333333333,
              "#9c179e"
             ],
             [
              0.4444444444444444,
              "#bd3786"
             ],
             [
              0.5555555555555556,
              "#d8576b"
             ],
             [
              0.6666666666666666,
              "#ed7953"
             ],
             [
              0.7777777777777778,
              "#fb9f3a"
             ],
             [
              0.8888888888888888,
              "#fdca26"
             ],
             [
              1,
              "#f0f921"
             ]
            ],
            "type": "histogram2d"
           }
          ],
          "histogram2dcontour": [
           {
            "colorbar": {
             "outlinewidth": 0,
             "ticks": ""
            },
            "colorscale": [
             [
              0,
              "#0d0887"
             ],
             [
              0.1111111111111111,
              "#46039f"
             ],
             [
              0.2222222222222222,
              "#7201a8"
             ],
             [
              0.3333333333333333,
              "#9c179e"
             ],
             [
              0.4444444444444444,
              "#bd3786"
             ],
             [
              0.5555555555555556,
              "#d8576b"
             ],
             [
              0.6666666666666666,
              "#ed7953"
             ],
             [
              0.7777777777777778,
              "#fb9f3a"
             ],
             [
              0.8888888888888888,
              "#fdca26"
             ],
             [
              1,
              "#f0f921"
             ]
            ],
            "type": "histogram2dcontour"
           }
          ],
          "mesh3d": [
           {
            "colorbar": {
             "outlinewidth": 0,
             "ticks": ""
            },
            "type": "mesh3d"
           }
          ],
          "parcoords": [
           {
            "line": {
             "colorbar": {
              "outlinewidth": 0,
              "ticks": ""
             }
            },
            "type": "parcoords"
           }
          ],
          "pie": [
           {
            "automargin": true,
            "type": "pie"
           }
          ],
          "scatter": [
           {
            "fillpattern": {
             "fillmode": "overlay",
             "size": 10,
             "solidity": 0.2
            },
            "type": "scatter"
           }
          ],
          "scatter3d": [
           {
            "line": {
             "colorbar": {
              "outlinewidth": 0,
              "ticks": ""
             }
            },
            "marker": {
             "colorbar": {
              "outlinewidth": 0,
              "ticks": ""
             }
            },
            "type": "scatter3d"
           }
          ],
          "scattercarpet": [
           {
            "marker": {
             "colorbar": {
              "outlinewidth": 0,
              "ticks": ""
             }
            },
            "type": "scattercarpet"
           }
          ],
          "scattergeo": [
           {
            "marker": {
             "colorbar": {
              "outlinewidth": 0,
              "ticks": ""
             }
            },
            "type": "scattergeo"
           }
          ],
          "scattergl": [
           {
            "marker": {
             "colorbar": {
              "outlinewidth": 0,
              "ticks": ""
             }
            },
            "type": "scattergl"
           }
          ],
          "scattermapbox": [
           {
            "marker": {
             "colorbar": {
              "outlinewidth": 0,
              "ticks": ""
             }
            },
            "type": "scattermapbox"
           }
          ],
          "scatterpolar": [
           {
            "marker": {
             "colorbar": {
              "outlinewidth": 0,
              "ticks": ""
             }
            },
            "type": "scatterpolar"
           }
          ],
          "scatterpolargl": [
           {
            "marker": {
             "colorbar": {
              "outlinewidth": 0,
              "ticks": ""
             }
            },
            "type": "scatterpolargl"
           }
          ],
          "scatterternary": [
           {
            "marker": {
             "colorbar": {
              "outlinewidth": 0,
              "ticks": ""
             }
            },
            "type": "scatterternary"
           }
          ],
          "surface": [
           {
            "colorbar": {
             "outlinewidth": 0,
             "ticks": ""
            },
            "colorscale": [
             [
              0,
              "#0d0887"
             ],
             [
              0.1111111111111111,
              "#46039f"
             ],
             [
              0.2222222222222222,
              "#7201a8"
             ],
             [
              0.3333333333333333,
              "#9c179e"
             ],
             [
              0.4444444444444444,
              "#bd3786"
             ],
             [
              0.5555555555555556,
              "#d8576b"
             ],
             [
              0.6666666666666666,
              "#ed7953"
             ],
             [
              0.7777777777777778,
              "#fb9f3a"
             ],
             [
              0.8888888888888888,
              "#fdca26"
             ],
             [
              1,
              "#f0f921"
             ]
            ],
            "type": "surface"
           }
          ],
          "table": [
           {
            "cells": {
             "fill": {
              "color": "#EBF0F8"
             },
             "line": {
              "color": "white"
             }
            },
            "header": {
             "fill": {
              "color": "#C8D4E3"
             },
             "line": {
              "color": "white"
             }
            },
            "type": "table"
           }
          ]
         },
         "layout": {
          "annotationdefaults": {
           "arrowcolor": "#2a3f5f",
           "arrowhead": 0,
           "arrowwidth": 1
          },
          "autotypenumbers": "strict",
          "coloraxis": {
           "colorbar": {
            "outlinewidth": 0,
            "ticks": ""
           }
          },
          "colorscale": {
           "diverging": [
            [
             0,
             "#8e0152"
            ],
            [
             0.1,
             "#c51b7d"
            ],
            [
             0.2,
             "#de77ae"
            ],
            [
             0.3,
             "#f1b6da"
            ],
            [
             0.4,
             "#fde0ef"
            ],
            [
             0.5,
             "#f7f7f7"
            ],
            [
             0.6,
             "#e6f5d0"
            ],
            [
             0.7,
             "#b8e186"
            ],
            [
             0.8,
             "#7fbc41"
            ],
            [
             0.9,
             "#4d9221"
            ],
            [
             1,
             "#276419"
            ]
           ],
           "sequential": [
            [
             0,
             "#0d0887"
            ],
            [
             0.1111111111111111,
             "#46039f"
            ],
            [
             0.2222222222222222,
             "#7201a8"
            ],
            [
             0.3333333333333333,
             "#9c179e"
            ],
            [
             0.4444444444444444,
             "#bd3786"
            ],
            [
             0.5555555555555556,
             "#d8576b"
            ],
            [
             0.6666666666666666,
             "#ed7953"
            ],
            [
             0.7777777777777778,
             "#fb9f3a"
            ],
            [
             0.8888888888888888,
             "#fdca26"
            ],
            [
             1,
             "#f0f921"
            ]
           ],
           "sequentialminus": [
            [
             0,
             "#0d0887"
            ],
            [
             0.1111111111111111,
             "#46039f"
            ],
            [
             0.2222222222222222,
             "#7201a8"
            ],
            [
             0.3333333333333333,
             "#9c179e"
            ],
            [
             0.4444444444444444,
             "#bd3786"
            ],
            [
             0.5555555555555556,
             "#d8576b"
            ],
            [
             0.6666666666666666,
             "#ed7953"
            ],
            [
             0.7777777777777778,
             "#fb9f3a"
            ],
            [
             0.8888888888888888,
             "#fdca26"
            ],
            [
             1,
             "#f0f921"
            ]
           ]
          },
          "colorway": [
           "#636efa",
           "#EF553B",
           "#00cc96",
           "#ab63fa",
           "#FFA15A",
           "#19d3f3",
           "#FF6692",
           "#B6E880",
           "#FF97FF",
           "#FECB52"
          ],
          "font": {
           "color": "#2a3f5f"
          },
          "geo": {
           "bgcolor": "white",
           "lakecolor": "white",
           "landcolor": "#E5ECF6",
           "showlakes": true,
           "showland": true,
           "subunitcolor": "white"
          },
          "hoverlabel": {
           "align": "left"
          },
          "hovermode": "closest",
          "mapbox": {
           "style": "light"
          },
          "paper_bgcolor": "white",
          "plot_bgcolor": "#E5ECF6",
          "polar": {
           "angularaxis": {
            "gridcolor": "white",
            "linecolor": "white",
            "ticks": ""
           },
           "bgcolor": "#E5ECF6",
           "radialaxis": {
            "gridcolor": "white",
            "linecolor": "white",
            "ticks": ""
           }
          },
          "scene": {
           "xaxis": {
            "backgroundcolor": "#E5ECF6",
            "gridcolor": "white",
            "gridwidth": 2,
            "linecolor": "white",
            "showbackground": true,
            "ticks": "",
            "zerolinecolor": "white"
           },
           "yaxis": {
            "backgroundcolor": "#E5ECF6",
            "gridcolor": "white",
            "gridwidth": 2,
            "linecolor": "white",
            "showbackground": true,
            "ticks": "",
            "zerolinecolor": "white"
           },
           "zaxis": {
            "backgroundcolor": "#E5ECF6",
            "gridcolor": "white",
            "gridwidth": 2,
            "linecolor": "white",
            "showbackground": true,
            "ticks": "",
            "zerolinecolor": "white"
           }
          },
          "shapedefaults": {
           "line": {
            "color": "#2a3f5f"
           }
          },
          "ternary": {
           "aaxis": {
            "gridcolor": "white",
            "linecolor": "white",
            "ticks": ""
           },
           "baxis": {
            "gridcolor": "white",
            "linecolor": "white",
            "ticks": ""
           },
           "bgcolor": "#E5ECF6",
           "caxis": {
            "gridcolor": "white",
            "linecolor": "white",
            "ticks": ""
           }
          },
          "title": {
           "x": 0.05
          },
          "xaxis": {
           "automargin": true,
           "gridcolor": "white",
           "linecolor": "white",
           "ticks": "",
           "title": {
            "standoff": 15
           },
           "zerolinecolor": "white",
           "zerolinewidth": 2
          },
          "yaxis": {
           "automargin": true,
           "gridcolor": "white",
           "linecolor": "white",
           "ticks": "",
           "title": {
            "standoff": 15
           },
           "zerolinecolor": "white",
           "zerolinewidth": 2
          }
         }
        }
       }
      }
     },
     "metadata": {},
     "output_type": "display_data"
    }
   ],
   "source": [
    "treemapseu = px.treemap(game, path=[px.Constant('Rank'), 'Platform'], values='EU_Sales')\n",
    "treemapseu.update_traces(root_color=\"grey\")\n",
    "treemapseu.show()"
   ]
  },
  {
   "cell_type": "code",
   "execution_count": 40,
   "metadata": {},
   "outputs": [
    {
     "data": {
      "application/vnd.plotly.v1+json": {
       "config": {
        "plotlyServerURL": "https://plot.ly"
       },
       "data": [
        {
         "branchvalues": "total",
         "domain": {
          "x": [
           0,
           1
          ],
          "y": [
           0,
           1
          ]
         },
         "hovertemplate": "labels=%{label}<br>JP_Sales=%{value}<br>parent=%{parent}<br>id=%{id}<extra></extra>",
         "ids": [
          "Rank/2600",
          "Rank/3DO",
          "Rank/3DS",
          "Rank/DC",
          "Rank/DS",
          "Rank/GB",
          "Rank/GBA",
          "Rank/GC",
          "Rank/GEN",
          "Rank/GG",
          "Rank/N64",
          "Rank/NES",
          "Rank/NG",
          "Rank/PC",
          "Rank/PCFX",
          "Rank/PS",
          "Rank/PS2",
          "Rank/PS3",
          "Rank/PS4",
          "Rank/PSP",
          "Rank/PSV",
          "Rank/SAT",
          "Rank/SCD",
          "Rank/SNES",
          "Rank/TG16",
          "Rank/WS",
          "Rank/Wii",
          "Rank/WiiU",
          "Rank/X360",
          "Rank/XB",
          "Rank/XOne",
          "Rank"
         ],
         "labels": [
          "2600",
          "3DO",
          "3DS",
          "DC",
          "DS",
          "GB",
          "GBA",
          "GC",
          "GEN",
          "GG",
          "N64",
          "NES",
          "NG",
          "PC",
          "PCFX",
          "PS",
          "PS2",
          "PS3",
          "PS4",
          "PSP",
          "PSV",
          "SAT",
          "SCD",
          "SNES",
          "TG16",
          "WS",
          "Wii",
          "WiiU",
          "X360",
          "XB",
          "XOne",
          "Rank"
         ],
         "name": "",
         "parents": [
          "Rank",
          "Rank",
          "Rank",
          "Rank",
          "Rank",
          "Rank",
          "Rank",
          "Rank",
          "Rank",
          "Rank",
          "Rank",
          "Rank",
          "Rank",
          "Rank",
          "Rank",
          "Rank",
          "Rank",
          "Rank",
          "Rank",
          "Rank",
          "Rank",
          "Rank",
          "Rank",
          "Rank",
          "Rank",
          "Rank",
          "Rank",
          "Rank",
          "Rank",
          "Rank",
          "Rank",
          ""
         ],
         "root": {
          "color": "black"
         },
         "type": "treemap",
         "values": [
          0,
          0.1,
          97.3,
          8.56,
          175.02,
          85.12,
          46.56,
          21.34,
          2.67,
          0.04,
          33.76,
          98.65,
          1.44,
          0.16999999999999998,
          0.03,
          139.78,
          137.54,
          79.21000000000001,
          14.3,
          75.89,
          20.86,
          32.26,
          0.45,
          116.55,
          0.16,
          1.42,
          68.28,
          12.790000000000001,
          12.3,
          1.3800000000000001,
          0.34,
          1284.27
         ]
        }
       ],
       "layout": {
        "legend": {
         "tracegroupgap": 0
        },
        "margin": {
         "t": 60
        },
        "template": {
         "data": {
          "bar": [
           {
            "error_x": {
             "color": "#2a3f5f"
            },
            "error_y": {
             "color": "#2a3f5f"
            },
            "marker": {
             "line": {
              "color": "#E5ECF6",
              "width": 0.5
             },
             "pattern": {
              "fillmode": "overlay",
              "size": 10,
              "solidity": 0.2
             }
            },
            "type": "bar"
           }
          ],
          "barpolar": [
           {
            "marker": {
             "line": {
              "color": "#E5ECF6",
              "width": 0.5
             },
             "pattern": {
              "fillmode": "overlay",
              "size": 10,
              "solidity": 0.2
             }
            },
            "type": "barpolar"
           }
          ],
          "carpet": [
           {
            "aaxis": {
             "endlinecolor": "#2a3f5f",
             "gridcolor": "white",
             "linecolor": "white",
             "minorgridcolor": "white",
             "startlinecolor": "#2a3f5f"
            },
            "baxis": {
             "endlinecolor": "#2a3f5f",
             "gridcolor": "white",
             "linecolor": "white",
             "minorgridcolor": "white",
             "startlinecolor": "#2a3f5f"
            },
            "type": "carpet"
           }
          ],
          "choropleth": [
           {
            "colorbar": {
             "outlinewidth": 0,
             "ticks": ""
            },
            "type": "choropleth"
           }
          ],
          "contour": [
           {
            "colorbar": {
             "outlinewidth": 0,
             "ticks": ""
            },
            "colorscale": [
             [
              0,
              "#0d0887"
             ],
             [
              0.1111111111111111,
              "#46039f"
             ],
             [
              0.2222222222222222,
              "#7201a8"
             ],
             [
              0.3333333333333333,
              "#9c179e"
             ],
             [
              0.4444444444444444,
              "#bd3786"
             ],
             [
              0.5555555555555556,
              "#d8576b"
             ],
             [
              0.6666666666666666,
              "#ed7953"
             ],
             [
              0.7777777777777778,
              "#fb9f3a"
             ],
             [
              0.8888888888888888,
              "#fdca26"
             ],
             [
              1,
              "#f0f921"
             ]
            ],
            "type": "contour"
           }
          ],
          "contourcarpet": [
           {
            "colorbar": {
             "outlinewidth": 0,
             "ticks": ""
            },
            "type": "contourcarpet"
           }
          ],
          "heatmap": [
           {
            "colorbar": {
             "outlinewidth": 0,
             "ticks": ""
            },
            "colorscale": [
             [
              0,
              "#0d0887"
             ],
             [
              0.1111111111111111,
              "#46039f"
             ],
             [
              0.2222222222222222,
              "#7201a8"
             ],
             [
              0.3333333333333333,
              "#9c179e"
             ],
             [
              0.4444444444444444,
              "#bd3786"
             ],
             [
              0.5555555555555556,
              "#d8576b"
             ],
             [
              0.6666666666666666,
              "#ed7953"
             ],
             [
              0.7777777777777778,
              "#fb9f3a"
             ],
             [
              0.8888888888888888,
              "#fdca26"
             ],
             [
              1,
              "#f0f921"
             ]
            ],
            "type": "heatmap"
           }
          ],
          "heatmapgl": [
           {
            "colorbar": {
             "outlinewidth": 0,
             "ticks": ""
            },
            "colorscale": [
             [
              0,
              "#0d0887"
             ],
             [
              0.1111111111111111,
              "#46039f"
             ],
             [
              0.2222222222222222,
              "#7201a8"
             ],
             [
              0.3333333333333333,
              "#9c179e"
             ],
             [
              0.4444444444444444,
              "#bd3786"
             ],
             [
              0.5555555555555556,
              "#d8576b"
             ],
             [
              0.6666666666666666,
              "#ed7953"
             ],
             [
              0.7777777777777778,
              "#fb9f3a"
             ],
             [
              0.8888888888888888,
              "#fdca26"
             ],
             [
              1,
              "#f0f921"
             ]
            ],
            "type": "heatmapgl"
           }
          ],
          "histogram": [
           {
            "marker": {
             "pattern": {
              "fillmode": "overlay",
              "size": 10,
              "solidity": 0.2
             }
            },
            "type": "histogram"
           }
          ],
          "histogram2d": [
           {
            "colorbar": {
             "outlinewidth": 0,
             "ticks": ""
            },
            "colorscale": [
             [
              0,
              "#0d0887"
             ],
             [
              0.1111111111111111,
              "#46039f"
             ],
             [
              0.2222222222222222,
              "#7201a8"
             ],
             [
              0.3333333333333333,
              "#9c179e"
             ],
             [
              0.4444444444444444,
              "#bd3786"
             ],
             [
              0.5555555555555556,
              "#d8576b"
             ],
             [
              0.6666666666666666,
              "#ed7953"
             ],
             [
              0.7777777777777778,
              "#fb9f3a"
             ],
             [
              0.8888888888888888,
              "#fdca26"
             ],
             [
              1,
              "#f0f921"
             ]
            ],
            "type": "histogram2d"
           }
          ],
          "histogram2dcontour": [
           {
            "colorbar": {
             "outlinewidth": 0,
             "ticks": ""
            },
            "colorscale": [
             [
              0,
              "#0d0887"
             ],
             [
              0.1111111111111111,
              "#46039f"
             ],
             [
              0.2222222222222222,
              "#7201a8"
             ],
             [
              0.3333333333333333,
              "#9c179e"
             ],
             [
              0.4444444444444444,
              "#bd3786"
             ],
             [
              0.5555555555555556,
              "#d8576b"
             ],
             [
              0.6666666666666666,
              "#ed7953"
             ],
             [
              0.7777777777777778,
              "#fb9f3a"
             ],
             [
              0.8888888888888888,
              "#fdca26"
             ],
             [
              1,
              "#f0f921"
             ]
            ],
            "type": "histogram2dcontour"
           }
          ],
          "mesh3d": [
           {
            "colorbar": {
             "outlinewidth": 0,
             "ticks": ""
            },
            "type": "mesh3d"
           }
          ],
          "parcoords": [
           {
            "line": {
             "colorbar": {
              "outlinewidth": 0,
              "ticks": ""
             }
            },
            "type": "parcoords"
           }
          ],
          "pie": [
           {
            "automargin": true,
            "type": "pie"
           }
          ],
          "scatter": [
           {
            "fillpattern": {
             "fillmode": "overlay",
             "size": 10,
             "solidity": 0.2
            },
            "type": "scatter"
           }
          ],
          "scatter3d": [
           {
            "line": {
             "colorbar": {
              "outlinewidth": 0,
              "ticks": ""
             }
            },
            "marker": {
             "colorbar": {
              "outlinewidth": 0,
              "ticks": ""
             }
            },
            "type": "scatter3d"
           }
          ],
          "scattercarpet": [
           {
            "marker": {
             "colorbar": {
              "outlinewidth": 0,
              "ticks": ""
             }
            },
            "type": "scattercarpet"
           }
          ],
          "scattergeo": [
           {
            "marker": {
             "colorbar": {
              "outlinewidth": 0,
              "ticks": ""
             }
            },
            "type": "scattergeo"
           }
          ],
          "scattergl": [
           {
            "marker": {
             "colorbar": {
              "outlinewidth": 0,
              "ticks": ""
             }
            },
            "type": "scattergl"
           }
          ],
          "scattermapbox": [
           {
            "marker": {
             "colorbar": {
              "outlinewidth": 0,
              "ticks": ""
             }
            },
            "type": "scattermapbox"
           }
          ],
          "scatterpolar": [
           {
            "marker": {
             "colorbar": {
              "outlinewidth": 0,
              "ticks": ""
             }
            },
            "type": "scatterpolar"
           }
          ],
          "scatterpolargl": [
           {
            "marker": {
             "colorbar": {
              "outlinewidth": 0,
              "ticks": ""
             }
            },
            "type": "scatterpolargl"
           }
          ],
          "scatterternary": [
           {
            "marker": {
             "colorbar": {
              "outlinewidth": 0,
              "ticks": ""
             }
            },
            "type": "scatterternary"
           }
          ],
          "surface": [
           {
            "colorbar": {
             "outlinewidth": 0,
             "ticks": ""
            },
            "colorscale": [
             [
              0,
              "#0d0887"
             ],
             [
              0.1111111111111111,
              "#46039f"
             ],
             [
              0.2222222222222222,
              "#7201a8"
             ],
             [
              0.3333333333333333,
              "#9c179e"
             ],
             [
              0.4444444444444444,
              "#bd3786"
             ],
             [
              0.5555555555555556,
              "#d8576b"
             ],
             [
              0.6666666666666666,
              "#ed7953"
             ],
             [
              0.7777777777777778,
              "#fb9f3a"
             ],
             [
              0.8888888888888888,
              "#fdca26"
             ],
             [
              1,
              "#f0f921"
             ]
            ],
            "type": "surface"
           }
          ],
          "table": [
           {
            "cells": {
             "fill": {
              "color": "#EBF0F8"
             },
             "line": {
              "color": "white"
             }
            },
            "header": {
             "fill": {
              "color": "#C8D4E3"
             },
             "line": {
              "color": "white"
             }
            },
            "type": "table"
           }
          ]
         },
         "layout": {
          "annotationdefaults": {
           "arrowcolor": "#2a3f5f",
           "arrowhead": 0,
           "arrowwidth": 1
          },
          "autotypenumbers": "strict",
          "coloraxis": {
           "colorbar": {
            "outlinewidth": 0,
            "ticks": ""
           }
          },
          "colorscale": {
           "diverging": [
            [
             0,
             "#8e0152"
            ],
            [
             0.1,
             "#c51b7d"
            ],
            [
             0.2,
             "#de77ae"
            ],
            [
             0.3,
             "#f1b6da"
            ],
            [
             0.4,
             "#fde0ef"
            ],
            [
             0.5,
             "#f7f7f7"
            ],
            [
             0.6,
             "#e6f5d0"
            ],
            [
             0.7,
             "#b8e186"
            ],
            [
             0.8,
             "#7fbc41"
            ],
            [
             0.9,
             "#4d9221"
            ],
            [
             1,
             "#276419"
            ]
           ],
           "sequential": [
            [
             0,
             "#0d0887"
            ],
            [
             0.1111111111111111,
             "#46039f"
            ],
            [
             0.2222222222222222,
             "#7201a8"
            ],
            [
             0.3333333333333333,
             "#9c179e"
            ],
            [
             0.4444444444444444,
             "#bd3786"
            ],
            [
             0.5555555555555556,
             "#d8576b"
            ],
            [
             0.6666666666666666,
             "#ed7953"
            ],
            [
             0.7777777777777778,
             "#fb9f3a"
            ],
            [
             0.8888888888888888,
             "#fdca26"
            ],
            [
             1,
             "#f0f921"
            ]
           ],
           "sequentialminus": [
            [
             0,
             "#0d0887"
            ],
            [
             0.1111111111111111,
             "#46039f"
            ],
            [
             0.2222222222222222,
             "#7201a8"
            ],
            [
             0.3333333333333333,
             "#9c179e"
            ],
            [
             0.4444444444444444,
             "#bd3786"
            ],
            [
             0.5555555555555556,
             "#d8576b"
            ],
            [
             0.6666666666666666,
             "#ed7953"
            ],
            [
             0.7777777777777778,
             "#fb9f3a"
            ],
            [
             0.8888888888888888,
             "#fdca26"
            ],
            [
             1,
             "#f0f921"
            ]
           ]
          },
          "colorway": [
           "#636efa",
           "#EF553B",
           "#00cc96",
           "#ab63fa",
           "#FFA15A",
           "#19d3f3",
           "#FF6692",
           "#B6E880",
           "#FF97FF",
           "#FECB52"
          ],
          "font": {
           "color": "#2a3f5f"
          },
          "geo": {
           "bgcolor": "white",
           "lakecolor": "white",
           "landcolor": "#E5ECF6",
           "showlakes": true,
           "showland": true,
           "subunitcolor": "white"
          },
          "hoverlabel": {
           "align": "left"
          },
          "hovermode": "closest",
          "mapbox": {
           "style": "light"
          },
          "paper_bgcolor": "white",
          "plot_bgcolor": "#E5ECF6",
          "polar": {
           "angularaxis": {
            "gridcolor": "white",
            "linecolor": "white",
            "ticks": ""
           },
           "bgcolor": "#E5ECF6",
           "radialaxis": {
            "gridcolor": "white",
            "linecolor": "white",
            "ticks": ""
           }
          },
          "scene": {
           "xaxis": {
            "backgroundcolor": "#E5ECF6",
            "gridcolor": "white",
            "gridwidth": 2,
            "linecolor": "white",
            "showbackground": true,
            "ticks": "",
            "zerolinecolor": "white"
           },
           "yaxis": {
            "backgroundcolor": "#E5ECF6",
            "gridcolor": "white",
            "gridwidth": 2,
            "linecolor": "white",
            "showbackground": true,
            "ticks": "",
            "zerolinecolor": "white"
           },
           "zaxis": {
            "backgroundcolor": "#E5ECF6",
            "gridcolor": "white",
            "gridwidth": 2,
            "linecolor": "white",
            "showbackground": true,
            "ticks": "",
            "zerolinecolor": "white"
           }
          },
          "shapedefaults": {
           "line": {
            "color": "#2a3f5f"
           }
          },
          "ternary": {
           "aaxis": {
            "gridcolor": "white",
            "linecolor": "white",
            "ticks": ""
           },
           "baxis": {
            "gridcolor": "white",
            "linecolor": "white",
            "ticks": ""
           },
           "bgcolor": "#E5ECF6",
           "caxis": {
            "gridcolor": "white",
            "linecolor": "white",
            "ticks": ""
           }
          },
          "title": {
           "x": 0.05
          },
          "xaxis": {
           "automargin": true,
           "gridcolor": "white",
           "linecolor": "white",
           "ticks": "",
           "title": {
            "standoff": 15
           },
           "zerolinecolor": "white",
           "zerolinewidth": 2
          },
          "yaxis": {
           "automargin": true,
           "gridcolor": "white",
           "linecolor": "white",
           "ticks": "",
           "title": {
            "standoff": 15
           },
           "zerolinecolor": "white",
           "zerolinewidth": 2
          }
         }
        }
       }
      }
     },
     "metadata": {},
     "output_type": "display_data"
    }
   ],
   "source": [
    "treemapsjp = px.treemap(game, path=[px.Constant('Rank'), 'Platform'], values='JP_Sales')\n",
    "treemapsjp.update_traces(root_color=\"black\")\n",
    "treemapsjp.show()"
   ]
  },
  {
   "cell_type": "code",
   "execution_count": 41,
   "metadata": {},
   "outputs": [
    {
     "data": {
      "application/vnd.plotly.v1+json": {
       "config": {
        "plotlyServerURL": "https://plot.ly"
       },
       "data": [
        {
         "branchvalues": "total",
         "domain": {
          "x": [
           0,
           1
          ],
          "y": [
           0,
           1
          ]
         },
         "hovertemplate": "labels=%{label}<br>Global_Sales=%{value}<br>parent=%{parent}<br>id=%{id}<extra></extra>",
         "ids": [
          "Rank/2600",
          "Rank/3DO",
          "Rank/3DS",
          "Rank/DC",
          "Rank/DS",
          "Rank/GB",
          "Rank/GBA",
          "Rank/GC",
          "Rank/GEN",
          "Rank/GG",
          "Rank/N64",
          "Rank/NES",
          "Rank/NG",
          "Rank/PC",
          "Rank/PCFX",
          "Rank/PS",
          "Rank/PS2",
          "Rank/PS3",
          "Rank/PS4",
          "Rank/PSP",
          "Rank/PSV",
          "Rank/SAT",
          "Rank/SCD",
          "Rank/SNES",
          "Rank/TG16",
          "Rank/WS",
          "Rank/Wii",
          "Rank/WiiU",
          "Rank/X360",
          "Rank/XB",
          "Rank/XOne",
          "Rank"
         ],
         "labels": [
          "2600",
          "3DO",
          "3DS",
          "DC",
          "DS",
          "GB",
          "GBA",
          "GC",
          "GEN",
          "GG",
          "N64",
          "NES",
          "NG",
          "PC",
          "PCFX",
          "PS",
          "PS2",
          "PS3",
          "PS4",
          "PSP",
          "PSV",
          "SAT",
          "SCD",
          "SNES",
          "TG16",
          "WS",
          "Wii",
          "WiiU",
          "X360",
          "XB",
          "XOne",
          "Rank"
         ],
         "name": "",
         "parents": [
          "Rank",
          "Rank",
          "Rank",
          "Rank",
          "Rank",
          "Rank",
          "Rank",
          "Rank",
          "Rank",
          "Rank",
          "Rank",
          "Rank",
          "Rank",
          "Rank",
          "Rank",
          "Rank",
          "Rank",
          "Rank",
          "Rank",
          "Rank",
          "Rank",
          "Rank",
          "Rank",
          "Rank",
          "Rank",
          "Rank",
          "Rank",
          "Rank",
          "Rank",
          "Rank",
          "Rank",
          ""
         ],
         "root": {
          "color": "black"
         },
         "type": "treemap",
         "values": [
          86.57,
          0.1,
          246.27,
          15.97,
          818.91,
          254.42000000000002,
          305.62,
          197.14,
          28.36,
          0.04,
          218.21,
          251.07,
          1.44,
          254.7,
          0.03,
          727.39,
          1233.46,
          949.35,
          278.1,
          291.71,
          61.6,
          33.59,
          1.87,
          200.05,
          0.16,
          1.42,
          909.81,
          81.86,
          969.6,
          252.09,
          141.06,
          8811.97
         ]
        }
       ],
       "layout": {
        "legend": {
         "tracegroupgap": 0
        },
        "margin": {
         "t": 60
        },
        "template": {
         "data": {
          "bar": [
           {
            "error_x": {
             "color": "#2a3f5f"
            },
            "error_y": {
             "color": "#2a3f5f"
            },
            "marker": {
             "line": {
              "color": "#E5ECF6",
              "width": 0.5
             },
             "pattern": {
              "fillmode": "overlay",
              "size": 10,
              "solidity": 0.2
             }
            },
            "type": "bar"
           }
          ],
          "barpolar": [
           {
            "marker": {
             "line": {
              "color": "#E5ECF6",
              "width": 0.5
             },
             "pattern": {
              "fillmode": "overlay",
              "size": 10,
              "solidity": 0.2
             }
            },
            "type": "barpolar"
           }
          ],
          "carpet": [
           {
            "aaxis": {
             "endlinecolor": "#2a3f5f",
             "gridcolor": "white",
             "linecolor": "white",
             "minorgridcolor": "white",
             "startlinecolor": "#2a3f5f"
            },
            "baxis": {
             "endlinecolor": "#2a3f5f",
             "gridcolor": "white",
             "linecolor": "white",
             "minorgridcolor": "white",
             "startlinecolor": "#2a3f5f"
            },
            "type": "carpet"
           }
          ],
          "choropleth": [
           {
            "colorbar": {
             "outlinewidth": 0,
             "ticks": ""
            },
            "type": "choropleth"
           }
          ],
          "contour": [
           {
            "colorbar": {
             "outlinewidth": 0,
             "ticks": ""
            },
            "colorscale": [
             [
              0,
              "#0d0887"
             ],
             [
              0.1111111111111111,
              "#46039f"
             ],
             [
              0.2222222222222222,
              "#7201a8"
             ],
             [
              0.3333333333333333,
              "#9c179e"
             ],
             [
              0.4444444444444444,
              "#bd3786"
             ],
             [
              0.5555555555555556,
              "#d8576b"
             ],
             [
              0.6666666666666666,
              "#ed7953"
             ],
             [
              0.7777777777777778,
              "#fb9f3a"
             ],
             [
              0.8888888888888888,
              "#fdca26"
             ],
             [
              1,
              "#f0f921"
             ]
            ],
            "type": "contour"
           }
          ],
          "contourcarpet": [
           {
            "colorbar": {
             "outlinewidth": 0,
             "ticks": ""
            },
            "type": "contourcarpet"
           }
          ],
          "heatmap": [
           {
            "colorbar": {
             "outlinewidth": 0,
             "ticks": ""
            },
            "colorscale": [
             [
              0,
              "#0d0887"
             ],
             [
              0.1111111111111111,
              "#46039f"
             ],
             [
              0.2222222222222222,
              "#7201a8"
             ],
             [
              0.3333333333333333,
              "#9c179e"
             ],
             [
              0.4444444444444444,
              "#bd3786"
             ],
             [
              0.5555555555555556,
              "#d8576b"
             ],
             [
              0.6666666666666666,
              "#ed7953"
             ],
             [
              0.7777777777777778,
              "#fb9f3a"
             ],
             [
              0.8888888888888888,
              "#fdca26"
             ],
             [
              1,
              "#f0f921"
             ]
            ],
            "type": "heatmap"
           }
          ],
          "heatmapgl": [
           {
            "colorbar": {
             "outlinewidth": 0,
             "ticks": ""
            },
            "colorscale": [
             [
              0,
              "#0d0887"
             ],
             [
              0.1111111111111111,
              "#46039f"
             ],
             [
              0.2222222222222222,
              "#7201a8"
             ],
             [
              0.3333333333333333,
              "#9c179e"
             ],
             [
              0.4444444444444444,
              "#bd3786"
             ],
             [
              0.5555555555555556,
              "#d8576b"
             ],
             [
              0.6666666666666666,
              "#ed7953"
             ],
             [
              0.7777777777777778,
              "#fb9f3a"
             ],
             [
              0.8888888888888888,
              "#fdca26"
             ],
             [
              1,
              "#f0f921"
             ]
            ],
            "type": "heatmapgl"
           }
          ],
          "histogram": [
           {
            "marker": {
             "pattern": {
              "fillmode": "overlay",
              "size": 10,
              "solidity": 0.2
             }
            },
            "type": "histogram"
           }
          ],
          "histogram2d": [
           {
            "colorbar": {
             "outlinewidth": 0,
             "ticks": ""
            },
            "colorscale": [
             [
              0,
              "#0d0887"
             ],
             [
              0.1111111111111111,
              "#46039f"
             ],
             [
              0.2222222222222222,
              "#7201a8"
             ],
             [
              0.3333333333333333,
              "#9c179e"
             ],
             [
              0.4444444444444444,
              "#bd3786"
             ],
             [
              0.5555555555555556,
              "#d8576b"
             ],
             [
              0.6666666666666666,
              "#ed7953"
             ],
             [
              0.7777777777777778,
              "#fb9f3a"
             ],
             [
              0.8888888888888888,
              "#fdca26"
             ],
             [
              1,
              "#f0f921"
             ]
            ],
            "type": "histogram2d"
           }
          ],
          "histogram2dcontour": [
           {
            "colorbar": {
             "outlinewidth": 0,
             "ticks": ""
            },
            "colorscale": [
             [
              0,
              "#0d0887"
             ],
             [
              0.1111111111111111,
              "#46039f"
             ],
             [
              0.2222222222222222,
              "#7201a8"
             ],
             [
              0.3333333333333333,
              "#9c179e"
             ],
             [
              0.4444444444444444,
              "#bd3786"
             ],
             [
              0.5555555555555556,
              "#d8576b"
             ],
             [
              0.6666666666666666,
              "#ed7953"
             ],
             [
              0.7777777777777778,
              "#fb9f3a"
             ],
             [
              0.8888888888888888,
              "#fdca26"
             ],
             [
              1,
              "#f0f921"
             ]
            ],
            "type": "histogram2dcontour"
           }
          ],
          "mesh3d": [
           {
            "colorbar": {
             "outlinewidth": 0,
             "ticks": ""
            },
            "type": "mesh3d"
           }
          ],
          "parcoords": [
           {
            "line": {
             "colorbar": {
              "outlinewidth": 0,
              "ticks": ""
             }
            },
            "type": "parcoords"
           }
          ],
          "pie": [
           {
            "automargin": true,
            "type": "pie"
           }
          ],
          "scatter": [
           {
            "fillpattern": {
             "fillmode": "overlay",
             "size": 10,
             "solidity": 0.2
            },
            "type": "scatter"
           }
          ],
          "scatter3d": [
           {
            "line": {
             "colorbar": {
              "outlinewidth": 0,
              "ticks": ""
             }
            },
            "marker": {
             "colorbar": {
              "outlinewidth": 0,
              "ticks": ""
             }
            },
            "type": "scatter3d"
           }
          ],
          "scattercarpet": [
           {
            "marker": {
             "colorbar": {
              "outlinewidth": 0,
              "ticks": ""
             }
            },
            "type": "scattercarpet"
           }
          ],
          "scattergeo": [
           {
            "marker": {
             "colorbar": {
              "outlinewidth": 0,
              "ticks": ""
             }
            },
            "type": "scattergeo"
           }
          ],
          "scattergl": [
           {
            "marker": {
             "colorbar": {
              "outlinewidth": 0,
              "ticks": ""
             }
            },
            "type": "scattergl"
           }
          ],
          "scattermapbox": [
           {
            "marker": {
             "colorbar": {
              "outlinewidth": 0,
              "ticks": ""
             }
            },
            "type": "scattermapbox"
           }
          ],
          "scatterpolar": [
           {
            "marker": {
             "colorbar": {
              "outlinewidth": 0,
              "ticks": ""
             }
            },
            "type": "scatterpolar"
           }
          ],
          "scatterpolargl": [
           {
            "marker": {
             "colorbar": {
              "outlinewidth": 0,
              "ticks": ""
             }
            },
            "type": "scatterpolargl"
           }
          ],
          "scatterternary": [
           {
            "marker": {
             "colorbar": {
              "outlinewidth": 0,
              "ticks": ""
             }
            },
            "type": "scatterternary"
           }
          ],
          "surface": [
           {
            "colorbar": {
             "outlinewidth": 0,
             "ticks": ""
            },
            "colorscale": [
             [
              0,
              "#0d0887"
             ],
             [
              0.1111111111111111,
              "#46039f"
             ],
             [
              0.2222222222222222,
              "#7201a8"
             ],
             [
              0.3333333333333333,
              "#9c179e"
             ],
             [
              0.4444444444444444,
              "#bd3786"
             ],
             [
              0.5555555555555556,
              "#d8576b"
             ],
             [
              0.6666666666666666,
              "#ed7953"
             ],
             [
              0.7777777777777778,
              "#fb9f3a"
             ],
             [
              0.8888888888888888,
              "#fdca26"
             ],
             [
              1,
              "#f0f921"
             ]
            ],
            "type": "surface"
           }
          ],
          "table": [
           {
            "cells": {
             "fill": {
              "color": "#EBF0F8"
             },
             "line": {
              "color": "white"
             }
            },
            "header": {
             "fill": {
              "color": "#C8D4E3"
             },
             "line": {
              "color": "white"
             }
            },
            "type": "table"
           }
          ]
         },
         "layout": {
          "annotationdefaults": {
           "arrowcolor": "#2a3f5f",
           "arrowhead": 0,
           "arrowwidth": 1
          },
          "autotypenumbers": "strict",
          "coloraxis": {
           "colorbar": {
            "outlinewidth": 0,
            "ticks": ""
           }
          },
          "colorscale": {
           "diverging": [
            [
             0,
             "#8e0152"
            ],
            [
             0.1,
             "#c51b7d"
            ],
            [
             0.2,
             "#de77ae"
            ],
            [
             0.3,
             "#f1b6da"
            ],
            [
             0.4,
             "#fde0ef"
            ],
            [
             0.5,
             "#f7f7f7"
            ],
            [
             0.6,
             "#e6f5d0"
            ],
            [
             0.7,
             "#b8e186"
            ],
            [
             0.8,
             "#7fbc41"
            ],
            [
             0.9,
             "#4d9221"
            ],
            [
             1,
             "#276419"
            ]
           ],
           "sequential": [
            [
             0,
             "#0d0887"
            ],
            [
             0.1111111111111111,
             "#46039f"
            ],
            [
             0.2222222222222222,
             "#7201a8"
            ],
            [
             0.3333333333333333,
             "#9c179e"
            ],
            [
             0.4444444444444444,
             "#bd3786"
            ],
            [
             0.5555555555555556,
             "#d8576b"
            ],
            [
             0.6666666666666666,
             "#ed7953"
            ],
            [
             0.7777777777777778,
             "#fb9f3a"
            ],
            [
             0.8888888888888888,
             "#fdca26"
            ],
            [
             1,
             "#f0f921"
            ]
           ],
           "sequentialminus": [
            [
             0,
             "#0d0887"
            ],
            [
             0.1111111111111111,
             "#46039f"
            ],
            [
             0.2222222222222222,
             "#7201a8"
            ],
            [
             0.3333333333333333,
             "#9c179e"
            ],
            [
             0.4444444444444444,
             "#bd3786"
            ],
            [
             0.5555555555555556,
             "#d8576b"
            ],
            [
             0.6666666666666666,
             "#ed7953"
            ],
            [
             0.7777777777777778,
             "#fb9f3a"
            ],
            [
             0.8888888888888888,
             "#fdca26"
            ],
            [
             1,
             "#f0f921"
            ]
           ]
          },
          "colorway": [
           "#636efa",
           "#EF553B",
           "#00cc96",
           "#ab63fa",
           "#FFA15A",
           "#19d3f3",
           "#FF6692",
           "#B6E880",
           "#FF97FF",
           "#FECB52"
          ],
          "font": {
           "color": "#2a3f5f"
          },
          "geo": {
           "bgcolor": "white",
           "lakecolor": "white",
           "landcolor": "#E5ECF6",
           "showlakes": true,
           "showland": true,
           "subunitcolor": "white"
          },
          "hoverlabel": {
           "align": "left"
          },
          "hovermode": "closest",
          "mapbox": {
           "style": "light"
          },
          "paper_bgcolor": "white",
          "plot_bgcolor": "#E5ECF6",
          "polar": {
           "angularaxis": {
            "gridcolor": "white",
            "linecolor": "white",
            "ticks": ""
           },
           "bgcolor": "#E5ECF6",
           "radialaxis": {
            "gridcolor": "white",
            "linecolor": "white",
            "ticks": ""
           }
          },
          "scene": {
           "xaxis": {
            "backgroundcolor": "#E5ECF6",
            "gridcolor": "white",
            "gridwidth": 2,
            "linecolor": "white",
            "showbackground": true,
            "ticks": "",
            "zerolinecolor": "white"
           },
           "yaxis": {
            "backgroundcolor": "#E5ECF6",
            "gridcolor": "white",
            "gridwidth": 2,
            "linecolor": "white",
            "showbackground": true,
            "ticks": "",
            "zerolinecolor": "white"
           },
           "zaxis": {
            "backgroundcolor": "#E5ECF6",
            "gridcolor": "white",
            "gridwidth": 2,
            "linecolor": "white",
            "showbackground": true,
            "ticks": "",
            "zerolinecolor": "white"
           }
          },
          "shapedefaults": {
           "line": {
            "color": "#2a3f5f"
           }
          },
          "ternary": {
           "aaxis": {
            "gridcolor": "white",
            "linecolor": "white",
            "ticks": ""
           },
           "baxis": {
            "gridcolor": "white",
            "linecolor": "white",
            "ticks": ""
           },
           "bgcolor": "#E5ECF6",
           "caxis": {
            "gridcolor": "white",
            "linecolor": "white",
            "ticks": ""
           }
          },
          "title": {
           "x": 0.05
          },
          "xaxis": {
           "automargin": true,
           "gridcolor": "white",
           "linecolor": "white",
           "ticks": "",
           "title": {
            "standoff": 15
           },
           "zerolinecolor": "white",
           "zerolinewidth": 2
          },
          "yaxis": {
           "automargin": true,
           "gridcolor": "white",
           "linecolor": "white",
           "ticks": "",
           "title": {
            "standoff": 15
           },
           "zerolinecolor": "white",
           "zerolinewidth": 2
          }
         }
        }
       }
      }
     },
     "metadata": {},
     "output_type": "display_data"
    }
   ],
   "source": [
    "treemapsjp = px.treemap(game, path=[px.Constant('Rank'), 'Platform'], values='Global_Sales')\n",
    "treemapsjp.update_traces(root_color=\"black\")\n",
    "treemapsjp.show()"
   ]
  },
  {
   "cell_type": "markdown",
   "metadata": {},
   "source": [
    "#### Como resultado desses quatro últimos gráficos, o resultado geral é pela preferência na América do Norte pela organização **Microsoft**, Europa e resto do planeta pela **Sony** e Japão pela **Nintendo**."
   ]
  }
 ],
 "metadata": {
  "interpreter": {
   "hash": "7b4b4feff2f24a0f0a34464dbe537a36fda679851528fb8735cb41fa49dffb2d"
  },
  "kernelspec": {
   "display_name": "Python 3.9.7 ('base')",
   "language": "python",
   "name": "python3"
  },
  "language_info": {
   "codemirror_mode": {
    "name": "ipython",
    "version": 3
   },
   "file_extension": ".py",
   "mimetype": "text/x-python",
   "name": "python",
   "nbconvert_exporter": "python",
   "pygments_lexer": "ipython3",
   "version": "3.9.7"
  },
  "orig_nbformat": 4
 },
 "nbformat": 4,
 "nbformat_minor": 2
}
